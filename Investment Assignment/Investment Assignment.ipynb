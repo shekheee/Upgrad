{
 "cells": [
  {
   "cell_type": "code",
   "execution_count": 1,
   "metadata": {},
   "outputs": [],
   "source": [
    "#importing data\n",
    "\n",
    "import numpy as np\n",
    "import pandas as pd\n",
    "import matplotlib.pyplot as plt\n",
    "import seaborn as sns\n",
    "%matplotlib inline\n",
    "PATH='~/Downloads/Upgrad/Investment Assignment/Data Files'\n",
    "pd.set_option('display.precision',12)\n",
    "pd.set_option('display.float_format', '{:.2f}'.format)"
   ]
  },
  {
   "cell_type": "markdown",
   "metadata": {},
   "source": [
    "## CHECKPOINT 1"
   ]
  },
  {
   "cell_type": "code",
   "execution_count": 2,
   "metadata": {},
   "outputs": [],
   "source": [
    "#Loading datasets in rounds2 and companies df\n",
    "\n",
    "rounds2 = pd.read_csv(PATH+'/rounds2.csv',encoding = \"ISO-8859-1\")\n",
    "companies = pd.read_csv(PATH+'/companies.txt',sep=\"\\t\",encoding = \"ISO-8859-1\")\n",
    "#chardet"
   ]
  },
  {
   "cell_type": "code",
   "execution_count": 3,
   "metadata": {},
   "outputs": [
    {
     "data": {
      "text/html": [
       "<div>\n",
       "<style scoped>\n",
       "    .dataframe tbody tr th:only-of-type {\n",
       "        vertical-align: middle;\n",
       "    }\n",
       "\n",
       "    .dataframe tbody tr th {\n",
       "        vertical-align: top;\n",
       "    }\n",
       "\n",
       "    .dataframe thead th {\n",
       "        text-align: right;\n",
       "    }\n",
       "</style>\n",
       "<table border=\"1\" class=\"dataframe\">\n",
       "  <thead>\n",
       "    <tr style=\"text-align: right;\">\n",
       "      <th></th>\n",
       "      <th>company_permalink</th>\n",
       "      <th>funding_round_permalink</th>\n",
       "      <th>funding_round_type</th>\n",
       "      <th>funding_round_code</th>\n",
       "      <th>funded_at</th>\n",
       "      <th>raised_amount_usd</th>\n",
       "    </tr>\n",
       "  </thead>\n",
       "  <tbody>\n",
       "    <tr>\n",
       "      <th>0</th>\n",
       "      <td>/organization/-fame</td>\n",
       "      <td>/funding-round/9a01d05418af9f794eebff7ace91f638</td>\n",
       "      <td>venture</td>\n",
       "      <td>B</td>\n",
       "      <td>05-01-2015</td>\n",
       "      <td>10000000.00</td>\n",
       "    </tr>\n",
       "    <tr>\n",
       "      <th>1</th>\n",
       "      <td>/ORGANIZATION/-QOUNTER</td>\n",
       "      <td>/funding-round/22dacff496eb7acb2b901dec1dfe5633</td>\n",
       "      <td>venture</td>\n",
       "      <td>A</td>\n",
       "      <td>14-10-2014</td>\n",
       "      <td>nan</td>\n",
       "    </tr>\n",
       "    <tr>\n",
       "      <th>2</th>\n",
       "      <td>/organization/-qounter</td>\n",
       "      <td>/funding-round/b44fbb94153f6cdef13083530bb48030</td>\n",
       "      <td>seed</td>\n",
       "      <td>NaN</td>\n",
       "      <td>01-03-2014</td>\n",
       "      <td>700000.00</td>\n",
       "    </tr>\n",
       "    <tr>\n",
       "      <th>3</th>\n",
       "      <td>/ORGANIZATION/-THE-ONE-OF-THEM-INC-</td>\n",
       "      <td>/funding-round/650b8f704416801069bb178a1418776b</td>\n",
       "      <td>venture</td>\n",
       "      <td>B</td>\n",
       "      <td>30-01-2014</td>\n",
       "      <td>3406878.00</td>\n",
       "    </tr>\n",
       "    <tr>\n",
       "      <th>4</th>\n",
       "      <td>/organization/0-6-com</td>\n",
       "      <td>/funding-round/5727accaeaa57461bd22a9bdd945382d</td>\n",
       "      <td>venture</td>\n",
       "      <td>A</td>\n",
       "      <td>19-03-2008</td>\n",
       "      <td>2000000.00</td>\n",
       "    </tr>\n",
       "  </tbody>\n",
       "</table>\n",
       "</div>"
      ],
      "text/plain": [
       "                     company_permalink  \\\n",
       "0                  /organization/-fame   \n",
       "1               /ORGANIZATION/-QOUNTER   \n",
       "2               /organization/-qounter   \n",
       "3  /ORGANIZATION/-THE-ONE-OF-THEM-INC-   \n",
       "4                /organization/0-6-com   \n",
       "\n",
       "                           funding_round_permalink funding_round_type  \\\n",
       "0  /funding-round/9a01d05418af9f794eebff7ace91f638            venture   \n",
       "1  /funding-round/22dacff496eb7acb2b901dec1dfe5633            venture   \n",
       "2  /funding-round/b44fbb94153f6cdef13083530bb48030               seed   \n",
       "3  /funding-round/650b8f704416801069bb178a1418776b            venture   \n",
       "4  /funding-round/5727accaeaa57461bd22a9bdd945382d            venture   \n",
       "\n",
       "  funding_round_code   funded_at  raised_amount_usd  \n",
       "0                  B  05-01-2015        10000000.00  \n",
       "1                  A  14-10-2014                nan  \n",
       "2                NaN  01-03-2014          700000.00  \n",
       "3                  B  30-01-2014         3406878.00  \n",
       "4                  A  19-03-2008         2000000.00  "
      ]
     },
     "execution_count": 3,
     "metadata": {},
     "output_type": "execute_result"
    }
   ],
   "source": [
    "#Checking the head() of rounds2\n",
    "\n",
    "rounds2.head()"
   ]
  },
  {
   "cell_type": "code",
   "execution_count": 4,
   "metadata": {},
   "outputs": [
    {
     "data": {
      "text/html": [
       "<div>\n",
       "<style scoped>\n",
       "    .dataframe tbody tr th:only-of-type {\n",
       "        vertical-align: middle;\n",
       "    }\n",
       "\n",
       "    .dataframe tbody tr th {\n",
       "        vertical-align: top;\n",
       "    }\n",
       "\n",
       "    .dataframe thead th {\n",
       "        text-align: right;\n",
       "    }\n",
       "</style>\n",
       "<table border=\"1\" class=\"dataframe\">\n",
       "  <thead>\n",
       "    <tr style=\"text-align: right;\">\n",
       "      <th></th>\n",
       "      <th>permalink</th>\n",
       "      <th>name</th>\n",
       "      <th>homepage_url</th>\n",
       "      <th>category_list</th>\n",
       "      <th>status</th>\n",
       "      <th>country_code</th>\n",
       "      <th>state_code</th>\n",
       "      <th>region</th>\n",
       "      <th>city</th>\n",
       "      <th>founded_at</th>\n",
       "    </tr>\n",
       "  </thead>\n",
       "  <tbody>\n",
       "    <tr>\n",
       "      <th>0</th>\n",
       "      <td>/Organization/-Fame</td>\n",
       "      <td>#fame</td>\n",
       "      <td>http://livfame.com</td>\n",
       "      <td>Media</td>\n",
       "      <td>operating</td>\n",
       "      <td>IND</td>\n",
       "      <td>16</td>\n",
       "      <td>Mumbai</td>\n",
       "      <td>Mumbai</td>\n",
       "      <td>NaN</td>\n",
       "    </tr>\n",
       "    <tr>\n",
       "      <th>1</th>\n",
       "      <td>/Organization/-Qounter</td>\n",
       "      <td>:Qounter</td>\n",
       "      <td>http://www.qounter.com</td>\n",
       "      <td>Application Platforms|Real Time|Social Network...</td>\n",
       "      <td>operating</td>\n",
       "      <td>USA</td>\n",
       "      <td>DE</td>\n",
       "      <td>DE - Other</td>\n",
       "      <td>Delaware City</td>\n",
       "      <td>04-09-2014</td>\n",
       "    </tr>\n",
       "    <tr>\n",
       "      <th>2</th>\n",
       "      <td>/Organization/-The-One-Of-Them-Inc-</td>\n",
       "      <td>(THE) ONE of THEM,Inc.</td>\n",
       "      <td>http://oneofthem.jp</td>\n",
       "      <td>Apps|Games|Mobile</td>\n",
       "      <td>operating</td>\n",
       "      <td>NaN</td>\n",
       "      <td>NaN</td>\n",
       "      <td>NaN</td>\n",
       "      <td>NaN</td>\n",
       "      <td>NaN</td>\n",
       "    </tr>\n",
       "    <tr>\n",
       "      <th>3</th>\n",
       "      <td>/Organization/0-6-Com</td>\n",
       "      <td>0-6.com</td>\n",
       "      <td>http://www.0-6.com</td>\n",
       "      <td>Curated Web</td>\n",
       "      <td>operating</td>\n",
       "      <td>CHN</td>\n",
       "      <td>22</td>\n",
       "      <td>Beijing</td>\n",
       "      <td>Beijing</td>\n",
       "      <td>01-01-2007</td>\n",
       "    </tr>\n",
       "    <tr>\n",
       "      <th>4</th>\n",
       "      <td>/Organization/004-Technologies</td>\n",
       "      <td>004 Technologies</td>\n",
       "      <td>http://004gmbh.de/en/004-interact</td>\n",
       "      <td>Software</td>\n",
       "      <td>operating</td>\n",
       "      <td>USA</td>\n",
       "      <td>IL</td>\n",
       "      <td>Springfield, Illinois</td>\n",
       "      <td>Champaign</td>\n",
       "      <td>01-01-2010</td>\n",
       "    </tr>\n",
       "  </tbody>\n",
       "</table>\n",
       "</div>"
      ],
      "text/plain": [
       "                             permalink                    name  \\\n",
       "0                  /Organization/-Fame                   #fame   \n",
       "1               /Organization/-Qounter                :Qounter   \n",
       "2  /Organization/-The-One-Of-Them-Inc-  (THE) ONE of THEM,Inc.   \n",
       "3                /Organization/0-6-Com                 0-6.com   \n",
       "4       /Organization/004-Technologies        004 Technologies   \n",
       "\n",
       "                        homepage_url  \\\n",
       "0                 http://livfame.com   \n",
       "1             http://www.qounter.com   \n",
       "2                http://oneofthem.jp   \n",
       "3                 http://www.0-6.com   \n",
       "4  http://004gmbh.de/en/004-interact   \n",
       "\n",
       "                                       category_list     status country_code  \\\n",
       "0                                              Media  operating          IND   \n",
       "1  Application Platforms|Real Time|Social Network...  operating          USA   \n",
       "2                                  Apps|Games|Mobile  operating          NaN   \n",
       "3                                        Curated Web  operating          CHN   \n",
       "4                                           Software  operating          USA   \n",
       "\n",
       "  state_code                 region           city  founded_at  \n",
       "0         16                 Mumbai         Mumbai         NaN  \n",
       "1         DE             DE - Other  Delaware City  04-09-2014  \n",
       "2        NaN                    NaN            NaN         NaN  \n",
       "3         22                Beijing        Beijing  01-01-2007  \n",
       "4         IL  Springfield, Illinois      Champaign  01-01-2010  "
      ]
     },
     "execution_count": 4,
     "metadata": {},
     "output_type": "execute_result"
    }
   ],
   "source": [
    "#Checking head() for companies\n",
    "\n",
    "companies.head()"
   ]
  },
  {
   "cell_type": "code",
   "execution_count": 5,
   "metadata": {},
   "outputs": [],
   "source": [
    "#Changing the encoding to ASCII for 2 columns in Companies df(permalink,name) and rounds2 df(company_permalink)\n",
    "\n",
    "companies.permalink = companies.permalink.str.encode('ISO-8859-1').str.decode('ascii', 'ignore')\n",
    "companies.name = companies.name.str.encode('ISO-8859-1').str.decode('ascii', 'ignore')\n",
    "rounds2.company_permalink = rounds2.company_permalink.str.encode('ISO-8859-1').str.decode('ascii', 'ignore')"
   ]
  },
  {
   "cell_type": "code",
   "execution_count": 6,
   "metadata": {},
   "outputs": [],
   "source": [
    "#Changing the columns to lower case to have to have uniformity in data\n",
    "\n",
    "rounds2.company_permalink=[i.lower() for i in rounds2.company_permalink]\n",
    "companies.permalink=[i.lower() for i in companies.permalink]"
   ]
  },
  {
   "cell_type": "code",
   "execution_count": 7,
   "metadata": {},
   "outputs": [
    {
     "name": "stdout",
     "output_type": "stream",
     "text": [
      "<class 'pandas.core.frame.DataFrame'>\n",
      "RangeIndex: 114949 entries, 0 to 114948\n",
      "Data columns (total 6 columns):\n",
      "company_permalink          114949 non-null object\n",
      "funding_round_permalink    114949 non-null object\n",
      "funding_round_type         114949 non-null object\n",
      "funding_round_code         31140 non-null object\n",
      "funded_at                  114949 non-null object\n",
      "raised_amount_usd          94959 non-null float64\n",
      "dtypes: float64(1), object(5)\n",
      "memory usage: 5.3+ MB\n"
     ]
    }
   ],
   "source": [
    "rounds2.info()"
   ]
  },
  {
   "cell_type": "code",
   "execution_count": 8,
   "metadata": {},
   "outputs": [
    {
     "name": "stdout",
     "output_type": "stream",
     "text": [
      "<class 'pandas.core.frame.DataFrame'>\n",
      "RangeIndex: 66368 entries, 0 to 66367\n",
      "Data columns (total 10 columns):\n",
      "permalink        66368 non-null object\n",
      "name             66367 non-null object\n",
      "homepage_url     61310 non-null object\n",
      "category_list    63220 non-null object\n",
      "status           66368 non-null object\n",
      "country_code     59410 non-null object\n",
      "state_code       57821 non-null object\n",
      "region           58338 non-null object\n",
      "city             58340 non-null object\n",
      "founded_at       51147 non-null object\n",
      "dtypes: object(10)\n",
      "memory usage: 5.1+ MB\n"
     ]
    }
   ],
   "source": [
    "companies.info()"
   ]
  },
  {
   "cell_type": "code",
   "execution_count": 9,
   "metadata": {},
   "outputs": [
    {
     "name": "stdout",
     "output_type": "stream",
     "text": [
      "66368\n",
      "66368\n"
     ]
    }
   ],
   "source": [
    "#1.1.1 and 1.1.2\n",
    "#Printing unique values of companies in rounds2 and companies df\n",
    "\n",
    "print(rounds2.company_permalink.nunique())\n",
    "print(companies.permalink.nunique())"
   ]
  },
  {
   "cell_type": "markdown",
   "metadata": {},
   "source": [
    "<h4>\n",
    "1.1.1 Printing unique values of companies in rounds2  \n",
    "Ans. 66368  \n",
    "<br/>\n",
    "1.1.2 Printing unique values of companies in companies df  \n",
    "Ans. 66368  \n",
    "<br />\n",
    "1.1.3 In the companies data frame, which column can be used as the unique key for each company? Write the name of the column.  \n",
    "Ans. permalink  \n",
    "</h4>"
   ]
  },
  {
   "cell_type": "code",
   "execution_count": 10,
   "metadata": {},
   "outputs": [
    {
     "data": {
      "text/plain": [
       "set()"
      ]
     },
     "execution_count": 10,
     "metadata": {},
     "output_type": "execute_result"
    }
   ],
   "source": [
    "#1.1.4\n",
    "#Are there any companies in the rounds2 file which are not  present in companies ? Answer Y/N.\n",
    "\n",
    "set(companies['permalink']).difference(set(rounds2['company_permalink']))"
   ]
  },
  {
   "cell_type": "markdown",
   "metadata": {},
   "source": [
    "<h4>\n",
    "1.1.4 Are there any companies in the rounds2 file which are not  present in companies ? <br />\n",
    "Ans. No \n",
    "</h4>"
   ]
  },
  {
   "cell_type": "code",
   "execution_count": 11,
   "metadata": {},
   "outputs": [],
   "source": [
    "#Merging the rounds2 table with companies using inner join and naming the new dataframe as master_frame\n",
    "\n",
    "master_frame=rounds2.merge(companies,how='inner',left_on='company_permalink',right_on='permalink')"
   ]
  },
  {
   "cell_type": "code",
   "execution_count": 12,
   "metadata": {},
   "outputs": [
    {
     "data": {
      "text/plain": [
       "114949"
      ]
     },
     "execution_count": 12,
     "metadata": {},
     "output_type": "execute_result"
    }
   ],
   "source": [
    "#1.1.5\n",
    "#Finding the number of columns in master_frame df\n",
    "\n",
    "len(master_frame.index)"
   ]
  },
  {
   "cell_type": "markdown",
   "metadata": {},
   "source": [
    "<h4>\n",
    "1.1.5 Merge the two data frames so that all variables (columns) in the companies frame are added to the rounds2 data frame. Name the merged frame master_frame. How many observations are present in master_frame?  \n",
    "<br />  \n",
    "Ans. 114949  \n",
    "</h4>"
   ]
  },
  {
   "cell_type": "markdown",
   "metadata": {},
   "source": [
    "### Cleaning the data to remove/impute null values"
   ]
  },
  {
   "cell_type": "code",
   "execution_count": 13,
   "metadata": {},
   "outputs": [
    {
     "data": {
      "text/plain": [
       "Index(['company_permalink', 'funding_round_permalink', 'funding_round_type',\n",
       "       'funding_round_code', 'funded_at', 'raised_amount_usd', 'permalink',\n",
       "       'name', 'homepage_url', 'category_list', 'status', 'country_code',\n",
       "       'state_code', 'region', 'city', 'founded_at'],\n",
       "      dtype='object')"
      ]
     },
     "execution_count": 13,
     "metadata": {},
     "output_type": "execute_result"
    }
   ],
   "source": [
    "#Checking the columns of master_frame\n",
    "\n",
    "master_frame.columns"
   ]
  },
  {
   "cell_type": "code",
   "execution_count": 14,
   "metadata": {},
   "outputs": [
    {
     "data": {
      "text/html": [
       "<div>\n",
       "<style scoped>\n",
       "    .dataframe tbody tr th:only-of-type {\n",
       "        vertical-align: middle;\n",
       "    }\n",
       "\n",
       "    .dataframe tbody tr th {\n",
       "        vertical-align: top;\n",
       "    }\n",
       "\n",
       "    .dataframe thead th {\n",
       "        text-align: right;\n",
       "    }\n",
       "</style>\n",
       "<table border=\"1\" class=\"dataframe\">\n",
       "  <thead>\n",
       "    <tr style=\"text-align: right;\">\n",
       "      <th></th>\n",
       "      <th>company_permalink</th>\n",
       "      <th>funding_round_permalink</th>\n",
       "      <th>funding_round_type</th>\n",
       "      <th>funding_round_code</th>\n",
       "      <th>funded_at</th>\n",
       "      <th>raised_amount_usd</th>\n",
       "      <th>permalink</th>\n",
       "      <th>name</th>\n",
       "      <th>homepage_url</th>\n",
       "      <th>category_list</th>\n",
       "      <th>status</th>\n",
       "      <th>country_code</th>\n",
       "      <th>state_code</th>\n",
       "      <th>region</th>\n",
       "      <th>city</th>\n",
       "      <th>founded_at</th>\n",
       "    </tr>\n",
       "  </thead>\n",
       "  <tbody>\n",
       "    <tr>\n",
       "      <th>0</th>\n",
       "      <td>/organization/-fame</td>\n",
       "      <td>/funding-round/9a01d05418af9f794eebff7ace91f638</td>\n",
       "      <td>venture</td>\n",
       "      <td>B</td>\n",
       "      <td>05-01-2015</td>\n",
       "      <td>10000000.00</td>\n",
       "      <td>/organization/-fame</td>\n",
       "      <td>#fame</td>\n",
       "      <td>http://livfame.com</td>\n",
       "      <td>Media</td>\n",
       "      <td>operating</td>\n",
       "      <td>IND</td>\n",
       "      <td>16</td>\n",
       "      <td>Mumbai</td>\n",
       "      <td>Mumbai</td>\n",
       "      <td>NaN</td>\n",
       "    </tr>\n",
       "    <tr>\n",
       "      <th>1</th>\n",
       "      <td>/organization/-qounter</td>\n",
       "      <td>/funding-round/22dacff496eb7acb2b901dec1dfe5633</td>\n",
       "      <td>venture</td>\n",
       "      <td>A</td>\n",
       "      <td>14-10-2014</td>\n",
       "      <td>nan</td>\n",
       "      <td>/organization/-qounter</td>\n",
       "      <td>:Qounter</td>\n",
       "      <td>http://www.qounter.com</td>\n",
       "      <td>Application Platforms|Real Time|Social Network...</td>\n",
       "      <td>operating</td>\n",
       "      <td>USA</td>\n",
       "      <td>DE</td>\n",
       "      <td>DE - Other</td>\n",
       "      <td>Delaware City</td>\n",
       "      <td>04-09-2014</td>\n",
       "    </tr>\n",
       "    <tr>\n",
       "      <th>2</th>\n",
       "      <td>/organization/-qounter</td>\n",
       "      <td>/funding-round/b44fbb94153f6cdef13083530bb48030</td>\n",
       "      <td>seed</td>\n",
       "      <td>NaN</td>\n",
       "      <td>01-03-2014</td>\n",
       "      <td>700000.00</td>\n",
       "      <td>/organization/-qounter</td>\n",
       "      <td>:Qounter</td>\n",
       "      <td>http://www.qounter.com</td>\n",
       "      <td>Application Platforms|Real Time|Social Network...</td>\n",
       "      <td>operating</td>\n",
       "      <td>USA</td>\n",
       "      <td>DE</td>\n",
       "      <td>DE - Other</td>\n",
       "      <td>Delaware City</td>\n",
       "      <td>04-09-2014</td>\n",
       "    </tr>\n",
       "    <tr>\n",
       "      <th>3</th>\n",
       "      <td>/organization/-the-one-of-them-inc-</td>\n",
       "      <td>/funding-round/650b8f704416801069bb178a1418776b</td>\n",
       "      <td>venture</td>\n",
       "      <td>B</td>\n",
       "      <td>30-01-2014</td>\n",
       "      <td>3406878.00</td>\n",
       "      <td>/organization/-the-one-of-them-inc-</td>\n",
       "      <td>(THE) ONE of THEM,Inc.</td>\n",
       "      <td>http://oneofthem.jp</td>\n",
       "      <td>Apps|Games|Mobile</td>\n",
       "      <td>operating</td>\n",
       "      <td>NaN</td>\n",
       "      <td>NaN</td>\n",
       "      <td>NaN</td>\n",
       "      <td>NaN</td>\n",
       "      <td>NaN</td>\n",
       "    </tr>\n",
       "    <tr>\n",
       "      <th>4</th>\n",
       "      <td>/organization/0-6-com</td>\n",
       "      <td>/funding-round/5727accaeaa57461bd22a9bdd945382d</td>\n",
       "      <td>venture</td>\n",
       "      <td>A</td>\n",
       "      <td>19-03-2008</td>\n",
       "      <td>2000000.00</td>\n",
       "      <td>/organization/0-6-com</td>\n",
       "      <td>0-6.com</td>\n",
       "      <td>http://www.0-6.com</td>\n",
       "      <td>Curated Web</td>\n",
       "      <td>operating</td>\n",
       "      <td>CHN</td>\n",
       "      <td>22</td>\n",
       "      <td>Beijing</td>\n",
       "      <td>Beijing</td>\n",
       "      <td>01-01-2007</td>\n",
       "    </tr>\n",
       "  </tbody>\n",
       "</table>\n",
       "</div>"
      ],
      "text/plain": [
       "                     company_permalink  \\\n",
       "0                  /organization/-fame   \n",
       "1               /organization/-qounter   \n",
       "2               /organization/-qounter   \n",
       "3  /organization/-the-one-of-them-inc-   \n",
       "4                /organization/0-6-com   \n",
       "\n",
       "                           funding_round_permalink funding_round_type  \\\n",
       "0  /funding-round/9a01d05418af9f794eebff7ace91f638            venture   \n",
       "1  /funding-round/22dacff496eb7acb2b901dec1dfe5633            venture   \n",
       "2  /funding-round/b44fbb94153f6cdef13083530bb48030               seed   \n",
       "3  /funding-round/650b8f704416801069bb178a1418776b            venture   \n",
       "4  /funding-round/5727accaeaa57461bd22a9bdd945382d            venture   \n",
       "\n",
       "  funding_round_code   funded_at  raised_amount_usd  \\\n",
       "0                  B  05-01-2015        10000000.00   \n",
       "1                  A  14-10-2014                nan   \n",
       "2                NaN  01-03-2014          700000.00   \n",
       "3                  B  30-01-2014         3406878.00   \n",
       "4                  A  19-03-2008         2000000.00   \n",
       "\n",
       "                             permalink                    name  \\\n",
       "0                  /organization/-fame                   #fame   \n",
       "1               /organization/-qounter                :Qounter   \n",
       "2               /organization/-qounter                :Qounter   \n",
       "3  /organization/-the-one-of-them-inc-  (THE) ONE of THEM,Inc.   \n",
       "4                /organization/0-6-com                 0-6.com   \n",
       "\n",
       "             homepage_url                                      category_list  \\\n",
       "0      http://livfame.com                                              Media   \n",
       "1  http://www.qounter.com  Application Platforms|Real Time|Social Network...   \n",
       "2  http://www.qounter.com  Application Platforms|Real Time|Social Network...   \n",
       "3     http://oneofthem.jp                                  Apps|Games|Mobile   \n",
       "4      http://www.0-6.com                                        Curated Web   \n",
       "\n",
       "      status country_code state_code      region           city  founded_at  \n",
       "0  operating          IND         16      Mumbai         Mumbai         NaN  \n",
       "1  operating          USA         DE  DE - Other  Delaware City  04-09-2014  \n",
       "2  operating          USA         DE  DE - Other  Delaware City  04-09-2014  \n",
       "3  operating          NaN        NaN         NaN            NaN         NaN  \n",
       "4  operating          CHN         22     Beijing        Beijing  01-01-2007  "
      ]
     },
     "execution_count": 14,
     "metadata": {},
     "output_type": "execute_result"
    }
   ],
   "source": [
    "#Checking the head of the master_frame\n",
    "\n",
    "master_frame.head()"
   ]
  },
  {
   "cell_type": "markdown",
   "metadata": {},
   "source": [
    "<h3>Removing columns we will not need during the exercise</h3>\n",
    "<h4>\n",
    "1.funding_round_permalink  \n",
    "<br/>\n",
    "2.funding_round_code  \n",
    "<br/>\n",
    "3.permalink  \n",
    "<br/>\n",
    "4.homepage_url  \n",
    "<br/>\n",
    "5.state_code  \n",
    "<br/>\n",
    "6.region  \n",
    "<br/>\n",
    "7.city  \n",
    "<br/>\n",
    "8.founded_at  \n",
    "<br/>\n",
    "</h>"
   ]
  },
  {
   "cell_type": "code",
   "execution_count": 15,
   "metadata": {},
   "outputs": [],
   "source": [
    "#Using drop() function to drop the columns\n",
    "\n",
    "master_frame.drop(['funding_round_permalink','funding_round_code', 'permalink', 'homepage_url','state_code', 'region', 'city', 'founded_at'],axis=1,inplace=True)\n"
   ]
  },
  {
   "cell_type": "code",
   "execution_count": 16,
   "metadata": {},
   "outputs": [
    {
     "data": {
      "text/plain": [
       "company_permalink     0.00\n",
       "funding_round_type    0.00\n",
       "funded_at             0.00\n",
       "raised_amount_usd    17.39\n",
       "name                  0.00\n",
       "category_list         2.97\n",
       "status                0.00\n",
       "country_code          7.55\n",
       "dtype: float64"
      ]
     },
     "execution_count": 16,
     "metadata": {},
     "output_type": "execute_result"
    }
   ],
   "source": [
    "#Finding percentage of data which is empty in columns\n",
    "\n",
    "master_frame.isna().sum()/len(master_frame.index)*100\n"
   ]
  },
  {
   "cell_type": "markdown",
   "metadata": {},
   "source": [
    "## CHECKPOINT 2"
   ]
  },
  {
   "cell_type": "code",
   "execution_count": 17,
   "metadata": {},
   "outputs": [
    {
     "data": {
      "text/plain": [
       "<matplotlib.axes._subplots.AxesSubplot at 0x1178e8d30>"
      ]
     },
     "execution_count": 17,
     "metadata": {},
     "output_type": "execute_result"
    },
    {
     "data": {
      "image/png": "[encoded data removed]",
      "text/plain": [
       "<Figure size 1080x720 with 4 Axes>"
      ]
     },
     "metadata": {
      "needs_background": "light"
     },
     "output_type": "display_data"
    }
   ],
   "source": [
    "#Since we have to find a central tendency here, we will ignore the missing values in our calculation for part 2\n",
    "\n",
    "plt.figure(figsize=(15,10))\n",
    "plt.subplot(221,title='Funding Round Type- Angel')\n",
    "sns.distplot(master_frame[master_frame['funding_round_type']=='angel'].raised_amount_usd.dropna())\n",
    "plt.subplot(222,title='Funding Round Type- Private Equity')\n",
    "sns.distplot(master_frame[master_frame['funding_round_type']=='private_equity'].raised_amount_usd.dropna())\n",
    "plt.subplot(223,title='Funding Round Type- Seed')\n",
    "sns.distplot(master_frame[master_frame['funding_round_type']=='seed'].raised_amount_usd.dropna())\n",
    "plt.subplot(224,title='Funding Round Type- Venture')\n",
    "sns.distplot(master_frame[master_frame['funding_round_type']=='venture'].raised_amount_usd.dropna())"
   ]
  },
  {
   "cell_type": "markdown",
   "metadata": {},
   "source": [
    "#### As we can see that data is skewed to the left for all of Funding type, we will use Median as representative value"
   ]
  },
  {
   "cell_type": "code",
   "execution_count": 18,
   "metadata": {},
   "outputs": [
    {
     "data": {
      "text/html": [
       "<div>\n",
       "<style scoped>\n",
       "    .dataframe tbody tr th:only-of-type {\n",
       "        vertical-align: middle;\n",
       "    }\n",
       "\n",
       "    .dataframe tbody tr th {\n",
       "        vertical-align: top;\n",
       "    }\n",
       "\n",
       "    .dataframe thead th {\n",
       "        text-align: right;\n",
       "    }\n",
       "</style>\n",
       "<table border=\"1\" class=\"dataframe\">\n",
       "  <thead>\n",
       "    <tr style=\"text-align: right;\">\n",
       "      <th></th>\n",
       "      <th>raised_amount_usd</th>\n",
       "    </tr>\n",
       "    <tr>\n",
       "      <th>funding_round_type</th>\n",
       "      <th></th>\n",
       "    </tr>\n",
       "  </thead>\n",
       "  <tbody>\n",
       "    <tr>\n",
       "      <th>angel</th>\n",
       "      <td>400000.00</td>\n",
       "    </tr>\n",
       "    <tr>\n",
       "      <th>private_equity</th>\n",
       "      <td>20000000.00</td>\n",
       "    </tr>\n",
       "    <tr>\n",
       "      <th>seed</th>\n",
       "      <td>275000.00</td>\n",
       "    </tr>\n",
       "    <tr>\n",
       "      <th>venture</th>\n",
       "      <td>5000000.00</td>\n",
       "    </tr>\n",
       "  </tbody>\n",
       "</table>\n",
       "</div>"
      ],
      "text/plain": [
       "                    raised_amount_usd\n",
       "funding_round_type                   \n",
       "angel                       400000.00\n",
       "private_equity            20000000.00\n",
       "seed                        275000.00\n",
       "venture                    5000000.00"
      ]
     },
     "execution_count": 18,
     "metadata": {},
     "output_type": "execute_result"
    }
   ],
   "source": [
    "#Finding the Median value for the four Funding type using groupby feature\n",
    "pd.DataFrame(master_frame[master_frame['funding_round_type'].isin(['angel','seed','venture','private_equity'])].groupby('funding_round_type').raised_amount_usd.median())\n"
   ]
  },
  {
   "cell_type": "code",
   "execution_count": 19,
   "metadata": {},
   "outputs": [
    {
     "data": {
      "text/html": [
       "<div>\n",
       "<style scoped>\n",
       "    .dataframe tbody tr th:only-of-type {\n",
       "        vertical-align: middle;\n",
       "    }\n",
       "\n",
       "    .dataframe tbody tr th {\n",
       "        vertical-align: top;\n",
       "    }\n",
       "\n",
       "    .dataframe thead th {\n",
       "        text-align: right;\n",
       "    }\n",
       "</style>\n",
       "<table border=\"1\" class=\"dataframe\">\n",
       "  <thead>\n",
       "    <tr style=\"text-align: right;\">\n",
       "      <th></th>\n",
       "      <th>raised_amount_usd</th>\n",
       "    </tr>\n",
       "    <tr>\n",
       "      <th>funding_round_type</th>\n",
       "      <th></th>\n",
       "    </tr>\n",
       "  </thead>\n",
       "  <tbody>\n",
       "    <tr>\n",
       "      <th>angel</th>\n",
       "      <td>958694.47</td>\n",
       "    </tr>\n",
       "    <tr>\n",
       "      <th>private_equity</th>\n",
       "      <td>73308593.03</td>\n",
       "    </tr>\n",
       "    <tr>\n",
       "      <th>seed</th>\n",
       "      <td>719818.00</td>\n",
       "    </tr>\n",
       "    <tr>\n",
       "      <th>venture</th>\n",
       "      <td>11748949.13</td>\n",
       "    </tr>\n",
       "  </tbody>\n",
       "</table>\n",
       "</div>"
      ],
      "text/plain": [
       "                    raised_amount_usd\n",
       "funding_round_type                   \n",
       "angel                       958694.47\n",
       "private_equity            73308593.03\n",
       "seed                        719818.00\n",
       "venture                   11748949.13"
      ]
     },
     "execution_count": 19,
     "metadata": {},
     "output_type": "execute_result"
    }
   ],
   "source": [
    "#Finding the Median value for the four Funding type using groupby feature\n",
    "pd.DataFrame(master_frame[master_frame['funding_round_type'].isin(['angel','seed','venture','private_equity'])].groupby('funding_round_type').raised_amount_usd.mean())\n"
   ]
  },
  {
   "cell_type": "markdown",
   "metadata": {},
   "source": [
    "<h3>2.1 Calculate the most representative value of the investment amount for each of the four funding types (venture, angel, seed, and private equity) and report the answers in Table 2.1  \n",
    "<br/>\n",
    "1. Angel : 4 Lakhs  \n",
    "<br/>\n",
    "2. Private Equity :200 Lakhs  \n",
    "<br/>\n",
    "3. Seed : 2.75 Lakhs  \n",
    "<br/>\n",
    "4. Venture : 50 Lakhs  \n",
    "<br/>\n",
    "</h3>\n",
    "# As Spark Funds wants to invest between 5 to 15 million USD per investment round, we only have Venture Funding type which seems to be the most suitable for the company as per their requirements.\n"
   ]
  },
  {
   "cell_type": "code",
   "execution_count": 20,
   "metadata": {},
   "outputs": [],
   "source": [
    "\"\"\"As we can see that only Venture funding lies between our expected investment type, we will filter our data only \n",
    "to include Venture type\"\"\"\n",
    "#Creating a copy of master Frame to draw graphs\n",
    "master_frame_graph = pd.DataFrame(master_frame[master_frame['funding_round_type'].isin(['angel','seed','venture','private_equity'])])\n",
    "master_frame = master_frame[(master_frame['funding_round_type'] == 'venture')]"
   ]
  },
  {
   "cell_type": "code",
   "execution_count": 21,
   "metadata": {},
   "outputs": [],
   "source": [
    "#We will drop the Funding Round type since we have only one unique value after removing other values\n",
    "master_frame.drop('funding_round_type',axis=1,inplace=True)"
   ]
  },
  {
   "cell_type": "code",
   "execution_count": 22,
   "metadata": {},
   "outputs": [
    {
     "data": {
      "text/html": [
       "<div>\n",
       "<style scoped>\n",
       "    .dataframe tbody tr th:only-of-type {\n",
       "        vertical-align: middle;\n",
       "    }\n",
       "\n",
       "    .dataframe tbody tr th {\n",
       "        vertical-align: top;\n",
       "    }\n",
       "\n",
       "    .dataframe thead th {\n",
       "        text-align: right;\n",
       "    }\n",
       "</style>\n",
       "<table border=\"1\" class=\"dataframe\">\n",
       "  <thead>\n",
       "    <tr style=\"text-align: right;\">\n",
       "      <th></th>\n",
       "      <th>company_permalink</th>\n",
       "      <th>funded_at</th>\n",
       "      <th>raised_amount_usd</th>\n",
       "      <th>name</th>\n",
       "      <th>category_list</th>\n",
       "      <th>status</th>\n",
       "      <th>country_code</th>\n",
       "    </tr>\n",
       "  </thead>\n",
       "  <tbody>\n",
       "    <tr>\n",
       "      <th>0</th>\n",
       "      <td>/organization/-fame</td>\n",
       "      <td>05-01-2015</td>\n",
       "      <td>10000000.00</td>\n",
       "      <td>#fame</td>\n",
       "      <td>Media</td>\n",
       "      <td>operating</td>\n",
       "      <td>IND</td>\n",
       "    </tr>\n",
       "    <tr>\n",
       "      <th>1</th>\n",
       "      <td>/organization/-qounter</td>\n",
       "      <td>14-10-2014</td>\n",
       "      <td>nan</td>\n",
       "      <td>:Qounter</td>\n",
       "      <td>Application Platforms|Real Time|Social Network...</td>\n",
       "      <td>operating</td>\n",
       "      <td>USA</td>\n",
       "    </tr>\n",
       "    <tr>\n",
       "      <th>3</th>\n",
       "      <td>/organization/-the-one-of-them-inc-</td>\n",
       "      <td>30-01-2014</td>\n",
       "      <td>3406878.00</td>\n",
       "      <td>(THE) ONE of THEM,Inc.</td>\n",
       "      <td>Apps|Games|Mobile</td>\n",
       "      <td>operating</td>\n",
       "      <td>NaN</td>\n",
       "    </tr>\n",
       "    <tr>\n",
       "      <th>4</th>\n",
       "      <td>/organization/0-6-com</td>\n",
       "      <td>19-03-2008</td>\n",
       "      <td>2000000.00</td>\n",
       "      <td>0-6.com</td>\n",
       "      <td>Curated Web</td>\n",
       "      <td>operating</td>\n",
       "      <td>CHN</td>\n",
       "    </tr>\n",
       "    <tr>\n",
       "      <th>5</th>\n",
       "      <td>/organization/004-technologies</td>\n",
       "      <td>24-07-2014</td>\n",
       "      <td>nan</td>\n",
       "      <td>004 Technologies</td>\n",
       "      <td>Software</td>\n",
       "      <td>operating</td>\n",
       "      <td>USA</td>\n",
       "    </tr>\n",
       "  </tbody>\n",
       "</table>\n",
       "</div>"
      ],
      "text/plain": [
       "                     company_permalink   funded_at  raised_amount_usd  \\\n",
       "0                  /organization/-fame  05-01-2015        10000000.00   \n",
       "1               /organization/-qounter  14-10-2014                nan   \n",
       "3  /organization/-the-one-of-them-inc-  30-01-2014         3406878.00   \n",
       "4                /organization/0-6-com  19-03-2008         2000000.00   \n",
       "5       /organization/004-technologies  24-07-2014                nan   \n",
       "\n",
       "                     name                                      category_list  \\\n",
       "0                   #fame                                              Media   \n",
       "1                :Qounter  Application Platforms|Real Time|Social Network...   \n",
       "3  (THE) ONE of THEM,Inc.                                  Apps|Games|Mobile   \n",
       "4                 0-6.com                                        Curated Web   \n",
       "5        004 Technologies                                           Software   \n",
       "\n",
       "      status country_code  \n",
       "0  operating          IND  \n",
       "1  operating          USA  \n",
       "3  operating          NaN  \n",
       "4  operating          CHN  \n",
       "5  operating          USA  "
      ]
     },
     "execution_count": 22,
     "metadata": {},
     "output_type": "execute_result"
    }
   ],
   "source": [
    "master_frame.head()"
   ]
  },
  {
   "cell_type": "code",
   "execution_count": 23,
   "metadata": {},
   "outputs": [
    {
     "data": {
      "text/plain": [
       "55494"
      ]
     },
     "execution_count": 23,
     "metadata": {},
     "output_type": "execute_result"
    }
   ],
   "source": [
    "#Checking the number of columns\n",
    "len(master_frame.index)"
   ]
  },
  {
   "cell_type": "code",
   "execution_count": 24,
   "metadata": {},
   "outputs": [
    {
     "data": {
      "text/plain": [
       "company_permalink   0.00\n",
       "funded_at           0.00\n",
       "raised_amount_usd   9.49\n",
       "name                0.00\n",
       "category_list       2.04\n",
       "status              0.00\n",
       "country_code        5.18\n",
       "dtype: float64"
      ]
     },
     "execution_count": 24,
     "metadata": {},
     "output_type": "execute_result"
    }
   ],
   "source": [
    "# Checking the missing values percentage for the columns\n",
    "master_frame.isna().sum()/len(master_frame.index)*100"
   ]
  },
  {
   "cell_type": "code",
   "execution_count": 25,
   "metadata": {},
   "outputs": [
    {
     "name": "stdout",
     "output_type": "stream",
     "text": [
      "Mean of raised_amount_usd 11748949.13\n",
      "Median of raised_amount_usd 5000000.00\n"
     ]
    }
   ],
   "source": [
    "print(\"Mean of raised_amount_usd {:.2f}\".format(master_frame.raised_amount_usd.mean()))\n",
    "print(\"Median of raised_amount_usd {:.2f}\".format(master_frame.raised_amount_usd.median()))"
   ]
  },
  {
   "cell_type": "markdown",
   "metadata": {},
   "source": [
    "#### Since, the difference between mean and median for raised_amount_usd is very high and missing values are less than 10%, it is not going to impact our analysis a lot, if we drop them. So, dropping the rows with missing values."
   ]
  },
  {
   "cell_type": "code",
   "execution_count": 26,
   "metadata": {},
   "outputs": [],
   "source": [
    "#Lets drop the missing values from the Master_frame\n",
    "master_frame.dropna(inplace=True)"
   ]
  },
  {
   "cell_type": "code",
   "execution_count": 27,
   "metadata": {},
   "outputs": [
    {
     "data": {
      "text/plain": [
       "47809"
      ]
     },
     "execution_count": 27,
     "metadata": {},
     "output_type": "execute_result"
    }
   ],
   "source": [
    "#Checking the number of columns again after the values are dropped\n",
    "len(master_frame.index)"
   ]
  },
  {
   "cell_type": "code",
   "execution_count": 28,
   "metadata": {},
   "outputs": [
    {
     "data": {
      "text/plain": [
       "company_permalink   0.00\n",
       "funded_at           0.00\n",
       "raised_amount_usd   0.00\n",
       "name                0.00\n",
       "category_list       0.00\n",
       "status              0.00\n",
       "country_code        0.00\n",
       "dtype: float64"
      ]
     },
     "execution_count": 28,
     "metadata": {},
     "output_type": "execute_result"
    }
   ],
   "source": [
    "# Validating if there are no more missing values\n",
    "master_frame.isna().sum()/len(master_frame.index)*100"
   ]
  },
  {
   "cell_type": "code",
   "execution_count": null,
   "metadata": {},
   "outputs": [],
   "source": []
  },
  {
   "cell_type": "markdown",
   "metadata": {},
   "source": [
    "## CHECKPOINT 3"
   ]
  },
  {
   "cell_type": "markdown",
   "metadata": {},
   "source": [
    "### Finding the top 9 countries which have the highest funding for Venture FT"
   ]
  },
  {
   "cell_type": "code",
   "execution_count": 29,
   "metadata": {},
   "outputs": [
    {
     "data": {
      "text/html": [
       "<div>\n",
       "<style scoped>\n",
       "    .dataframe tbody tr th:only-of-type {\n",
       "        vertical-align: middle;\n",
       "    }\n",
       "\n",
       "    .dataframe tbody tr th {\n",
       "        vertical-align: top;\n",
       "    }\n",
       "\n",
       "    .dataframe thead th {\n",
       "        text-align: right;\n",
       "    }\n",
       "</style>\n",
       "<table border=\"1\" class=\"dataframe\">\n",
       "  <thead>\n",
       "    <tr style=\"text-align: right;\">\n",
       "      <th></th>\n",
       "      <th>raised_amount_usd</th>\n",
       "    </tr>\n",
       "    <tr>\n",
       "      <th>country_code</th>\n",
       "      <th></th>\n",
       "    </tr>\n",
       "  </thead>\n",
       "  <tbody>\n",
       "    <tr>\n",
       "      <th>USA</th>\n",
       "      <td>420068029342.00</td>\n",
       "    </tr>\n",
       "    <tr>\n",
       "      <th>CHN</th>\n",
       "      <td>39338918773.00</td>\n",
       "    </tr>\n",
       "    <tr>\n",
       "      <th>GBR</th>\n",
       "      <td>20072813004.00</td>\n",
       "    </tr>\n",
       "    <tr>\n",
       "      <th>IND</th>\n",
       "      <td>14261508718.00</td>\n",
       "    </tr>\n",
       "    <tr>\n",
       "      <th>CAN</th>\n",
       "      <td>9482217668.00</td>\n",
       "    </tr>\n",
       "    <tr>\n",
       "      <th>FRA</th>\n",
       "      <td>7226851352.00</td>\n",
       "    </tr>\n",
       "    <tr>\n",
       "      <th>ISR</th>\n",
       "      <td>6854350477.00</td>\n",
       "    </tr>\n",
       "    <tr>\n",
       "      <th>DEU</th>\n",
       "      <td>6306921981.00</td>\n",
       "    </tr>\n",
       "    <tr>\n",
       "      <th>JPN</th>\n",
       "      <td>3167647127.00</td>\n",
       "    </tr>\n",
       "  </tbody>\n",
       "</table>\n",
       "</div>"
      ],
      "text/plain": [
       "              raised_amount_usd\n",
       "country_code                   \n",
       "USA             420068029342.00\n",
       "CHN              39338918773.00\n",
       "GBR              20072813004.00\n",
       "IND              14261508718.00\n",
       "CAN               9482217668.00\n",
       "FRA               7226851352.00\n",
       "ISR               6854350477.00\n",
       "DEU               6306921981.00\n",
       "JPN               3167647127.00"
      ]
     },
     "execution_count": 29,
     "metadata": {},
     "output_type": "execute_result"
    }
   ],
   "source": [
    "#Checkpoint 3\n",
    "#Using groupby countries and then funding the sum of raised amount in USD, sorting them and finding the top 9 countries \n",
    "top9=pd.DataFrame(master_frame.groupby('country_code').raised_amount_usd.sum().sort_values(ascending=False).head(9))\n",
    "top9"
   ]
  },
  {
   "cell_type": "markdown",
   "metadata": {},
   "source": [
    "#### We can see that the top 9 countries on the basis of Raised amount in USD as per Sparks Funds requirement.\n",
    "#### The top 3 English speaking countries includes USA, GBR and IND(CHN does not have English as one of the official language)"
   ]
  },
  {
   "cell_type": "markdown",
   "metadata": {},
   "source": [
    "## CHECKPOINT 4"
   ]
  },
  {
   "cell_type": "code",
   "execution_count": 30,
   "metadata": {},
   "outputs": [],
   "source": [
    "#Reading the Mapping file into mapping df\n",
    "mapping=pd.read_csv('mapping.csv')"
   ]
  },
  {
   "cell_type": "code",
   "execution_count": 31,
   "metadata": {},
   "outputs": [
    {
     "data": {
      "text/plain": [
       "(688, 10)"
      ]
     },
     "execution_count": 31,
     "metadata": {},
     "output_type": "execute_result"
    }
   ],
   "source": [
    "#Checking the shape of mapping df\n",
    "mapping.shape"
   ]
  },
  {
   "cell_type": "code",
   "execution_count": 32,
   "metadata": {},
   "outputs": [
    {
     "data": {
      "text/html": [
       "<div>\n",
       "<style scoped>\n",
       "    .dataframe tbody tr th:only-of-type {\n",
       "        vertical-align: middle;\n",
       "    }\n",
       "\n",
       "    .dataframe tbody tr th {\n",
       "        vertical-align: top;\n",
       "    }\n",
       "\n",
       "    .dataframe thead th {\n",
       "        text-align: right;\n",
       "    }\n",
       "</style>\n",
       "<table border=\"1\" class=\"dataframe\">\n",
       "  <thead>\n",
       "    <tr style=\"text-align: right;\">\n",
       "      <th></th>\n",
       "      <th>category_list</th>\n",
       "      <th>Automotive &amp; Sports</th>\n",
       "      <th>Blanks</th>\n",
       "      <th>Cleantech / Semiconductors</th>\n",
       "      <th>Entertainment</th>\n",
       "      <th>Health</th>\n",
       "      <th>Manufacturing</th>\n",
       "      <th>News, Search and Messaging</th>\n",
       "      <th>Others</th>\n",
       "      <th>Social, Finance, Analytics, Advertising</th>\n",
       "    </tr>\n",
       "  </thead>\n",
       "  <tbody>\n",
       "    <tr>\n",
       "      <th>0</th>\n",
       "      <td>NaN</td>\n",
       "      <td>0</td>\n",
       "      <td>1</td>\n",
       "      <td>0</td>\n",
       "      <td>0</td>\n",
       "      <td>0</td>\n",
       "      <td>0</td>\n",
       "      <td>0</td>\n",
       "      <td>0</td>\n",
       "      <td>0</td>\n",
       "    </tr>\n",
       "    <tr>\n",
       "      <th>1</th>\n",
       "      <td>3D</td>\n",
       "      <td>0</td>\n",
       "      <td>0</td>\n",
       "      <td>0</td>\n",
       "      <td>0</td>\n",
       "      <td>0</td>\n",
       "      <td>1</td>\n",
       "      <td>0</td>\n",
       "      <td>0</td>\n",
       "      <td>0</td>\n",
       "    </tr>\n",
       "    <tr>\n",
       "      <th>2</th>\n",
       "      <td>3D Printing</td>\n",
       "      <td>0</td>\n",
       "      <td>0</td>\n",
       "      <td>0</td>\n",
       "      <td>0</td>\n",
       "      <td>0</td>\n",
       "      <td>1</td>\n",
       "      <td>0</td>\n",
       "      <td>0</td>\n",
       "      <td>0</td>\n",
       "    </tr>\n",
       "    <tr>\n",
       "      <th>3</th>\n",
       "      <td>3D Technology</td>\n",
       "      <td>0</td>\n",
       "      <td>0</td>\n",
       "      <td>0</td>\n",
       "      <td>0</td>\n",
       "      <td>0</td>\n",
       "      <td>1</td>\n",
       "      <td>0</td>\n",
       "      <td>0</td>\n",
       "      <td>0</td>\n",
       "    </tr>\n",
       "    <tr>\n",
       "      <th>4</th>\n",
       "      <td>Accounting</td>\n",
       "      <td>0</td>\n",
       "      <td>0</td>\n",
       "      <td>0</td>\n",
       "      <td>0</td>\n",
       "      <td>0</td>\n",
       "      <td>0</td>\n",
       "      <td>0</td>\n",
       "      <td>0</td>\n",
       "      <td>1</td>\n",
       "    </tr>\n",
       "  </tbody>\n",
       "</table>\n",
       "</div>"
      ],
      "text/plain": [
       "   category_list  Automotive & Sports  Blanks  Cleantech / Semiconductors  \\\n",
       "0            NaN                    0       1                           0   \n",
       "1             3D                    0       0                           0   \n",
       "2    3D Printing                    0       0                           0   \n",
       "3  3D Technology                    0       0                           0   \n",
       "4     Accounting                    0       0                           0   \n",
       "\n",
       "   Entertainment  Health  Manufacturing  News, Search and Messaging  Others  \\\n",
       "0              0       0              0                           0       0   \n",
       "1              0       0              1                           0       0   \n",
       "2              0       0              1                           0       0   \n",
       "3              0       0              1                           0       0   \n",
       "4              0       0              0                           0       0   \n",
       "\n",
       "   Social, Finance, Analytics, Advertising  \n",
       "0                                        0  \n",
       "1                                        0  \n",
       "2                                        0  \n",
       "3                                        0  \n",
       "4                                        1  "
      ]
     },
     "execution_count": 32,
     "metadata": {},
     "output_type": "execute_result"
    }
   ],
   "source": [
    "mapping.head()"
   ]
  },
  {
   "cell_type": "code",
   "execution_count": 33,
   "metadata": {},
   "outputs": [],
   "source": [
    "'''While working on the dataset, there was some data issues in it where na was written as 0, so replacing 0 with na \n",
    " and capitalizing the field to have uniform data in the Category_list column'''\n",
    "\n",
    "mapping['category_list']=mapping['category_list'].str.replace('0','na').str.capitalize()\n",
    "master_frame.category_list=master_frame['category_list'].str.capitalize()"
   ]
  },
  {
   "cell_type": "code",
   "execution_count": 34,
   "metadata": {},
   "outputs": [],
   "source": [
    "'''Creating a new column Primary sector business as per the business rule that the first string before the vertical \n",
    "bar will be considered the primary sector '''\n",
    "\n",
    "master_frame['Primary_Sector']=master_frame['category_list'].apply(lambda x: x.split('|')[0])"
   ]
  },
  {
   "cell_type": "code",
   "execution_count": 35,
   "metadata": {},
   "outputs": [
    {
     "data": {
      "text/html": [
       "<div>\n",
       "<style scoped>\n",
       "    .dataframe tbody tr th:only-of-type {\n",
       "        vertical-align: middle;\n",
       "    }\n",
       "\n",
       "    .dataframe tbody tr th {\n",
       "        vertical-align: top;\n",
       "    }\n",
       "\n",
       "    .dataframe thead th {\n",
       "        text-align: right;\n",
       "    }\n",
       "</style>\n",
       "<table border=\"1\" class=\"dataframe\">\n",
       "  <thead>\n",
       "    <tr style=\"text-align: right;\">\n",
       "      <th></th>\n",
       "      <th>company_permalink</th>\n",
       "      <th>funded_at</th>\n",
       "      <th>raised_amount_usd</th>\n",
       "      <th>name</th>\n",
       "      <th>category_list</th>\n",
       "      <th>status</th>\n",
       "      <th>country_code</th>\n",
       "      <th>Primary_Sector</th>\n",
       "    </tr>\n",
       "  </thead>\n",
       "  <tbody>\n",
       "    <tr>\n",
       "      <th>0</th>\n",
       "      <td>/organization/-fame</td>\n",
       "      <td>05-01-2015</td>\n",
       "      <td>10000000.00</td>\n",
       "      <td>#fame</td>\n",
       "      <td>Media</td>\n",
       "      <td>operating</td>\n",
       "      <td>IND</td>\n",
       "      <td>Media</td>\n",
       "    </tr>\n",
       "    <tr>\n",
       "      <th>1</th>\n",
       "      <td>/organization/0-6-com</td>\n",
       "      <td>19-03-2008</td>\n",
       "      <td>2000000.00</td>\n",
       "      <td>0-6.com</td>\n",
       "      <td>Curated web</td>\n",
       "      <td>operating</td>\n",
       "      <td>CHN</td>\n",
       "      <td>Curated web</td>\n",
       "    </tr>\n",
       "    <tr>\n",
       "      <th>2</th>\n",
       "      <td>/organization/0ndine-biomedical-inc</td>\n",
       "      <td>21-12-2009</td>\n",
       "      <td>719491.00</td>\n",
       "      <td>Ondine Biomedical Inc.</td>\n",
       "      <td>Biotechnology</td>\n",
       "      <td>operating</td>\n",
       "      <td>CAN</td>\n",
       "      <td>Biotechnology</td>\n",
       "    </tr>\n",
       "    <tr>\n",
       "      <th>3</th>\n",
       "      <td>/organization/0xdata</td>\n",
       "      <td>09-11-2015</td>\n",
       "      <td>20000000.00</td>\n",
       "      <td>H2O.ai</td>\n",
       "      <td>Analytics</td>\n",
       "      <td>operating</td>\n",
       "      <td>USA</td>\n",
       "      <td>Analytics</td>\n",
       "    </tr>\n",
       "    <tr>\n",
       "      <th>4</th>\n",
       "      <td>/organization/0xdata</td>\n",
       "      <td>03-01-2013</td>\n",
       "      <td>1700000.00</td>\n",
       "      <td>H2O.ai</td>\n",
       "      <td>Analytics</td>\n",
       "      <td>operating</td>\n",
       "      <td>USA</td>\n",
       "      <td>Analytics</td>\n",
       "    </tr>\n",
       "  </tbody>\n",
       "</table>\n",
       "</div>"
      ],
      "text/plain": [
       "                     company_permalink   funded_at  raised_amount_usd  \\\n",
       "0                  /organization/-fame  05-01-2015        10000000.00   \n",
       "1                /organization/0-6-com  19-03-2008         2000000.00   \n",
       "2  /organization/0ndine-biomedical-inc  21-12-2009          719491.00   \n",
       "3                 /organization/0xdata  09-11-2015        20000000.00   \n",
       "4                 /organization/0xdata  03-01-2013         1700000.00   \n",
       "\n",
       "                     name  category_list     status country_code  \\\n",
       "0                   #fame          Media  operating          IND   \n",
       "1                 0-6.com    Curated web  operating          CHN   \n",
       "2  Ondine Biomedical Inc.  Biotechnology  operating          CAN   \n",
       "3                  H2O.ai      Analytics  operating          USA   \n",
       "4                  H2O.ai      Analytics  operating          USA   \n",
       "\n",
       "  Primary_Sector  \n",
       "0          Media  \n",
       "1    Curated web  \n",
       "2  Biotechnology  \n",
       "3      Analytics  \n",
       "4      Analytics  "
      ]
     },
     "execution_count": 35,
     "metadata": {},
     "output_type": "execute_result"
    }
   ],
   "source": [
    "#Checking the head of the dataset after adding the Primary_Sector column\n",
    "master_frame.reset_index(inplace=True,drop=True)\n",
    "master_frame.head()"
   ]
  },
  {
   "cell_type": "code",
   "execution_count": 36,
   "metadata": {},
   "outputs": [],
   "source": [
    "#Function to deshape the mapping df\n",
    "def mapping_func(df):\n",
    "    if df['Automotive & Sports']==1:\n",
    "        return 'Automotive & Sports'\n",
    "    elif df['Cleantech / Semiconductors']==1:\n",
    "        return 'Cleantech / Semiconductors'\n",
    "    elif df['Entertainment']==1:\n",
    "        return 'Entertainment'\n",
    "    elif df['Health']==1:\n",
    "        return 'Health'\n",
    "    elif df['Manufacturing']==1:\n",
    "        return 'Manufacturing'\n",
    "    elif df['News, Search and Messaging']==1:\n",
    "        return 'News, Search and Messaging'\n",
    "    elif df['Others']==1:\n",
    "        return 'Others'\n",
    "    elif df['Social, Finance, Analytics, Advertising']==1:\n",
    "        return 'Social, Finance, Analytics, Advertising'\n",
    "    else:\n",
    "        return 'Blanks'"
   ]
  },
  {
   "cell_type": "code",
   "execution_count": 37,
   "metadata": {},
   "outputs": [],
   "source": [
    "#Creating a new column 'Main Sector' with the value as the name of the Category\n",
    "mapping['Main_Sector']=mapping.apply(lambda x: mapping_func(x),axis=1)\n",
    "\n",
    "#Dropping other columns now that we have just one column with name of Main Sector\n",
    "mapping.drop(['Automotive & Sports', 'Blanks','Cleantech / Semiconductors', 'Entertainment', 'Health','Manufacturing', 'News, Search and Messaging', 'Others','Social, Finance, Analytics, Advertising'],axis=1,inplace=True)\n",
    "mapping = mapping.rename(columns = {\"category_list\":\"Primary_Sector\"})"
   ]
  },
  {
   "cell_type": "code",
   "execution_count": 38,
   "metadata": {},
   "outputs": [
    {
     "data": {
      "text/html": [
       "<div>\n",
       "<style scoped>\n",
       "    .dataframe tbody tr th:only-of-type {\n",
       "        vertical-align: middle;\n",
       "    }\n",
       "\n",
       "    .dataframe tbody tr th {\n",
       "        vertical-align: top;\n",
       "    }\n",
       "\n",
       "    .dataframe thead th {\n",
       "        text-align: right;\n",
       "    }\n",
       "</style>\n",
       "<table border=\"1\" class=\"dataframe\">\n",
       "  <thead>\n",
       "    <tr style=\"text-align: right;\">\n",
       "      <th></th>\n",
       "      <th>Primary_Sector</th>\n",
       "      <th>Main_Sector</th>\n",
       "    </tr>\n",
       "  </thead>\n",
       "  <tbody>\n",
       "    <tr>\n",
       "      <th>0</th>\n",
       "      <td>NaN</td>\n",
       "      <td>Blanks</td>\n",
       "    </tr>\n",
       "    <tr>\n",
       "      <th>1</th>\n",
       "      <td>3d</td>\n",
       "      <td>Manufacturing</td>\n",
       "    </tr>\n",
       "    <tr>\n",
       "      <th>2</th>\n",
       "      <td>3d printing</td>\n",
       "      <td>Manufacturing</td>\n",
       "    </tr>\n",
       "    <tr>\n",
       "      <th>3</th>\n",
       "      <td>3d technology</td>\n",
       "      <td>Manufacturing</td>\n",
       "    </tr>\n",
       "    <tr>\n",
       "      <th>4</th>\n",
       "      <td>Accounting</td>\n",
       "      <td>Social, Finance, Analytics, Advertising</td>\n",
       "    </tr>\n",
       "  </tbody>\n",
       "</table>\n",
       "</div>"
      ],
      "text/plain": [
       "  Primary_Sector                              Main_Sector\n",
       "0            NaN                                   Blanks\n",
       "1             3d                            Manufacturing\n",
       "2    3d printing                            Manufacturing\n",
       "3  3d technology                            Manufacturing\n",
       "4     Accounting  Social, Finance, Analytics, Advertising"
      ]
     },
     "execution_count": 38,
     "metadata": {},
     "output_type": "execute_result"
    }
   ],
   "source": [
    "#Checking the head of the df after reshaping the mapping df\n",
    "mapping.head(5)"
   ]
  },
  {
   "cell_type": "code",
   "execution_count": 39,
   "metadata": {},
   "outputs": [],
   "source": [
    "#Merging master_frame with the mapping dataframe using inner join\n",
    "\n",
    "master_frame=master_frame.merge(mapping,how='inner',on='Primary_Sector')"
   ]
  },
  {
   "cell_type": "code",
   "execution_count": 40,
   "metadata": {},
   "outputs": [
    {
     "data": {
      "text/html": [
       "<div>\n",
       "<style scoped>\n",
       "    .dataframe tbody tr th:only-of-type {\n",
       "        vertical-align: middle;\n",
       "    }\n",
       "\n",
       "    .dataframe tbody tr th {\n",
       "        vertical-align: top;\n",
       "    }\n",
       "\n",
       "    .dataframe thead th {\n",
       "        text-align: right;\n",
       "    }\n",
       "</style>\n",
       "<table border=\"1\" class=\"dataframe\">\n",
       "  <thead>\n",
       "    <tr style=\"text-align: right;\">\n",
       "      <th></th>\n",
       "      <th>company_permalink</th>\n",
       "      <th>funded_at</th>\n",
       "      <th>raised_amount_usd</th>\n",
       "      <th>name</th>\n",
       "      <th>category_list</th>\n",
       "      <th>status</th>\n",
       "      <th>country_code</th>\n",
       "      <th>Primary_Sector</th>\n",
       "      <th>Main_Sector</th>\n",
       "    </tr>\n",
       "  </thead>\n",
       "  <tbody>\n",
       "    <tr>\n",
       "      <th>0</th>\n",
       "      <td>/organization/-fame</td>\n",
       "      <td>05-01-2015</td>\n",
       "      <td>10000000.00</td>\n",
       "      <td>#fame</td>\n",
       "      <td>Media</td>\n",
       "      <td>operating</td>\n",
       "      <td>IND</td>\n",
       "      <td>Media</td>\n",
       "      <td>Entertainment</td>\n",
       "    </tr>\n",
       "    <tr>\n",
       "      <th>1</th>\n",
       "      <td>/organization/90min</td>\n",
       "      <td>06-10-2015</td>\n",
       "      <td>15000000.00</td>\n",
       "      <td>90min</td>\n",
       "      <td>Media|news|publishing|soccer|sports</td>\n",
       "      <td>operating</td>\n",
       "      <td>GBR</td>\n",
       "      <td>Media</td>\n",
       "      <td>Entertainment</td>\n",
       "    </tr>\n",
       "    <tr>\n",
       "      <th>2</th>\n",
       "      <td>/organization/90min</td>\n",
       "      <td>07-05-2013</td>\n",
       "      <td>5800000.00</td>\n",
       "      <td>90min</td>\n",
       "      <td>Media|news|publishing|soccer|sports</td>\n",
       "      <td>operating</td>\n",
       "      <td>GBR</td>\n",
       "      <td>Media</td>\n",
       "      <td>Entertainment</td>\n",
       "    </tr>\n",
       "    <tr>\n",
       "      <th>3</th>\n",
       "      <td>/organization/90min</td>\n",
       "      <td>26-03-2014</td>\n",
       "      <td>18000000.00</td>\n",
       "      <td>90min</td>\n",
       "      <td>Media|news|publishing|soccer|sports</td>\n",
       "      <td>operating</td>\n",
       "      <td>GBR</td>\n",
       "      <td>Media</td>\n",
       "      <td>Entertainment</td>\n",
       "    </tr>\n",
       "    <tr>\n",
       "      <th>4</th>\n",
       "      <td>/organization/all-def-digital</td>\n",
       "      <td>06-08-2014</td>\n",
       "      <td>5000000.00</td>\n",
       "      <td>All Def Digital</td>\n",
       "      <td>Media</td>\n",
       "      <td>operating</td>\n",
       "      <td>USA</td>\n",
       "      <td>Media</td>\n",
       "      <td>Entertainment</td>\n",
       "    </tr>\n",
       "  </tbody>\n",
       "</table>\n",
       "</div>"
      ],
      "text/plain": [
       "               company_permalink   funded_at  raised_amount_usd  \\\n",
       "0            /organization/-fame  05-01-2015        10000000.00   \n",
       "1            /organization/90min  06-10-2015        15000000.00   \n",
       "2            /organization/90min  07-05-2013         5800000.00   \n",
       "3            /organization/90min  26-03-2014        18000000.00   \n",
       "4  /organization/all-def-digital  06-08-2014         5000000.00   \n",
       "\n",
       "              name                        category_list     status  \\\n",
       "0            #fame                                Media  operating   \n",
       "1            90min  Media|news|publishing|soccer|sports  operating   \n",
       "2            90min  Media|news|publishing|soccer|sports  operating   \n",
       "3            90min  Media|news|publishing|soccer|sports  operating   \n",
       "4  All Def Digital                                Media  operating   \n",
       "\n",
       "  country_code Primary_Sector    Main_Sector  \n",
       "0          IND          Media  Entertainment  \n",
       "1          GBR          Media  Entertainment  \n",
       "2          GBR          Media  Entertainment  \n",
       "3          GBR          Media  Entertainment  \n",
       "4          USA          Media  Entertainment  "
      ]
     },
     "execution_count": 40,
     "metadata": {},
     "output_type": "execute_result"
    }
   ],
   "source": [
    "#Checking the head of the df after the merge operation\n",
    "\n",
    "master_frame.head()"
   ]
  },
  {
   "cell_type": "markdown",
   "metadata": {},
   "source": [
    "## CHECKPOINT 4"
   ]
  },
  {
   "cell_type": "markdown",
   "metadata": {},
   "source": [
    "Now, the aim is to find out the most heavily invested main sectors in each of the three countries (for funding type FT and investments range of 5-15 M USD).\n",
    "\n",
    "Create three separate data frames D1, D2 and D3 for each of the three countries containing the observations of funding type FT falling within the 5-15 million USD range. The three data frames should contain:\n",
    "\n",
    "1. All the columns of the master_frame along with the primary sector and the main sector\n",
    "\n",
    "2. The total number (or count) of investments for each main sector in a separate column\n",
    "\n",
    "3. The total amount invested in each main sector in a separate column"
   ]
  },
  {
   "cell_type": "code",
   "execution_count": 41,
   "metadata": {},
   "outputs": [
    {
     "data": {
      "text/html": [
       "<div>\n",
       "<style scoped>\n",
       "    .dataframe tbody tr th:only-of-type {\n",
       "        vertical-align: middle;\n",
       "    }\n",
       "\n",
       "    .dataframe tbody tr th {\n",
       "        vertical-align: top;\n",
       "    }\n",
       "\n",
       "    .dataframe thead th {\n",
       "        text-align: right;\n",
       "    }\n",
       "</style>\n",
       "<table border=\"1\" class=\"dataframe\">\n",
       "  <thead>\n",
       "    <tr style=\"text-align: right;\">\n",
       "      <th></th>\n",
       "      <th>company_permalink</th>\n",
       "      <th>funded_at</th>\n",
       "      <th>raised_amount_usd</th>\n",
       "      <th>name</th>\n",
       "      <th>category_list</th>\n",
       "      <th>status</th>\n",
       "      <th>country_code</th>\n",
       "      <th>Primary_Sector</th>\n",
       "      <th>Main_Sector</th>\n",
       "      <th>Total_amount_in_Sector</th>\n",
       "      <th>Total_count_in_Sector</th>\n",
       "    </tr>\n",
       "  </thead>\n",
       "  <tbody>\n",
       "    <tr>\n",
       "      <th>4</th>\n",
       "      <td>/organization/all-def-digital</td>\n",
       "      <td>06-08-2014</td>\n",
       "      <td>5000000.00</td>\n",
       "      <td>All Def Digital</td>\n",
       "      <td>Media</td>\n",
       "      <td>operating</td>\n",
       "      <td>USA</td>\n",
       "      <td>Media</td>\n",
       "      <td>Entertainment</td>\n",
       "      <td>5099197982.00</td>\n",
       "      <td>591</td>\n",
       "    </tr>\n",
       "    <tr>\n",
       "      <th>16</th>\n",
       "      <td>/organization/chefs-feed</td>\n",
       "      <td>26-02-2015</td>\n",
       "      <td>5000000.00</td>\n",
       "      <td>ChefsFeed</td>\n",
       "      <td>Media|mobile|restaurants|technology</td>\n",
       "      <td>operating</td>\n",
       "      <td>USA</td>\n",
       "      <td>Media</td>\n",
       "      <td>Entertainment</td>\n",
       "      <td>5099197982.00</td>\n",
       "      <td>591</td>\n",
       "    </tr>\n",
       "    <tr>\n",
       "      <th>24</th>\n",
       "      <td>/organization/huffingtonpost</td>\n",
       "      <td>01-08-2006</td>\n",
       "      <td>5000000.00</td>\n",
       "      <td>The Huffington Post</td>\n",
       "      <td>Media|news|publishing</td>\n",
       "      <td>acquired</td>\n",
       "      <td>USA</td>\n",
       "      <td>Media</td>\n",
       "      <td>Entertainment</td>\n",
       "      <td>5099197982.00</td>\n",
       "      <td>591</td>\n",
       "    </tr>\n",
       "    <tr>\n",
       "      <th>25</th>\n",
       "      <td>/organization/huffingtonpost</td>\n",
       "      <td>01-09-2007</td>\n",
       "      <td>5000000.00</td>\n",
       "      <td>The Huffington Post</td>\n",
       "      <td>Media|news|publishing</td>\n",
       "      <td>acquired</td>\n",
       "      <td>USA</td>\n",
       "      <td>Media</td>\n",
       "      <td>Entertainment</td>\n",
       "      <td>5099197982.00</td>\n",
       "      <td>591</td>\n",
       "    </tr>\n",
       "    <tr>\n",
       "      <th>33</th>\n",
       "      <td>/organization/matchmine</td>\n",
       "      <td>01-09-2007</td>\n",
       "      <td>10000000.00</td>\n",
       "      <td>MatchMine</td>\n",
       "      <td>Media|news|reviews and recommendations</td>\n",
       "      <td>closed</td>\n",
       "      <td>USA</td>\n",
       "      <td>Media</td>\n",
       "      <td>Entertainment</td>\n",
       "      <td>5099197982.00</td>\n",
       "      <td>591</td>\n",
       "    </tr>\n",
       "  </tbody>\n",
       "</table>\n",
       "</div>"
      ],
      "text/plain": [
       "                company_permalink   funded_at  raised_amount_usd  \\\n",
       "4   /organization/all-def-digital  06-08-2014         5000000.00   \n",
       "16       /organization/chefs-feed  26-02-2015         5000000.00   \n",
       "24   /organization/huffingtonpost  01-08-2006         5000000.00   \n",
       "25   /organization/huffingtonpost  01-09-2007         5000000.00   \n",
       "33        /organization/matchmine  01-09-2007        10000000.00   \n",
       "\n",
       "                   name                           category_list     status  \\\n",
       "4       All Def Digital                                   Media  operating   \n",
       "16            ChefsFeed     Media|mobile|restaurants|technology  operating   \n",
       "24  The Huffington Post                   Media|news|publishing   acquired   \n",
       "25  The Huffington Post                   Media|news|publishing   acquired   \n",
       "33            MatchMine  Media|news|reviews and recommendations     closed   \n",
       "\n",
       "   country_code Primary_Sector    Main_Sector  Total_amount_in_Sector  \\\n",
       "4           USA          Media  Entertainment           5099197982.00   \n",
       "16          USA          Media  Entertainment           5099197982.00   \n",
       "24          USA          Media  Entertainment           5099197982.00   \n",
       "25          USA          Media  Entertainment           5099197982.00   \n",
       "33          USA          Media  Entertainment           5099197982.00   \n",
       "\n",
       "    Total_count_in_Sector  \n",
       "4                     591  \n",
       "16                    591  \n",
       "24                    591  \n",
       "25                    591  \n",
       "33                    591  "
      ]
     },
     "execution_count": 41,
     "metadata": {},
     "output_type": "execute_result"
    }
   ],
   "source": [
    "#Creating Dataframe D1 with country as USA\n",
    "\n",
    "#Step 1 : Selecting only data from USA and with Raised amount between 5-15 Million\n",
    "D1=master_frame[(master_frame['country_code']=='USA') & (master_frame['raised_amount_usd']>=5000000) & (master_frame['raised_amount_usd']<=15000000)]\n",
    "\n",
    "#Step 2: Creating another DF for SUM and count of total investments\n",
    "D1_new = D1[['raised_amount_usd','Main_Sector']].groupby('Main_Sector').agg(['sum', 'count']).rename(columns={'sum':'Total_amount_in_Sector','count' : 'Total_count_in_Sector'})\n",
    "D1_new.columns=D1_new.columns.get_level_values(1)\n",
    "\n",
    "#Step 3: Merging both the dataframes for our resultant output\n",
    "D1=D1.merge(D1_new,how='inner',left_on='Main_Sector', right_index=True)\n",
    "\n",
    "D1.head()\n"
   ]
  },
  {
   "cell_type": "code",
   "execution_count": 42,
   "metadata": {},
   "outputs": [
    {
     "data": {
      "text/html": [
       "<div>\n",
       "<style scoped>\n",
       "    .dataframe tbody tr th:only-of-type {\n",
       "        vertical-align: middle;\n",
       "    }\n",
       "\n",
       "    .dataframe tbody tr th {\n",
       "        vertical-align: top;\n",
       "    }\n",
       "\n",
       "    .dataframe thead th {\n",
       "        text-align: right;\n",
       "    }\n",
       "</style>\n",
       "<table border=\"1\" class=\"dataframe\">\n",
       "  <thead>\n",
       "    <tr style=\"text-align: right;\">\n",
       "      <th></th>\n",
       "      <th>company_permalink</th>\n",
       "      <th>funded_at</th>\n",
       "      <th>raised_amount_usd</th>\n",
       "      <th>name</th>\n",
       "      <th>category_list</th>\n",
       "      <th>status</th>\n",
       "      <th>country_code</th>\n",
       "      <th>Primary_Sector</th>\n",
       "      <th>Main_Sector</th>\n",
       "      <th>Total_amount_in_Sector</th>\n",
       "      <th>Total_count_in_Sector</th>\n",
       "    </tr>\n",
       "  </thead>\n",
       "  <tbody>\n",
       "    <tr>\n",
       "      <th>1</th>\n",
       "      <td>/organization/90min</td>\n",
       "      <td>06-10-2015</td>\n",
       "      <td>15000000.00</td>\n",
       "      <td>90min</td>\n",
       "      <td>Media|news|publishing|soccer|sports</td>\n",
       "      <td>operating</td>\n",
       "      <td>GBR</td>\n",
       "      <td>Media</td>\n",
       "      <td>Entertainment</td>\n",
       "      <td>482784687.00</td>\n",
       "      <td>56</td>\n",
       "    </tr>\n",
       "    <tr>\n",
       "      <th>2</th>\n",
       "      <td>/organization/90min</td>\n",
       "      <td>07-05-2013</td>\n",
       "      <td>5800000.00</td>\n",
       "      <td>90min</td>\n",
       "      <td>Media|news|publishing|soccer|sports</td>\n",
       "      <td>operating</td>\n",
       "      <td>GBR</td>\n",
       "      <td>Media</td>\n",
       "      <td>Entertainment</td>\n",
       "      <td>482784687.00</td>\n",
       "      <td>56</td>\n",
       "    </tr>\n",
       "    <tr>\n",
       "      <th>10775</th>\n",
       "      <td>/organization/eutechnyx</td>\n",
       "      <td>13-05-2010</td>\n",
       "      <td>8800000.00</td>\n",
       "      <td>Eutechnyx</td>\n",
       "      <td>Games</td>\n",
       "      <td>operating</td>\n",
       "      <td>GBR</td>\n",
       "      <td>Games</td>\n",
       "      <td>Entertainment</td>\n",
       "      <td>482784687.00</td>\n",
       "      <td>56</td>\n",
       "    </tr>\n",
       "    <tr>\n",
       "      <th>11065</th>\n",
       "      <td>/organization/mind-candy</td>\n",
       "      <td>01-06-2011</td>\n",
       "      <td>10000000.00</td>\n",
       "      <td>Mind Candy</td>\n",
       "      <td>Games</td>\n",
       "      <td>operating</td>\n",
       "      <td>GBR</td>\n",
       "      <td>Games</td>\n",
       "      <td>Entertainment</td>\n",
       "      <td>482784687.00</td>\n",
       "      <td>56</td>\n",
       "    </tr>\n",
       "    <tr>\n",
       "      <th>11066</th>\n",
       "      <td>/organization/mind-candy</td>\n",
       "      <td>23-11-2006</td>\n",
       "      <td>10860000.00</td>\n",
       "      <td>Mind Candy</td>\n",
       "      <td>Games</td>\n",
       "      <td>operating</td>\n",
       "      <td>GBR</td>\n",
       "      <td>Games</td>\n",
       "      <td>Entertainment</td>\n",
       "      <td>482784687.00</td>\n",
       "      <td>56</td>\n",
       "    </tr>\n",
       "  </tbody>\n",
       "</table>\n",
       "</div>"
      ],
      "text/plain": [
       "              company_permalink   funded_at  raised_amount_usd        name  \\\n",
       "1           /organization/90min  06-10-2015        15000000.00       90min   \n",
       "2           /organization/90min  07-05-2013         5800000.00       90min   \n",
       "10775   /organization/eutechnyx  13-05-2010         8800000.00   Eutechnyx   \n",
       "11065  /organization/mind-candy  01-06-2011        10000000.00  Mind Candy   \n",
       "11066  /organization/mind-candy  23-11-2006        10860000.00  Mind Candy   \n",
       "\n",
       "                             category_list     status country_code  \\\n",
       "1      Media|news|publishing|soccer|sports  operating          GBR   \n",
       "2      Media|news|publishing|soccer|sports  operating          GBR   \n",
       "10775                                Games  operating          GBR   \n",
       "11065                                Games  operating          GBR   \n",
       "11066                                Games  operating          GBR   \n",
       "\n",
       "      Primary_Sector    Main_Sector  Total_amount_in_Sector  \\\n",
       "1              Media  Entertainment            482784687.00   \n",
       "2              Media  Entertainment            482784687.00   \n",
       "10775          Games  Entertainment            482784687.00   \n",
       "11065          Games  Entertainment            482784687.00   \n",
       "11066          Games  Entertainment            482784687.00   \n",
       "\n",
       "       Total_count_in_Sector  \n",
       "1                         56  \n",
       "2                         56  \n",
       "10775                     56  \n",
       "11065                     56  \n",
       "11066                     56  "
      ]
     },
     "execution_count": 42,
     "metadata": {},
     "output_type": "execute_result"
    }
   ],
   "source": [
    "#Creating Dataframe D2 with country as GBR\n",
    "#Step 1 : Selecting only data from GBR and with Raised amount between 5-15 Million\n",
    "D2=master_frame[(master_frame['country_code']=='GBR') & (master_frame['raised_amount_usd']>=5000000) & (master_frame['raised_amount_usd']<=15000000)]\n",
    "\n",
    "#Step 2: Creating another DF for SUM and count of total investments\n",
    "D2_new = D2[['raised_amount_usd','Main_Sector']].groupby('Main_Sector').agg(['sum', 'count']).rename(columns={'sum':'Total_amount_in_Sector','count' : 'Total_count_in_Sector'})\n",
    "D2_new.columns=D2_new.columns.get_level_values(1)\n",
    "#Step 3: Merging both the dataframes for our resultant output\n",
    "D2=D2.merge(D2_new,how='inner',on='Main_Sector',right_index=True)\n",
    "\n",
    "D2.head()"
   ]
  },
  {
   "cell_type": "code",
   "execution_count": 43,
   "metadata": {},
   "outputs": [
    {
     "data": {
      "text/html": [
       "<div>\n",
       "<style scoped>\n",
       "    .dataframe tbody tr th:only-of-type {\n",
       "        vertical-align: middle;\n",
       "    }\n",
       "\n",
       "    .dataframe tbody tr th {\n",
       "        vertical-align: top;\n",
       "    }\n",
       "\n",
       "    .dataframe thead th {\n",
       "        text-align: right;\n",
       "    }\n",
       "</style>\n",
       "<table border=\"1\" class=\"dataframe\">\n",
       "  <thead>\n",
       "    <tr style=\"text-align: right;\">\n",
       "      <th></th>\n",
       "      <th>company_permalink</th>\n",
       "      <th>funded_at</th>\n",
       "      <th>raised_amount_usd</th>\n",
       "      <th>name</th>\n",
       "      <th>category_list</th>\n",
       "      <th>status</th>\n",
       "      <th>country_code</th>\n",
       "      <th>Primary_Sector</th>\n",
       "      <th>Main_Sector</th>\n",
       "      <th>Total_amount_in_Sector</th>\n",
       "      <th>Total_count_in_Sector</th>\n",
       "    </tr>\n",
       "  </thead>\n",
       "  <tbody>\n",
       "    <tr>\n",
       "      <th>0</th>\n",
       "      <td>/organization/-fame</td>\n",
       "      <td>05-01-2015</td>\n",
       "      <td>10000000.00</td>\n",
       "      <td>#fame</td>\n",
       "      <td>Media</td>\n",
       "      <td>operating</td>\n",
       "      <td>IND</td>\n",
       "      <td>Media</td>\n",
       "      <td>Entertainment</td>\n",
       "      <td>280830000.00</td>\n",
       "      <td>33</td>\n",
       "    </tr>\n",
       "    <tr>\n",
       "      <th>10728</th>\n",
       "      <td>/organization/dhruva</td>\n",
       "      <td>27-11-2006</td>\n",
       "      <td>5000000.00</td>\n",
       "      <td>Dhruva</td>\n",
       "      <td>Games</td>\n",
       "      <td>operating</td>\n",
       "      <td>IND</td>\n",
       "      <td>Games</td>\n",
       "      <td>Entertainment</td>\n",
       "      <td>280830000.00</td>\n",
       "      <td>33</td>\n",
       "    </tr>\n",
       "    <tr>\n",
       "      <th>10850</th>\n",
       "      <td>/organization/games2win</td>\n",
       "      <td>29-03-2007</td>\n",
       "      <td>5000000.00</td>\n",
       "      <td>Games2Win</td>\n",
       "      <td>Games</td>\n",
       "      <td>operating</td>\n",
       "      <td>IND</td>\n",
       "      <td>Games</td>\n",
       "      <td>Entertainment</td>\n",
       "      <td>280830000.00</td>\n",
       "      <td>33</td>\n",
       "    </tr>\n",
       "    <tr>\n",
       "      <th>10852</th>\n",
       "      <td>/organization/games2win</td>\n",
       "      <td>30-03-2011</td>\n",
       "      <td>6000000.00</td>\n",
       "      <td>Games2Win</td>\n",
       "      <td>Games</td>\n",
       "      <td>operating</td>\n",
       "      <td>IND</td>\n",
       "      <td>Games</td>\n",
       "      <td>Entertainment</td>\n",
       "      <td>280830000.00</td>\n",
       "      <td>33</td>\n",
       "    </tr>\n",
       "    <tr>\n",
       "      <th>11201</th>\n",
       "      <td>/organization/pokkt</td>\n",
       "      <td>03-11-2015</td>\n",
       "      <td>5000000.00</td>\n",
       "      <td>POKKT</td>\n",
       "      <td>Games</td>\n",
       "      <td>operating</td>\n",
       "      <td>IND</td>\n",
       "      <td>Games</td>\n",
       "      <td>Entertainment</td>\n",
       "      <td>280830000.00</td>\n",
       "      <td>33</td>\n",
       "    </tr>\n",
       "  </tbody>\n",
       "</table>\n",
       "</div>"
      ],
      "text/plain": [
       "             company_permalink   funded_at  raised_amount_usd       name  \\\n",
       "0          /organization/-fame  05-01-2015        10000000.00      #fame   \n",
       "10728     /organization/dhruva  27-11-2006         5000000.00     Dhruva   \n",
       "10850  /organization/games2win  29-03-2007         5000000.00  Games2Win   \n",
       "10852  /organization/games2win  30-03-2011         6000000.00  Games2Win   \n",
       "11201      /organization/pokkt  03-11-2015         5000000.00      POKKT   \n",
       "\n",
       "      category_list     status country_code Primary_Sector    Main_Sector  \\\n",
       "0             Media  operating          IND          Media  Entertainment   \n",
       "10728         Games  operating          IND          Games  Entertainment   \n",
       "10850         Games  operating          IND          Games  Entertainment   \n",
       "10852         Games  operating          IND          Games  Entertainment   \n",
       "11201         Games  operating          IND          Games  Entertainment   \n",
       "\n",
       "       Total_amount_in_Sector  Total_count_in_Sector  \n",
       "0                280830000.00                     33  \n",
       "10728            280830000.00                     33  \n",
       "10850            280830000.00                     33  \n",
       "10852            280830000.00                     33  \n",
       "11201            280830000.00                     33  "
      ]
     },
     "execution_count": 43,
     "metadata": {},
     "output_type": "execute_result"
    }
   ],
   "source": [
    "#Creating Dataframe D3\n",
    "#Step 1 : Selecting only data from IND and with Raised amount between 5-15 Million\n",
    "D3=master_frame[(master_frame['country_code']=='IND') & (master_frame['raised_amount_usd']>=5000000) & (master_frame['raised_amount_usd']<=15000000)]\n",
    "\n",
    "#Step 2: Creating another DF for SUM and count of total investments\n",
    "D3_new = D3[['raised_amount_usd','Main_Sector']].groupby('Main_Sector').agg(['sum', 'count']).rename(columns={'sum':'Total_amount_in_Sector','count' : 'Total_count_in_Sector'})\n",
    "D3_new.columns=D3_new.columns.get_level_values(1)\n",
    "#Step 3: Merging both the dataframes for our resultant output\n",
    "D3=D3.merge(D3_new,how='inner',on='Main_Sector',right_index=True)\n",
    "\n",
    "D3.head()\n"
   ]
  },
  {
   "cell_type": "code",
   "execution_count": 44,
   "metadata": {},
   "outputs": [
    {
     "name": "stdout",
     "output_type": "stream",
     "text": [
      "12063\n",
      "621\n",
      "328\n"
     ]
    }
   ],
   "source": [
    "#Checkpoint 4 \n",
    "# 5.1.1\n",
    "print(len(D1))\n",
    "print(len(D2))\n",
    "print(len(D3))"
   ]
  },
  {
   "cell_type": "markdown",
   "metadata": {},
   "source": [
    "<h3> 5.1.1 Total number of investments (count): </h3> \n",
    "<h4>\n",
    "USA : 12063  \n",
    "<br/>\n",
    "GBR : 621  \n",
    "<br/>\n",
    "IND : 328  \n",
    "</h4>"
   ]
  },
  {
   "cell_type": "code",
   "execution_count": 45,
   "metadata": {
    "scrolled": true
   },
   "outputs": [
    {
     "name": "stdout",
     "output_type": "stream",
     "text": [
      "107757.1\n",
      "5379.08\n",
      "2949.54\n"
     ]
    }
   ],
   "source": [
    "#Checkpoint 4 \n",
    "# 5.1.2 (in million, so diving by 10Lakhs)\n",
    "print(round(D1.raised_amount_usd.sum()/1000000,2))\n",
    "print(round(D2.raised_amount_usd.sum()/1000000,2))\n",
    "print(round(D3.raised_amount_usd.sum()/1000000,2))"
   ]
  },
  {
   "cell_type": "markdown",
   "metadata": {},
   "source": [
    "<h3>5.1.2 Total amount of investment (USD Million):  </h3>\n",
    "<h4>\n",
    "USA : 107757.1  \n",
    "<br/>\n",
    "GBR : 5379.08  \n",
    "<br/>\n",
    "IND : 2949.54  \n",
    "</h4>"
   ]
  },
  {
   "cell_type": "code",
   "execution_count": 46,
   "metadata": {},
   "outputs": [
    {
     "data": {
      "text/html": [
       "<div>\n",
       "<style scoped>\n",
       "    .dataframe tbody tr th:only-of-type {\n",
       "        vertical-align: middle;\n",
       "    }\n",
       "\n",
       "    .dataframe tbody tr th {\n",
       "        vertical-align: top;\n",
       "    }\n",
       "\n",
       "    .dataframe thead th {\n",
       "        text-align: right;\n",
       "    }\n",
       "</style>\n",
       "<table border=\"1\" class=\"dataframe\">\n",
       "  <thead>\n",
       "    <tr style=\"text-align: right;\">\n",
       "      <th></th>\n",
       "      <th>Total_amount_in_Sector</th>\n",
       "      <th>Total_count_in_Sector</th>\n",
       "    </tr>\n",
       "    <tr>\n",
       "      <th>Main_Sector</th>\n",
       "      <th></th>\n",
       "      <th></th>\n",
       "    </tr>\n",
       "  </thead>\n",
       "  <tbody>\n",
       "    <tr>\n",
       "      <th>Others</th>\n",
       "      <td>26321007002.00</td>\n",
       "      <td>2950</td>\n",
       "    </tr>\n",
       "    <tr>\n",
       "      <th>Social, Finance, Analytics, Advertising</th>\n",
       "      <td>23807376964.00</td>\n",
       "      <td>2714</td>\n",
       "    </tr>\n",
       "    <tr>\n",
       "      <th>Cleantech / Semiconductors</th>\n",
       "      <td>21633430822.00</td>\n",
       "      <td>2350</td>\n",
       "    </tr>\n",
       "  </tbody>\n",
       "</table>\n",
       "</div>"
      ],
      "text/plain": [
       "                                         Total_amount_in_Sector  \\\n",
       "Main_Sector                                                       \n",
       "Others                                           26321007002.00   \n",
       "Social, Finance, Analytics, Advertising          23807376964.00   \n",
       "Cleantech / Semiconductors                       21633430822.00   \n",
       "\n",
       "                                         Total_count_in_Sector  \n",
       "Main_Sector                                                     \n",
       "Others                                                    2950  \n",
       "Social, Finance, Analytics, Advertising                   2714  \n",
       "Cleantech / Semiconductors                                2350  "
      ]
     },
     "execution_count": 46,
     "metadata": {},
     "output_type": "execute_result"
    }
   ],
   "source": [
    "#Checkpoint 4 \n",
    "# 5.1.3-5.1.8(USA)\n",
    "\n",
    "D1_new.sort_values('Total_count_in_Sector',ascending=False).head(3)"
   ]
  },
  {
   "cell_type": "markdown",
   "metadata": {},
   "source": [
    "<h3> USA  </h3>\n",
    "<h5>\n",
    "5.1.3 Top sector (based on count of investments):  Others  \n",
    "<br/>\n",
    "5.1.4 Second-best sector (based on count of investments):  Social, Finance, Analytics, Advertising  \n",
    "<br/>\n",
    "5.1.5 Third-best sector (based on count of investments):  Cleantech / Semiconductors  \n",
    "<br/>\n",
    "5.1.6 Number of investments in the top sector (refer to point 3): 2950  \n",
    "<br/>\n",
    "5.1.7 Number of investments in the second-best sector (refer to point 4): 2714  \n",
    "<br/>\n",
    "5.1.8 Number of investments in the third-best sector (refer to point 5): 2350  \n",
    "<br/>\n",
    "</h5>"
   ]
  },
  {
   "cell_type": "code",
   "execution_count": 47,
   "metadata": {},
   "outputs": [
    {
     "data": {
      "text/html": [
       "<div>\n",
       "<style scoped>\n",
       "    .dataframe tbody tr th:only-of-type {\n",
       "        vertical-align: middle;\n",
       "    }\n",
       "\n",
       "    .dataframe tbody tr th {\n",
       "        vertical-align: top;\n",
       "    }\n",
       "\n",
       "    .dataframe thead th {\n",
       "        text-align: right;\n",
       "    }\n",
       "</style>\n",
       "<table border=\"1\" class=\"dataframe\">\n",
       "  <thead>\n",
       "    <tr style=\"text-align: right;\">\n",
       "      <th></th>\n",
       "      <th>Total_amount_in_Sector</th>\n",
       "      <th>Total_count_in_Sector</th>\n",
       "    </tr>\n",
       "    <tr>\n",
       "      <th>Main_Sector</th>\n",
       "      <th></th>\n",
       "      <th></th>\n",
       "    </tr>\n",
       "  </thead>\n",
       "  <tbody>\n",
       "    <tr>\n",
       "      <th>Others</th>\n",
       "      <td>1283624289.00</td>\n",
       "      <td>147</td>\n",
       "    </tr>\n",
       "    <tr>\n",
       "      <th>Social, Finance, Analytics, Advertising</th>\n",
       "      <td>1089404014.00</td>\n",
       "      <td>133</td>\n",
       "    </tr>\n",
       "    <tr>\n",
       "      <th>Cleantech / Semiconductors</th>\n",
       "      <td>1163990056.00</td>\n",
       "      <td>130</td>\n",
       "    </tr>\n",
       "  </tbody>\n",
       "</table>\n",
       "</div>"
      ],
      "text/plain": [
       "                                         Total_amount_in_Sector  \\\n",
       "Main_Sector                                                       \n",
       "Others                                            1283624289.00   \n",
       "Social, Finance, Analytics, Advertising           1089404014.00   \n",
       "Cleantech / Semiconductors                        1163990056.00   \n",
       "\n",
       "                                         Total_count_in_Sector  \n",
       "Main_Sector                                                     \n",
       "Others                                                     147  \n",
       "Social, Finance, Analytics, Advertising                    133  \n",
       "Cleantech / Semiconductors                                 130  "
      ]
     },
     "execution_count": 47,
     "metadata": {},
     "output_type": "execute_result"
    }
   ],
   "source": [
    "#Checkpoint 4 \n",
    "# 5.1.3-5.1.8(GBR)\n",
    "\n",
    "D2_new.sort_values('Total_count_in_Sector',ascending=False).head(3)"
   ]
  },
  {
   "cell_type": "markdown",
   "metadata": {},
   "source": [
    "<h3> Great Britain </h3>\n",
    "<h5>\n",
    "5.1.3 Top sector (based on count of investments):  Others  \n",
    "<br/>\n",
    "5.1.4 Second-best sector (based on count of investments):  Social, Finance, Analytics, Advertising  \n",
    "<br/>\n",
    "5.1.5 Third-best sector (based on count of investments):  Cleantech / Semiconductors  \n",
    "<br/>\n",
    "5.1.6 Number of investments in the top sector (refer to point 3): 147  \n",
    "<br/>\n",
    "5.1.7 Number of investments in the second-best sector (refer to point 4): 133  \n",
    "<br/>\n",
    "5.1.8 Number of investments in the third-best sector (refer to point 5): 130  \n",
    "<br/>\n",
    "</h5>"
   ]
  },
  {
   "cell_type": "code",
   "execution_count": 48,
   "metadata": {},
   "outputs": [
    {
     "data": {
      "text/plain": [
       "Main_Sector\n",
       "Others                                    1013.41\n",
       "Social, Finance, Analytics, Advertising    550.55\n",
       "News, Search and Messaging                 433.83\n",
       "Name: Total_amount_in_Sector, dtype: float64"
      ]
     },
     "execution_count": 48,
     "metadata": {},
     "output_type": "execute_result"
    }
   ],
   "source": [
    "#Checkpoint 4 \n",
    "# 5.1.3-5.1.8(IND)\n",
    "\n",
    "D3_new.sort_values('Total_count_in_Sector',ascending=False).head(3)['Total_amount_in_Sector']/1000000\n"
   ]
  },
  {
   "cell_type": "markdown",
   "metadata": {},
   "source": [
    "<h3> INDIA  </h3>\n",
    "<h5>5.1.3 Top sector (based on count of investments): Others  \n",
    "<br/>\n",
    "5.1.4 Second-best sector (based on count of investments): Social, Finance, Analytics, Advertising  \n",
    "<br/>\n",
    "5.1.5 Third-best sector (based on count of investments): News, Search and Messaging  \n",
    "<br/>\n",
    "5.1.6 Number of investments in the top sector (refer to point 3): 110  \n",
    "<br/>\n",
    "5.1.7 Number of investments in the second-best sector (refer to point 4): 60  \n",
    "<br/>\n",
    "5.1.8 Number of investments in the third-best sector (refer to point 5): 52  \n",
    "<br/>\n",
    "</h5>"
   ]
  },
  {
   "cell_type": "code",
   "execution_count": 49,
   "metadata": {},
   "outputs": [
    {
     "data": {
      "text/plain": [
       "'Virtustream'"
      ]
     },
     "metadata": {},
     "output_type": "display_data"
    },
    {
     "data": {
      "text/plain": [
       "'Electric Cloud'"
      ]
     },
     "metadata": {},
     "output_type": "display_data"
    },
    {
     "data": {
      "text/plain": [
       "'FirstCry.com'"
      ]
     },
     "metadata": {},
     "output_type": "display_data"
    }
   ],
   "source": [
    "#Checkpoint 4 \n",
    "# 5.1.9\n",
    "#For the top sector count-wise (point 3), which company received the highest investment?\n",
    "\n",
    "#Finding for USA - Others Sector\n",
    "display(D1[(D1.Main_Sector=='Others')].groupby('name').raised_amount_usd.sum().sort_values(ascending=False).head(1).index.values[0])\n",
    "\n",
    "#Finding for GBR - Others Sector\n",
    "display(D2[(D2.Main_Sector=='Others')].groupby('name').raised_amount_usd.sum().sort_values(ascending=False).head(1).index.values[0])\n",
    "\n",
    "#Finding for IND - Cleantech / Semiconductors Sector\n",
    "display(D3[(D3.Main_Sector=='Others')].groupby('name').raised_amount_usd.sum().sort_values(ascending=False).head(1).index.values[0])\n",
    "\n",
    "\n"
   ]
  },
  {
   "cell_type": "markdown",
   "metadata": {},
   "source": [
    "<h3>5.1.9 For the top sector count-wise (point 3), which company received the highest investment? </h3>\n",
    "<h5>\n",
    "USA : Virtustream  \n",
    "<br/>\n",
    "GBR : Electric Cloud  \n",
    "<br/>\n",
    "IND : FirstCry.com  \n",
    "</h5>"
   ]
  },
  {
   "cell_type": "code",
   "execution_count": 50,
   "metadata": {},
   "outputs": [
    {
     "name": "stdout",
     "output_type": "stream",
     "text": [
      "SST Inc. (Formerly ShotSpotter)\n",
      "Celltick Technologies\n",
      "Manthan Systems\n"
     ]
    }
   ],
   "source": [
    "#Checkpoint 4 \n",
    "# 5.1.10\n",
    "\n",
    "print(D1[(D1.Main_Sector=='Social, Finance, Analytics, Advertising')].groupby('name').raised_amount_usd.sum().sort_values(ascending=False).head(1).index.values[0])\n",
    "print(D2[(D2.Main_Sector=='Social, Finance, Analytics, Advertising')].groupby('name').raised_amount_usd.sum().sort_values(ascending=False).head(1).index.values[0])\n",
    "print(D3[(D3.Main_Sector=='Social, Finance, Analytics, Advertising')].groupby('name').raised_amount_usd.sum().sort_values(ascending=False).head(1).index.values[0])\n",
    "\n"
   ]
  },
  {
   "cell_type": "markdown",
   "metadata": {},
   "source": [
    "<h3>5.1.10 For the top sector count-wise (point 3), which company received the highest investment? </h3>\n",
    "<h5>\n",
    "USA : SST Inc. (Formerly ShotSpotter)  \n",
    "<br/>\n",
    "GBR : Celltick Technologies  \n",
    "<br/>\n",
    "IND : Manthan Systems  \n",
    "</h5>"
   ]
  },
  {
   "cell_type": "markdown",
   "metadata": {},
   "source": [
    "## CHECKPOINT 6"
   ]
  },
  {
   "cell_type": "code",
   "execution_count": 51,
   "metadata": {},
   "outputs": [
    {
     "data": {
      "text/html": [
       "<div>\n",
       "<style scoped>\n",
       "    .dataframe tbody tr th:only-of-type {\n",
       "        vertical-align: middle;\n",
       "    }\n",
       "\n",
       "    .dataframe tbody tr th {\n",
       "        vertical-align: top;\n",
       "    }\n",
       "\n",
       "    .dataframe thead th {\n",
       "        text-align: right;\n",
       "    }\n",
       "</style>\n",
       "<table border=\"1\" class=\"dataframe\">\n",
       "  <thead>\n",
       "    <tr style=\"text-align: right;\">\n",
       "      <th></th>\n",
       "      <th>company_permalink</th>\n",
       "      <th>funded_at</th>\n",
       "      <th>raised_amount_usd</th>\n",
       "      <th>name</th>\n",
       "      <th>category_list</th>\n",
       "      <th>status</th>\n",
       "      <th>country_code</th>\n",
       "      <th>Primary_Sector</th>\n",
       "      <th>Main_Sector</th>\n",
       "    </tr>\n",
       "  </thead>\n",
       "  <tbody>\n",
       "    <tr>\n",
       "      <th>0</th>\n",
       "      <td>/organization/-fame</td>\n",
       "      <td>05-01-2015</td>\n",
       "      <td>10000000.00</td>\n",
       "      <td>#fame</td>\n",
       "      <td>Media</td>\n",
       "      <td>operating</td>\n",
       "      <td>IND</td>\n",
       "      <td>Media</td>\n",
       "      <td>Entertainment</td>\n",
       "    </tr>\n",
       "    <tr>\n",
       "      <th>1</th>\n",
       "      <td>/organization/90min</td>\n",
       "      <td>06-10-2015</td>\n",
       "      <td>15000000.00</td>\n",
       "      <td>90min</td>\n",
       "      <td>Media|news|publishing|soccer|sports</td>\n",
       "      <td>operating</td>\n",
       "      <td>GBR</td>\n",
       "      <td>Media</td>\n",
       "      <td>Entertainment</td>\n",
       "    </tr>\n",
       "    <tr>\n",
       "      <th>2</th>\n",
       "      <td>/organization/90min</td>\n",
       "      <td>07-05-2013</td>\n",
       "      <td>5800000.00</td>\n",
       "      <td>90min</td>\n",
       "      <td>Media|news|publishing|soccer|sports</td>\n",
       "      <td>operating</td>\n",
       "      <td>GBR</td>\n",
       "      <td>Media</td>\n",
       "      <td>Entertainment</td>\n",
       "    </tr>\n",
       "    <tr>\n",
       "      <th>3</th>\n",
       "      <td>/organization/90min</td>\n",
       "      <td>26-03-2014</td>\n",
       "      <td>18000000.00</td>\n",
       "      <td>90min</td>\n",
       "      <td>Media|news|publishing|soccer|sports</td>\n",
       "      <td>operating</td>\n",
       "      <td>GBR</td>\n",
       "      <td>Media</td>\n",
       "      <td>Entertainment</td>\n",
       "    </tr>\n",
       "    <tr>\n",
       "      <th>4</th>\n",
       "      <td>/organization/all-def-digital</td>\n",
       "      <td>06-08-2014</td>\n",
       "      <td>5000000.00</td>\n",
       "      <td>All Def Digital</td>\n",
       "      <td>Media</td>\n",
       "      <td>operating</td>\n",
       "      <td>USA</td>\n",
       "      <td>Media</td>\n",
       "      <td>Entertainment</td>\n",
       "    </tr>\n",
       "  </tbody>\n",
       "</table>\n",
       "</div>"
      ],
      "text/plain": [
       "               company_permalink   funded_at  raised_amount_usd  \\\n",
       "0            /organization/-fame  05-01-2015        10000000.00   \n",
       "1            /organization/90min  06-10-2015        15000000.00   \n",
       "2            /organization/90min  07-05-2013         5800000.00   \n",
       "3            /organization/90min  26-03-2014        18000000.00   \n",
       "4  /organization/all-def-digital  06-08-2014         5000000.00   \n",
       "\n",
       "              name                        category_list     status  \\\n",
       "0            #fame                                Media  operating   \n",
       "1            90min  Media|news|publishing|soccer|sports  operating   \n",
       "2            90min  Media|news|publishing|soccer|sports  operating   \n",
       "3            90min  Media|news|publishing|soccer|sports  operating   \n",
       "4  All Def Digital                                Media  operating   \n",
       "\n",
       "  country_code Primary_Sector    Main_Sector  \n",
       "0          IND          Media  Entertainment  \n",
       "1          GBR          Media  Entertainment  \n",
       "2          GBR          Media  Entertainment  \n",
       "3          GBR          Media  Entertainment  \n",
       "4          USA          Media  Entertainment  "
      ]
     },
     "execution_count": 51,
     "metadata": {},
     "output_type": "execute_result"
    }
   ],
   "source": [
    "master_frame.head()"
   ]
  },
  {
   "cell_type": "code",
   "execution_count": 52,
   "metadata": {},
   "outputs": [],
   "source": [
    "#Dividing by 10,00,000 to convert data into million\n",
    "master_frame_graph['raised_amount_usd']=master_frame_graph['raised_amount_usd']/1000000\n",
    "top9['raised_amount_usd']=top9['raised_amount_usd']/1000000\n",
    "data_pie_chart=master_frame_graph.groupby('funding_round_type').raised_amount_usd.sum()"
   ]
  },
  {
   "cell_type": "code",
   "execution_count": 53,
   "metadata": {},
   "outputs": [
    {
     "data": {
      "image/png": "[encoded data removed]",
      "text/plain": [
       "<Figure size 1080x1080 with 2 Axes>"
      ]
     },
     "metadata": {
      "needs_background": "light"
     },
     "output_type": "display_data"
    }
   ],
   "source": [
    "#6.1 A plot showing the fraction of total investments (globally) in angel, venture, seed, and private equity, and the average amount of investment in each funding type. This chart should make it clear that a certain funding type (FT) is best suited for Spark Funds.\n",
    "#Creating a Pie chart to show the fraction of each funding type\n",
    "plt.figure(figsize=(15,15))\n",
    "chart1=plt.subplot(211)\n",
    "plt.title('Fraction of total investments in Funding type',fontweight='bold')\n",
    "chart1.pie(data_pie_chart.values,labels=data_pie_chart.index,autopct='%2.1f%%')\n",
    "chart1.axis('equal')\n",
    "#draw circle\n",
    "centre_circle = plt.Circle((0,0),0.70,fc='white')\n",
    "fig = plt.gcf()\n",
    "fig.gca().add_artist(centre_circle)\n",
    "\n",
    "\n",
    "#Plotting in Log scale to better identify the top Funding type\n",
    "#Creating a barchart to show average of each funding type\n",
    "plt.subplot(212)\n",
    "plt.title('Mean of Investments across funding type',fontweight='bold')\n",
    "chart2=sns.barplot('funding_round_type','raised_amount_usd',data=master_frame_graph,estimator=np.median, order=data_pie_chart.index)\n",
    "chart2.set(xlabel='Funding Round Type', ylabel='Mean Amount raised(in Millions)',yscale='log')\n",
    "plt.show()"
   ]
  },
  {
   "cell_type": "markdown",
   "metadata": {},
   "source": [
    "A plot showing the top 9 countries against the total amount of investments of funding type FT. This should make the top 3 countries (Country 1, Country 2, and Country 3) very clear."
   ]
  },
  {
   "cell_type": "code",
   "execution_count": 62,
   "metadata": {},
   "outputs": [
    {
     "data": {
      "image/png": "[encoded data removed]",
      "text/plain": [
       "<Figure size 864x576 with 1 Axes>"
      ]
     },
     "metadata": {
      "needs_background": "light"
     },
     "output_type": "display_data"
    }
   ],
   "source": [
    "#6.2 A plot showing the top 9 countries against the total amount of investments of funding type FT. This should make the top 3 countries (Country 1, Country 2, and Country 3) very clear.\n",
    "#Plotting in Log scale to better identify the top countries\n",
    "plt.figure(figsize=(12,8))\n",
    "plt.title('Total amount of investments in Venture Funding Type', fontweight='bold')\n",
    "chart3=sns.barplot(x=top9.index,y=top9['raised_amount_usd'])\n",
    "#chart3.set(xlabel='Country',ylabel='Raised amount in USD(Million)',yscale='log')\n",
    "plt.show()"
   ]
  },
  {
   "cell_type": "code",
   "execution_count": 55,
   "metadata": {},
   "outputs": [
    {
     "data": {
      "image/png": "[encoded data removed]",
      "text/plain": [
       "<Figure size 1080x720 with 1 Axes>"
      ]
     },
     "metadata": {
      "needs_background": "light"
     },
     "output_type": "display_data"
    }
   ],
   "source": [
    "#6.3 A plot showing the number of investments in the top 3 sectors of the top 3 countries on one chart (for the chosen investment type FT). \n",
    "#Plotting in Log scale to better identify the top Sectors\n",
    "D=pd.concat([D1,D2,D3])\n",
    "plt.figure(figsize=(15,10))\n",
    "plt.title('Country Wise count of Sectors' , fontweight='bold')\n",
    "chart4=sns.barplot(x=D['country_code'],y=D['raised_amount_usd'],hue=D['Main_Sector'],estimator=len)\n",
    "chart4.set(xlabel='Country Code', ylabel='Count of Sectors',yscale='log')\n",
    "plt.show()"
   ]
  },
  {
   "cell_type": "code",
   "execution_count": 56,
   "metadata": {},
   "outputs": [
    {
     "data": {
      "text/plain": [
       "Index(['company_permalink', 'funded_at', 'raised_amount_usd', 'name',\n",
       "       'category_list', 'status', 'country_code', 'Primary_Sector',\n",
       "       'Main_Sector', 'Total_amount_in_Sector', 'Total_count_in_Sector'],\n",
       "      dtype='object')"
      ]
     },
     "execution_count": 56,
     "metadata": {},
     "output_type": "execute_result"
    }
   ],
   "source": [
    "D2.columns"
   ]
  },
  {
   "cell_type": "code",
   "execution_count": 58,
   "metadata": {},
   "outputs": [
    {
     "data": {
      "text/plain": [
       "500"
      ]
     },
     "execution_count": 58,
     "metadata": {},
     "output_type": "execute_result"
    }
   ],
   "source": [
    "D2.company_permalink.nunique()"
   ]
  },
  {
   "cell_type": "code",
   "execution_count": 59,
   "metadata": {},
   "outputs": [
    {
     "data": {
      "text/plain": [
       "621"
      ]
     },
     "execution_count": 59,
     "metadata": {},
     "output_type": "execute_result"
    }
   ],
   "source": [
    "len(D2)"
   ]
  },
  {
   "cell_type": "code",
   "execution_count": null,
   "metadata": {},
   "outputs": [],
   "source": []
  }
 ],
 "metadata": {
  "kernelspec": {
   "display_name": "Python 3",
   "language": "python",
   "name": "python3"
  },
  "language_info": {
   "codemirror_mode": {
    "name": "ipython",
    "version": 3
   },
   "file_extension": ".py",
   "mimetype": "text/x-python",
   "name": "python",
   "nbconvert_exporter": "python",
   "pygments_lexer": "ipython3",
   "version": "3.6.7"
  }
 },
 "nbformat": 4,
 "nbformat_minor": 2
}
