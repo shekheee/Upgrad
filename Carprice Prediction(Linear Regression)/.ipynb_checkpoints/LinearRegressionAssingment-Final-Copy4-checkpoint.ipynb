{
 "cells": [
  {
   "cell_type": "code",
   "execution_count": null,
   "metadata": {},
   "outputs": [],
   "source": [
    "#Importing Libraries \n",
    "import numpy as np\n",
    "import pandas as pd\n",
    "import matplotlib.pyplot as plt\n",
    "import seaborn as sns\n",
    "import statsmodels.api as sm\n",
    "from sklearn import preprocessing\n",
    "%matplotlib inline\n",
    "sns.set_style('whitegrid')\n",
    "PATH='~/Downloads/Upgrad/ML-1/Linear Regression Module/Linear Regression Assignment/Data Files/'\n",
    "# Supress Warnings\n",
    "\n",
    "import warnings\n",
    "warnings.filterwarnings('ignore')"
   ]
  },
  {
   "cell_type": "markdown",
   "metadata": {},
   "source": [
    "# Step 1. Reading and Understanding the Data"
   ]
  },
  {
   "cell_type": "code",
   "execution_count": null,
   "metadata": {},
   "outputs": [],
   "source": [
    "#Loading our dataset\n",
    "carprice=pd.read_csv(PATH+'CarPrice_Assignment.csv')\n"
   ]
  },
  {
   "cell_type": "code",
   "execution_count": null,
   "metadata": {},
   "outputs": [],
   "source": [
    "carprice.head()\n"
   ]
  },
  {
   "cell_type": "code",
   "execution_count": null,
   "metadata": {},
   "outputs": [],
   "source": [
    "carprice.shape"
   ]
  },
  {
   "cell_type": "code",
   "execution_count": null,
   "metadata": {},
   "outputs": [],
   "source": [
    "carprice.info()"
   ]
  },
  {
   "cell_type": "code",
   "execution_count": null,
   "metadata": {},
   "outputs": [],
   "source": [
    "carDictionary=pd.read_excel(PATH+'Data Dictionary - carprices.xlsx')"
   ]
  },
  {
   "cell_type": "code",
   "execution_count": null,
   "metadata": {},
   "outputs": [],
   "source": [
    "pd.set_option('display.max_colwidth', -1)\n",
    "carDictionary"
   ]
  },
  {
   "cell_type": "code",
   "execution_count": null,
   "metadata": {},
   "outputs": [],
   "source": [
    "#Checking if there is any missing data in the dataset\n",
    "carprice.isna().sum()"
   ]
  },
  {
   "cell_type": "code",
   "execution_count": null,
   "metadata": {},
   "outputs": [],
   "source": [
    "%%javascript\n",
    "IPython.OutputArea.auto_scroll_threshold = 9999;"
   ]
  },
  {
   "cell_type": "code",
   "execution_count": null,
   "metadata": {},
   "outputs": [],
   "source": [
    "# get some basic ideas about the data\n",
    "def summarize_data(df):\n",
    "    for column in df.columns:\n",
    "        print (column)\n",
    "        if df.dtypes[column] == np.object: # Categorical data\n",
    "            print (df[column].value_counts())\n",
    "        else:\n",
    "            print (df[column].describe() )\n",
    "            \n",
    "        print ('\\n')\n",
    "    \n",
    "summarize_data(carprice)"
   ]
  },
  {
   "cell_type": "markdown",
   "metadata": {},
   "source": [
    "# Step 2: Cleaning and Visualizing the data"
   ]
  },
  {
   "cell_type": "code",
   "execution_count": null,
   "metadata": {},
   "outputs": [],
   "source": [
    "#Creating a new variable company from CarName and doing some spelling corrections\n",
    "\n",
    "carprice['Company']=carprice['CarName'].apply(lambda x: x.lower().split(' ')[0])\n",
    "carprice['Company']=carprice['Company'].replace({'maxda':'mazda', 'toyouta': 'toyota', 'vokswagen':'volkswagen','vw':'volkswagen','porcshce':'porsche'})"
   ]
  },
  {
   "cell_type": "code",
   "execution_count": null,
   "metadata": {},
   "outputs": [],
   "source": [
    "#Dropping CarID and CarName fields\n",
    "\n",
    "carprice.drop('car_ID',axis=1,inplace=True)\n",
    "carprice.drop('CarName',axis=1,inplace=True)\n"
   ]
  },
  {
   "cell_type": "markdown",
   "metadata": {},
   "source": [
    "## UNIVARIATE ANANALYSIS"
   ]
  },
  {
   "cell_type": "code",
   "execution_count": null,
   "metadata": {},
   "outputs": [],
   "source": [
    "#Plotting our target variable 'price'\n",
    "plt.figure(figsize=(15,10))\n",
    "plt.subplot(2,1,1)\n",
    "sns.distplot(carprice['price'])\n",
    "plt.subplot(2,1,2)\n",
    "sns.boxplot(carprice['price'])"
   ]
  },
  {
   "cell_type": "markdown",
   "metadata": {},
   "source": [
    "Price of the car ranges around 5k-45k with Median around 10k"
   ]
  },
  {
   "cell_type": "markdown",
   "metadata": {},
   "source": [
    "### Visualize the categorical variables: \n",
    "1. Symboling \n",
    "2. fueltype\n",
    "2. aspiration\n",
    "3. doornumber\n",
    "4. carbody\n",
    "5. drivewheel\n",
    "6. enginelocation\n",
    "7. enginetype\n",
    "8. cylindernumber\n",
    "9. fuelsystem\n",
    "10. Company"
   ]
  },
  {
   "cell_type": "code",
   "execution_count": null,
   "metadata": {},
   "outputs": [],
   "source": [
    "#Plotting categorical variables using Countplot and Boxplot\n",
    "plt.figure(figsize=(20,100))\n",
    "i=1\n",
    "for col in carprice:\n",
    "    if(carprice[col].dtypes==object):\n",
    "        plt.subplot(10,2,i)\n",
    "        ax=sns.countplot(carprice[col],palette='viridis')\n",
    "        for p in ax.patches:\n",
    "            width, height = p.get_width(), p.get_height()\n",
    "            x, y = p.get_xy() \n",
    "            ax.annotate('{:}'.format(height), (x+width/2-0.02, y + height+0.6))\n",
    "        plt.xticks(rotation=90)\n",
    "        plt.xlabel(col.capitalize())\n",
    "        \n",
    "        plt.subplot(10,2,i+1)\n",
    "        sns.boxplot(carprice[col],carprice['price'],palette='viridis')\n",
    "        plt.xticks(rotation=90)\n",
    "        plt.xlabel(col.capitalize())\n",
    "        plt.ylabel('Price')\n",
    "        i+=2"
   ]
  },
  {
   "cell_type": "code",
   "execution_count": null,
   "metadata": {},
   "outputs": [],
   "source": []
  },
  {
   "cell_type": "markdown",
   "metadata": {},
   "source": [
    "# Step 3: Data Preparation"
   ]
  },
  {
   "cell_type": "code",
   "execution_count": null,
   "metadata": {},
   "outputs": [],
   "source": [
    "#Converting Cylindernumber and door number to integer\n",
    "\n",
    "carprice['cylindernumber']=carprice['cylindernumber'].replace({'two':2,'three':3,'four':4,'five':5,'six':6,'eight':8,'twelve':12})\n",
    "carprice['doornumber']=carprice['doornumber'].replace({'two':2,'four':4})"
   ]
  },
  {
   "cell_type": "markdown",
   "metadata": {},
   "source": [
    "### Checking the Correlation\n",
    "We will not label encode the categorical variables and check the correlation between the variables"
   ]
  },
  {
   "cell_type": "code",
   "execution_count": null,
   "metadata": {},
   "outputs": [],
   "source": [
    "# Encode the categorical features as numbers to check correlation\n",
    "def number_encode_features(df):\n",
    "    result = df.copy()\n",
    "    encoders = {}\n",
    "    for column in result.columns:\n",
    "        if result.dtypes[column] == np.object:\n",
    "            encoders[column] = preprocessing.LabelEncoder()\n",
    "            result[column] = encoders[column].fit_transform(result[column])\n",
    "    return result\n",
    "\n",
    "\n",
    "# Calculate the correlation and plot it\n",
    "encoded_data= number_encode_features(carprice)\n",
    "plt.figure(figsize=(20,20))\n",
    "sns.heatmap(abs(encoded_data.corr()), square=True,cmap='viridis')\n"
   ]
  },
  {
   "cell_type": "markdown",
   "metadata": {},
   "source": [
    "We can see that there is a high correlation between fueltype and compression ratio, and , highwaympg and citympg. Lets check on this further."
   ]
  },
  {
   "cell_type": "code",
   "execution_count": null,
   "metadata": {},
   "outputs": [],
   "source": [
    "#Lets first analyse fueltype and compression ratio\n",
    "\n",
    "print(carprice[[\"fueltype\", \"compressionratio\"]])\n",
    "sns.barplot(\"fueltype\", \"compressionratio\",data=carprice,palette='viridis')"
   ]
  },
  {
   "cell_type": "markdown",
   "metadata": {},
   "source": [
    "We can see the difference in the compression ratio between gas and diesel and clearly see why the columns have high correlation, we will drop compression ratio in our further analysis."
   ]
  },
  {
   "cell_type": "code",
   "execution_count": null,
   "metadata": {},
   "outputs": [],
   "source": [
    "#Dropping compressionratio\n",
    "carprice.drop('compressionratio',axis=1,inplace=True)"
   ]
  },
  {
   "cell_type": "code",
   "execution_count": null,
   "metadata": {},
   "outputs": [],
   "source": [
    "# Lets take a look at citympg and highwaympg variables\n",
    "print(carprice[[\"citympg\", \"highwaympg\"]])\n",
    "sns.scatterplot(\"citympg\", \"highwaympg\",data=carprice)"
   ]
  },
  {
   "cell_type": "code",
   "execution_count": null,
   "metadata": {},
   "outputs": [],
   "source": [
    "#Dropping citympg as it is highly corelated with highwaympg\n",
    "carprice.drop('citympg',axis=1,inplace=True)"
   ]
  },
  {
   "cell_type": "code",
   "execution_count": null,
   "metadata": {},
   "outputs": [],
   "source": [
    "plt.figure(figsize=(20,20))\n",
    "sns.heatmap(abs(carprice.drop('price', axis=1).corr()),annot=True,cmap='viridis')\n",
    "#Min Max Scaling of numerical columns in X_train\n"
   ]
  },
  {
   "cell_type": "markdown",
   "metadata": {},
   "source": [
    "### Creating the dummy variables for categories"
   ]
  },
  {
   "cell_type": "code",
   "execution_count": null,
   "metadata": {},
   "outputs": [],
   "source": [
    "#Creating dummy variables for categories \n",
    "\n",
    "varlist=['fueltype','aspiration','carbody','drivewheel','fuelsystem','enginetype','Company','doornumber'\n",
    "         ,'enginelocation']\n",
    "\n",
    "#Label Encoder- Symboling, doornumber, cylindernumber\n",
    "carprice=pd.get_dummies(carprice,columns=varlist,prefix_sep='_',drop_first=True)\n"
   ]
  },
  {
   "cell_type": "code",
   "execution_count": null,
   "metadata": {},
   "outputs": [],
   "source": [
    "carprice.head()"
   ]
  },
  {
   "cell_type": "markdown",
   "metadata": {},
   "source": [
    "# Step 4: Splitting the data into train and test"
   ]
  },
  {
   "cell_type": "code",
   "execution_count": null,
   "metadata": {},
   "outputs": [],
   "source": [
    "#Splitting the data into X_train and X_test\n",
    "\n",
    "from sklearn.model_selection import train_test_split\n",
    "X_train,X_test=train_test_split(carprice, test_size=0.3, random_state=100)"
   ]
  },
  {
   "cell_type": "code",
   "execution_count": null,
   "metadata": {},
   "outputs": [],
   "source": [
    "#Checking the shape of X_train and X_test \n",
    "\n",
    "print(X_train.shape)\n",
    "print(X_test.shape)"
   ]
  },
  {
   "cell_type": "markdown",
   "metadata": {},
   "source": [
    "### Min Max scaling for our continuous variables"
   ]
  },
  {
   "cell_type": "code",
   "execution_count": null,
   "metadata": {},
   "outputs": [],
   "source": [
    "#Min Max Scaling of numerical columns in X_train\n",
    "\n",
    "from sklearn.preprocessing import MinMaxScaler\n",
    "scaler=MinMaxScaler()\n",
    "\n",
    "mm_scaler_list=['wheelbase','carwidth','carheight','boreratio','stroke','horsepower','peakrpm',\n",
    "         'highwaympg','symboling','cylindernumber','price']\n",
    "\n",
    "X_train[mm_scaler_list]=scaler.fit_transform(X_train[mm_scaler_list])\n"
   ]
  },
  {
   "cell_type": "markdown",
   "metadata": {},
   "source": [
    "### Separating the data into independent and predictor variables"
   ]
  },
  {
   "cell_type": "code",
   "execution_count": null,
   "metadata": {},
   "outputs": [],
   "source": [
    "#Dividing X_test into X_test(independent variables) and y(dependent variable price)\n",
    "\n",
    "y_train=X_train.pop('price')\n",
    "X_train=X_train"
   ]
  },
  {
   "cell_type": "code",
   "execution_count": null,
   "metadata": {},
   "outputs": [],
   "source": [
    "#importing  LinearRegression from SKLearn and creating an object and fitting the model with all variables\n",
    "\n",
    "from sklearn.linear_model import LinearRegression\n",
    "lm=LinearRegression()\n",
    "lm.fit(X_train,y_train)"
   ]
  },
  {
   "cell_type": "markdown",
   "metadata": {},
   "source": [
    "### Using RFE to select the top 15 significant features"
   ]
  },
  {
   "cell_type": "code",
   "execution_count": null,
   "metadata": {},
   "outputs": [],
   "source": [
    "#Feature selection using RFE selecting the top 15 variables\n",
    "\n",
    "from sklearn.feature_selection import RFE\n",
    "rfe=RFE(lm,15)\n",
    "rfe.fit(X_train, y_train)"
   ]
  },
  {
   "cell_type": "code",
   "execution_count": null,
   "metadata": {},
   "outputs": [],
   "source": [
    "rfe.support_"
   ]
  },
  {
   "cell_type": "code",
   "execution_count": null,
   "metadata": {},
   "outputs": [],
   "source": [
    "list(zip(X_train.columns,rfe.support_,rfe.ranking_))"
   ]
  },
  {
   "cell_type": "code",
   "execution_count": null,
   "metadata": {},
   "outputs": [],
   "source": [
    "X_train_rfe=X_train[X_train.columns[rfe.support_]]\n",
    "X_train_rfe.head()"
   ]
  },
  {
   "cell_type": "markdown",
   "metadata": {},
   "source": [
    "# Step 5 : Building our model"
   ]
  },
  {
   "cell_type": "code",
   "execution_count": null,
   "metadata": {},
   "outputs": [],
   "source": [
    "#Creating our first model with 15 variables from RFE\n",
    "\n",
    "X_train_rfe=sm.add_constant(X_train_rfe)\n",
    "lr1=sm.OLS(y_train,X_train_rfe).fit()\n",
    "lr1.summary()"
   ]
  },
  {
   "cell_type": "markdown",
   "metadata": {},
   "source": [
    "We have got a low P(F-stats), so we have got a good model. Also, the adjust R-squared is 0.91 which is good as well. The P-value is less than 0.05 for all our variables which is ideal. Lets find the VIF now to avoid any multicollinearity issue."
   ]
  },
  {
   "cell_type": "code",
   "execution_count": 45,
   "metadata": {},
   "outputs": [
    {
     "data": {
      "text/html": [
       "<div>\n",
       "<style scoped>\n",
       "    .dataframe tbody tr th:only-of-type {\n",
       "        vertical-align: middle;\n",
       "    }\n",
       "\n",
       "    .dataframe tbody tr th {\n",
       "        vertical-align: top;\n",
       "    }\n",
       "\n",
       "    .dataframe thead th {\n",
       "        text-align: right;\n",
       "    }\n",
       "</style>\n",
       "<table border=\"1\" class=\"dataframe\">\n",
       "  <thead>\n",
       "    <tr style=\"text-align: right;\">\n",
       "      <th></th>\n",
       "      <th>Features</th>\n",
       "      <th>VIF</th>\n",
       "    </tr>\n",
       "  </thead>\n",
       "  <tbody>\n",
       "    <tr>\n",
       "      <th>0</th>\n",
       "      <td>const</td>\n",
       "      <td>83.42</td>\n",
       "    </tr>\n",
       "    <tr>\n",
       "      <th>8</th>\n",
       "      <td>carbody_sedan</td>\n",
       "      <td>12.74</td>\n",
       "    </tr>\n",
       "    <tr>\n",
       "      <th>7</th>\n",
       "      <td>carbody_hatchback</td>\n",
       "      <td>11.00</td>\n",
       "    </tr>\n",
       "    <tr>\n",
       "      <th>4</th>\n",
       "      <td>horsepower</td>\n",
       "      <td>7.83</td>\n",
       "    </tr>\n",
       "    <tr>\n",
       "      <th>2</th>\n",
       "      <td>carwidth</td>\n",
       "      <td>7.32</td>\n",
       "    </tr>\n",
       "    <tr>\n",
       "      <th>9</th>\n",
       "      <td>carbody_wagon</td>\n",
       "      <td>6.49</td>\n",
       "    </tr>\n",
       "    <tr>\n",
       "      <th>1</th>\n",
       "      <td>wheelbase</td>\n",
       "      <td>5.18</td>\n",
       "    </tr>\n",
       "    <tr>\n",
       "      <th>5</th>\n",
       "      <td>highwaympg</td>\n",
       "      <td>4.52</td>\n",
       "    </tr>\n",
       "    <tr>\n",
       "      <th>3</th>\n",
       "      <td>cylindernumber</td>\n",
       "      <td>3.56</td>\n",
       "    </tr>\n",
       "    <tr>\n",
       "      <th>14</th>\n",
       "      <td>Company_porsche</td>\n",
       "      <td>3.39</td>\n",
       "    </tr>\n",
       "    <tr>\n",
       "      <th>15</th>\n",
       "      <td>enginelocation_rear</td>\n",
       "      <td>2.70</td>\n",
       "    </tr>\n",
       "    <tr>\n",
       "      <th>6</th>\n",
       "      <td>carbody_hardtop</td>\n",
       "      <td>2.46</td>\n",
       "    </tr>\n",
       "    <tr>\n",
       "      <th>10</th>\n",
       "      <td>enginetype_dohcv</td>\n",
       "      <td>2.42</td>\n",
       "    </tr>\n",
       "    <tr>\n",
       "      <th>11</th>\n",
       "      <td>enginetype_rotor</td>\n",
       "      <td>1.65</td>\n",
       "    </tr>\n",
       "    <tr>\n",
       "      <th>13</th>\n",
       "      <td>Company_buick</td>\n",
       "      <td>1.53</td>\n",
       "    </tr>\n",
       "    <tr>\n",
       "      <th>12</th>\n",
       "      <td>Company_bmw</td>\n",
       "      <td>1.21</td>\n",
       "    </tr>\n",
       "  </tbody>\n",
       "</table>\n",
       "</div>"
      ],
      "text/plain": [
       "               Features    VIF\n",
       "0   const                83.42\n",
       "8   carbody_sedan        12.74\n",
       "7   carbody_hatchback    11.00\n",
       "4   horsepower           7.83 \n",
       "2   carwidth             7.32 \n",
       "9   carbody_wagon        6.49 \n",
       "1   wheelbase            5.18 \n",
       "5   highwaympg           4.52 \n",
       "3   cylindernumber       3.56 \n",
       "14  Company_porsche      3.39 \n",
       "15  enginelocation_rear  2.70 \n",
       "6   carbody_hardtop      2.46 \n",
       "10  enginetype_dohcv     2.42 \n",
       "11  enginetype_rotor     1.65 \n",
       "13  Company_buick        1.53 \n",
       "12  Company_bmw          1.21 "
      ]
     },
     "execution_count": 45,
     "metadata": {},
     "output_type": "execute_result"
    }
   ],
   "source": [
    "# Check for the VIF values of the feature variables. \n",
    "from statsmodels.stats.outliers_influence import variance_inflation_factor\n",
    "\n",
    "# Calculate the VIFs again for the new model\n",
    "vif = pd.DataFrame()\n",
    "vif['Features'] = X_train_rfe.columns\n",
    "vif['VIF'] = [variance_inflation_factor(X_train_rfe.values, i) for i in range(X_train_rfe.shape[1])]\n",
    "vif['VIF'] = round(vif['VIF'], 2)\n",
    "vif = vif.sort_values(by = \"VIF\", ascending = False)\n",
    "vif"
   ]
  },
  {
   "cell_type": "markdown",
   "metadata": {},
   "source": [
    "We can see that carbody_sedan has a high VIF, lets remove the variable and check our model."
   ]
  },
  {
   "cell_type": "code",
   "execution_count": 46,
   "metadata": {},
   "outputs": [
    {
     "data": {
      "text/html": [
       "<table class=\"simpletable\">\n",
       "<caption>OLS Regression Results</caption>\n",
       "<tr>\n",
       "  <th>Dep. Variable:</th>          <td>price</td>      <th>  R-squared:         </th> <td>   0.906</td>\n",
       "</tr>\n",
       "<tr>\n",
       "  <th>Model:</th>                   <td>OLS</td>       <th>  Adj. R-squared:    </th> <td>   0.896</td>\n",
       "</tr>\n",
       "<tr>\n",
       "  <th>Method:</th>             <td>Least Squares</td>  <th>  F-statistic:       </th> <td>   88.14</td>\n",
       "</tr>\n",
       "<tr>\n",
       "  <th>Date:</th>             <td>Wed, 27 May 2020</td> <th>  Prob (F-statistic):</th> <td>1.38e-58</td>\n",
       "</tr>\n",
       "<tr>\n",
       "  <th>Time:</th>                 <td>11:48:35</td>     <th>  Log-Likelihood:    </th> <td>  186.02</td>\n",
       "</tr>\n",
       "<tr>\n",
       "  <th>No. Observations:</th>      <td>   143</td>      <th>  AIC:               </th> <td>  -342.0</td>\n",
       "</tr>\n",
       "<tr>\n",
       "  <th>Df Residuals:</th>          <td>   128</td>      <th>  BIC:               </th> <td>  -297.6</td>\n",
       "</tr>\n",
       "<tr>\n",
       "  <th>Df Model:</th>              <td>    14</td>      <th>                     </th>     <td> </td>   \n",
       "</tr>\n",
       "<tr>\n",
       "  <th>Covariance Type:</th>      <td>nonrobust</td>    <th>                     </th>     <td> </td>   \n",
       "</tr>\n",
       "</table>\n",
       "<table class=\"simpletable\">\n",
       "<tr>\n",
       "           <td></td>              <th>coef</th>     <th>std err</th>      <th>t</th>      <th>P>|t|</th>  <th>[0.025</th>    <th>0.975]</th>  \n",
       "</tr>\n",
       "<tr>\n",
       "  <th>const</th>               <td>   -0.2088</td> <td>    0.047</td> <td>   -4.399</td> <td> 0.000</td> <td>   -0.303</td> <td>   -0.115</td>\n",
       "</tr>\n",
       "<tr>\n",
       "  <th>wheelbase</th>           <td>    0.1589</td> <td>    0.060</td> <td>    2.650</td> <td> 0.009</td> <td>    0.040</td> <td>    0.277</td>\n",
       "</tr>\n",
       "<tr>\n",
       "  <th>carwidth</th>            <td>    0.2917</td> <td>    0.085</td> <td>    3.418</td> <td> 0.001</td> <td>    0.123</td> <td>    0.461</td>\n",
       "</tr>\n",
       "<tr>\n",
       "  <th>cylindernumber</th>      <td>    0.2222</td> <td>    0.095</td> <td>    2.334</td> <td> 0.021</td> <td>    0.034</td> <td>    0.411</td>\n",
       "</tr>\n",
       "<tr>\n",
       "  <th>horsepower</th>          <td>    0.5870</td> <td>    0.099</td> <td>    5.957</td> <td> 0.000</td> <td>    0.392</td> <td>    0.782</td>\n",
       "</tr>\n",
       "<tr>\n",
       "  <th>highwaympg</th>          <td>    0.0889</td> <td>    0.064</td> <td>    1.398</td> <td> 0.164</td> <td>   -0.037</td> <td>    0.215</td>\n",
       "</tr>\n",
       "<tr>\n",
       "  <th>carbody_hardtop</th>     <td>   -0.0195</td> <td>    0.050</td> <td>   -0.387</td> <td> 0.700</td> <td>   -0.119</td> <td>    0.080</td>\n",
       "</tr>\n",
       "<tr>\n",
       "  <th>carbody_hatchback</th>   <td>   -0.0373</td> <td>    0.015</td> <td>   -2.543</td> <td> 0.012</td> <td>   -0.066</td> <td>   -0.008</td>\n",
       "</tr>\n",
       "<tr>\n",
       "  <th>carbody_wagon</th>       <td>   -0.0249</td> <td>    0.019</td> <td>   -1.311</td> <td> 0.192</td> <td>   -0.062</td> <td>    0.013</td>\n",
       "</tr>\n",
       "<tr>\n",
       "  <th>enginetype_dohcv</th>    <td>   -0.3054</td> <td>    0.109</td> <td>   -2.814</td> <td> 0.006</td> <td>   -0.520</td> <td>   -0.091</td>\n",
       "</tr>\n",
       "<tr>\n",
       "  <th>enginetype_rotor</th>    <td>    0.1206</td> <td>    0.045</td> <td>    2.681</td> <td> 0.008</td> <td>    0.032</td> <td>    0.210</td>\n",
       "</tr>\n",
       "<tr>\n",
       "  <th>Company_bmw</th>         <td>    0.2409</td> <td>    0.032</td> <td>    7.526</td> <td> 0.000</td> <td>    0.178</td> <td>    0.304</td>\n",
       "</tr>\n",
       "<tr>\n",
       "  <th>Company_buick</th>       <td>    0.2227</td> <td>    0.038</td> <td>    5.848</td> <td> 0.000</td> <td>    0.147</td> <td>    0.298</td>\n",
       "</tr>\n",
       "<tr>\n",
       "  <th>Company_porsche</th>     <td>    0.1744</td> <td>    0.075</td> <td>    2.336</td> <td> 0.021</td> <td>    0.027</td> <td>    0.322</td>\n",
       "</tr>\n",
       "<tr>\n",
       "  <th>enginelocation_rear</th> <td>    0.2254</td> <td>    0.115</td> <td>    1.963</td> <td> 0.052</td> <td>   -0.002</td> <td>    0.453</td>\n",
       "</tr>\n",
       "</table>\n",
       "<table class=\"simpletable\">\n",
       "<tr>\n",
       "  <th>Omnibus:</th>       <td>42.488</td> <th>  Durbin-Watson:     </th> <td>   2.087</td>\n",
       "</tr>\n",
       "<tr>\n",
       "  <th>Prob(Omnibus):</th> <td> 0.000</td> <th>  Jarque-Bera (JB):  </th> <td> 101.338</td>\n",
       "</tr>\n",
       "<tr>\n",
       "  <th>Skew:</th>          <td> 1.219</td> <th>  Prob(JB):          </th> <td>9.88e-23</td>\n",
       "</tr>\n",
       "<tr>\n",
       "  <th>Kurtosis:</th>      <td> 6.326</td> <th>  Cond. No.          </th> <td>    34.9</td>\n",
       "</tr>\n",
       "</table><br/><br/>Warnings:<br/>[1] Standard Errors assume that the covariance matrix of the errors is correctly specified."
      ],
      "text/plain": [
       "<class 'statsmodels.iolib.summary.Summary'>\n",
       "\"\"\"\n",
       "                            OLS Regression Results                            \n",
       "==============================================================================\n",
       "Dep. Variable:                  price   R-squared:                       0.906\n",
       "Model:                            OLS   Adj. R-squared:                  0.896\n",
       "Method:                 Least Squares   F-statistic:                     88.14\n",
       "Date:                Wed, 27 May 2020   Prob (F-statistic):           1.38e-58\n",
       "Time:                        11:48:35   Log-Likelihood:                 186.02\n",
       "No. Observations:                 143   AIC:                            -342.0\n",
       "Df Residuals:                     128   BIC:                            -297.6\n",
       "Df Model:                          14                                         \n",
       "Covariance Type:            nonrobust                                         \n",
       "=======================================================================================\n",
       "                          coef    std err          t      P>|t|      [0.025      0.975]\n",
       "---------------------------------------------------------------------------------------\n",
       "const                  -0.2088      0.047     -4.399      0.000      -0.303      -0.115\n",
       "wheelbase               0.1589      0.060      2.650      0.009       0.040       0.277\n",
       "carwidth                0.2917      0.085      3.418      0.001       0.123       0.461\n",
       "cylindernumber          0.2222      0.095      2.334      0.021       0.034       0.411\n",
       "horsepower              0.5870      0.099      5.957      0.000       0.392       0.782\n",
       "highwaympg              0.0889      0.064      1.398      0.164      -0.037       0.215\n",
       "carbody_hardtop        -0.0195      0.050     -0.387      0.700      -0.119       0.080\n",
       "carbody_hatchback      -0.0373      0.015     -2.543      0.012      -0.066      -0.008\n",
       "carbody_wagon          -0.0249      0.019     -1.311      0.192      -0.062       0.013\n",
       "enginetype_dohcv       -0.3054      0.109     -2.814      0.006      -0.520      -0.091\n",
       "enginetype_rotor        0.1206      0.045      2.681      0.008       0.032       0.210\n",
       "Company_bmw             0.2409      0.032      7.526      0.000       0.178       0.304\n",
       "Company_buick           0.2227      0.038      5.848      0.000       0.147       0.298\n",
       "Company_porsche         0.1744      0.075      2.336      0.021       0.027       0.322\n",
       "enginelocation_rear     0.2254      0.115      1.963      0.052      -0.002       0.453\n",
       "==============================================================================\n",
       "Omnibus:                       42.488   Durbin-Watson:                   2.087\n",
       "Prob(Omnibus):                  0.000   Jarque-Bera (JB):              101.338\n",
       "Skew:                           1.219   Prob(JB):                     9.88e-23\n",
       "Kurtosis:                       6.326   Cond. No.                         34.9\n",
       "==============================================================================\n",
       "\n",
       "Warnings:\n",
       "[1] Standard Errors assume that the covariance matrix of the errors is correctly specified.\n",
       "\"\"\""
      ]
     },
     "execution_count": 46,
     "metadata": {},
     "output_type": "execute_result"
    }
   ],
   "source": [
    "#Creating our second model after dropping carbody_sedan as it has high VIF value\n",
    "X_train_rfe.drop('carbody_sedan', axis=1,inplace=True)\n",
    "lr2=sm.OLS(y_train,X_train_rfe).fit()\n",
    "lr2.summary()"
   ]
  },
  {
   "cell_type": "markdown",
   "metadata": {},
   "source": [
    "After removing the carbody_sedan, the model P(F-stat) is still very low. The adjusted R-square is 0.89 which is still a good number for the model. But certain variables including carbody_hardtop, carbody_wagon, highwaympg, enginelocation_rear have become significant. Lets remove the variable 'carbody_hardtop' and build our model again."
   ]
  },
  {
   "cell_type": "code",
   "execution_count": 47,
   "metadata": {},
   "outputs": [
    {
     "data": {
      "text/html": [
       "<table class=\"simpletable\">\n",
       "<caption>OLS Regression Results</caption>\n",
       "<tr>\n",
       "  <th>Dep. Variable:</th>          <td>price</td>      <th>  R-squared:         </th> <td>   0.906</td>\n",
       "</tr>\n",
       "<tr>\n",
       "  <th>Model:</th>                   <td>OLS</td>       <th>  Adj. R-squared:    </th> <td>   0.896</td>\n",
       "</tr>\n",
       "<tr>\n",
       "  <th>Method:</th>             <td>Least Squares</td>  <th>  F-statistic:       </th> <td>   95.54</td>\n",
       "</tr>\n",
       "<tr>\n",
       "  <th>Date:</th>             <td>Wed, 27 May 2020</td> <th>  Prob (F-statistic):</th> <td>1.49e-59</td>\n",
       "</tr>\n",
       "<tr>\n",
       "  <th>Time:</th>                 <td>11:48:35</td>     <th>  Log-Likelihood:    </th> <td>  185.94</td>\n",
       "</tr>\n",
       "<tr>\n",
       "  <th>No. Observations:</th>      <td>   143</td>      <th>  AIC:               </th> <td>  -343.9</td>\n",
       "</tr>\n",
       "<tr>\n",
       "  <th>Df Residuals:</th>          <td>   129</td>      <th>  BIC:               </th> <td>  -302.4</td>\n",
       "</tr>\n",
       "<tr>\n",
       "  <th>Df Model:</th>              <td>    13</td>      <th>                     </th>     <td> </td>   \n",
       "</tr>\n",
       "<tr>\n",
       "  <th>Covariance Type:</th>      <td>nonrobust</td>    <th>                     </th>     <td> </td>   \n",
       "</tr>\n",
       "</table>\n",
       "<table class=\"simpletable\">\n",
       "<tr>\n",
       "           <td></td>              <th>coef</th>     <th>std err</th>      <th>t</th>      <th>P>|t|</th>  <th>[0.025</th>    <th>0.975]</th>  \n",
       "</tr>\n",
       "<tr>\n",
       "  <th>const</th>               <td>   -0.2099</td> <td>    0.047</td> <td>   -4.446</td> <td> 0.000</td> <td>   -0.303</td> <td>   -0.117</td>\n",
       "</tr>\n",
       "<tr>\n",
       "  <th>wheelbase</th>           <td>    0.1582</td> <td>    0.060</td> <td>    2.649</td> <td> 0.009</td> <td>    0.040</td> <td>    0.276</td>\n",
       "</tr>\n",
       "<tr>\n",
       "  <th>carwidth</th>            <td>    0.2942</td> <td>    0.085</td> <td>    3.469</td> <td> 0.001</td> <td>    0.126</td> <td>    0.462</td>\n",
       "</tr>\n",
       "<tr>\n",
       "  <th>cylindernumber</th>      <td>    0.2244</td> <td>    0.095</td> <td>    2.368</td> <td> 0.019</td> <td>    0.037</td> <td>    0.412</td>\n",
       "</tr>\n",
       "<tr>\n",
       "  <th>horsepower</th>          <td>    0.5841</td> <td>    0.098</td> <td>    5.964</td> <td> 0.000</td> <td>    0.390</td> <td>    0.778</td>\n",
       "</tr>\n",
       "<tr>\n",
       "  <th>highwaympg</th>          <td>    0.0882</td> <td>    0.063</td> <td>    1.393</td> <td> 0.166</td> <td>   -0.037</td> <td>    0.214</td>\n",
       "</tr>\n",
       "<tr>\n",
       "  <th>carbody_hatchback</th>   <td>   -0.0366</td> <td>    0.014</td> <td>   -2.523</td> <td> 0.013</td> <td>   -0.065</td> <td>   -0.008</td>\n",
       "</tr>\n",
       "<tr>\n",
       "  <th>carbody_wagon</th>       <td>   -0.0242</td> <td>    0.019</td> <td>   -1.287</td> <td> 0.200</td> <td>   -0.062</td> <td>    0.013</td>\n",
       "</tr>\n",
       "<tr>\n",
       "  <th>enginetype_dohcv</th>    <td>   -0.3052</td> <td>    0.108</td> <td>   -2.822</td> <td> 0.006</td> <td>   -0.519</td> <td>   -0.091</td>\n",
       "</tr>\n",
       "<tr>\n",
       "  <th>enginetype_rotor</th>    <td>    0.1209</td> <td>    0.045</td> <td>    2.697</td> <td> 0.008</td> <td>    0.032</td> <td>    0.210</td>\n",
       "</tr>\n",
       "<tr>\n",
       "  <th>Company_bmw</th>         <td>    0.2415</td> <td>    0.032</td> <td>    7.580</td> <td> 0.000</td> <td>    0.178</td> <td>    0.305</td>\n",
       "</tr>\n",
       "<tr>\n",
       "  <th>Company_buick</th>       <td>    0.2223</td> <td>    0.038</td> <td>    5.859</td> <td> 0.000</td> <td>    0.147</td> <td>    0.297</td>\n",
       "</tr>\n",
       "<tr>\n",
       "  <th>Company_porsche</th>     <td>    0.1742</td> <td>    0.074</td> <td>    2.341</td> <td> 0.021</td> <td>    0.027</td> <td>    0.321</td>\n",
       "</tr>\n",
       "<tr>\n",
       "  <th>enginelocation_rear</th> <td>    0.2076</td> <td>    0.105</td> <td>    1.981</td> <td> 0.050</td> <td>    0.000</td> <td>    0.415</td>\n",
       "</tr>\n",
       "</table>\n",
       "<table class=\"simpletable\">\n",
       "<tr>\n",
       "  <th>Omnibus:</th>       <td>42.936</td> <th>  Durbin-Watson:     </th> <td>   2.077</td>\n",
       "</tr>\n",
       "<tr>\n",
       "  <th>Prob(Omnibus):</th> <td> 0.000</td> <th>  Jarque-Bera (JB):  </th> <td> 102.868</td>\n",
       "</tr>\n",
       "<tr>\n",
       "  <th>Skew:</th>          <td> 1.230</td> <th>  Prob(JB):          </th> <td>4.60e-23</td>\n",
       "</tr>\n",
       "<tr>\n",
       "  <th>Kurtosis:</th>      <td> 6.348</td> <th>  Cond. No.          </th> <td>    34.5</td>\n",
       "</tr>\n",
       "</table><br/><br/>Warnings:<br/>[1] Standard Errors assume that the covariance matrix of the errors is correctly specified."
      ],
      "text/plain": [
       "<class 'statsmodels.iolib.summary.Summary'>\n",
       "\"\"\"\n",
       "                            OLS Regression Results                            \n",
       "==============================================================================\n",
       "Dep. Variable:                  price   R-squared:                       0.906\n",
       "Model:                            OLS   Adj. R-squared:                  0.896\n",
       "Method:                 Least Squares   F-statistic:                     95.54\n",
       "Date:                Wed, 27 May 2020   Prob (F-statistic):           1.49e-59\n",
       "Time:                        11:48:35   Log-Likelihood:                 185.94\n",
       "No. Observations:                 143   AIC:                            -343.9\n",
       "Df Residuals:                     129   BIC:                            -302.4\n",
       "Df Model:                          13                                         \n",
       "Covariance Type:            nonrobust                                         \n",
       "=======================================================================================\n",
       "                          coef    std err          t      P>|t|      [0.025      0.975]\n",
       "---------------------------------------------------------------------------------------\n",
       "const                  -0.2099      0.047     -4.446      0.000      -0.303      -0.117\n",
       "wheelbase               0.1582      0.060      2.649      0.009       0.040       0.276\n",
       "carwidth                0.2942      0.085      3.469      0.001       0.126       0.462\n",
       "cylindernumber          0.2244      0.095      2.368      0.019       0.037       0.412\n",
       "horsepower              0.5841      0.098      5.964      0.000       0.390       0.778\n",
       "highwaympg              0.0882      0.063      1.393      0.166      -0.037       0.214\n",
       "carbody_hatchback      -0.0366      0.014     -2.523      0.013      -0.065      -0.008\n",
       "carbody_wagon          -0.0242      0.019     -1.287      0.200      -0.062       0.013\n",
       "enginetype_dohcv       -0.3052      0.108     -2.822      0.006      -0.519      -0.091\n",
       "enginetype_rotor        0.1209      0.045      2.697      0.008       0.032       0.210\n",
       "Company_bmw             0.2415      0.032      7.580      0.000       0.178       0.305\n",
       "Company_buick           0.2223      0.038      5.859      0.000       0.147       0.297\n",
       "Company_porsche         0.1742      0.074      2.341      0.021       0.027       0.321\n",
       "enginelocation_rear     0.2076      0.105      1.981      0.050       0.000       0.415\n",
       "==============================================================================\n",
       "Omnibus:                       42.936   Durbin-Watson:                   2.077\n",
       "Prob(Omnibus):                  0.000   Jarque-Bera (JB):              102.868\n",
       "Skew:                           1.230   Prob(JB):                     4.60e-23\n",
       "Kurtosis:                       6.348   Cond. No.                         34.5\n",
       "==============================================================================\n",
       "\n",
       "Warnings:\n",
       "[1] Standard Errors assume that the covariance matrix of the errors is correctly specified.\n",
       "\"\"\""
      ]
     },
     "execution_count": 47,
     "metadata": {},
     "output_type": "execute_result"
    }
   ],
   "source": [
    "#Creating our third model after dropping carbody_hardtop as it has high P value\n",
    "\n",
    "X_train_rfe.drop('carbody_hardtop', axis=1,inplace=True)\n",
    "lr3=sm.OLS(y_train,X_train_rfe).fit()\n",
    "lr3.summary()"
   ]
  },
  {
   "cell_type": "markdown",
   "metadata": {},
   "source": [
    "Our R-square has not dropped much but we still have some variables with high P value,which means that some variables are still pretty significant. We will drop carbody_wagon and build our model the fourth time."
   ]
  },
  {
   "cell_type": "code",
   "execution_count": 48,
   "metadata": {},
   "outputs": [
    {
     "data": {
      "text/html": [
       "<table class=\"simpletable\">\n",
       "<caption>OLS Regression Results</caption>\n",
       "<tr>\n",
       "  <th>Dep. Variable:</th>          <td>price</td>      <th>  R-squared:         </th> <td>   0.905</td>\n",
       "</tr>\n",
       "<tr>\n",
       "  <th>Model:</th>                   <td>OLS</td>       <th>  Adj. R-squared:    </th> <td>   0.896</td>\n",
       "</tr>\n",
       "<tr>\n",
       "  <th>Method:</th>             <td>Least Squares</td>  <th>  F-statistic:       </th> <td>   102.8</td>\n",
       "</tr>\n",
       "<tr>\n",
       "  <th>Date:</th>             <td>Wed, 27 May 2020</td> <th>  Prob (F-statistic):</th> <td>3.24e-60</td>\n",
       "</tr>\n",
       "<tr>\n",
       "  <th>Time:</th>                 <td>11:48:35</td>     <th>  Log-Likelihood:    </th> <td>  185.03</td>\n",
       "</tr>\n",
       "<tr>\n",
       "  <th>No. Observations:</th>      <td>   143</td>      <th>  AIC:               </th> <td>  -344.1</td>\n",
       "</tr>\n",
       "<tr>\n",
       "  <th>Df Residuals:</th>          <td>   130</td>      <th>  BIC:               </th> <td>  -305.5</td>\n",
       "</tr>\n",
       "<tr>\n",
       "  <th>Df Model:</th>              <td>    12</td>      <th>                     </th>     <td> </td>   \n",
       "</tr>\n",
       "<tr>\n",
       "  <th>Covariance Type:</th>      <td>nonrobust</td>    <th>                     </th>     <td> </td>   \n",
       "</tr>\n",
       "</table>\n",
       "<table class=\"simpletable\">\n",
       "<tr>\n",
       "           <td></td>              <th>coef</th>     <th>std err</th>      <th>t</th>      <th>P>|t|</th>  <th>[0.025</th>    <th>0.975]</th>  \n",
       "</tr>\n",
       "<tr>\n",
       "  <th>const</th>               <td>   -0.2275</td> <td>    0.045</td> <td>   -5.023</td> <td> 0.000</td> <td>   -0.317</td> <td>   -0.138</td>\n",
       "</tr>\n",
       "<tr>\n",
       "  <th>wheelbase</th>           <td>    0.1452</td> <td>    0.059</td> <td>    2.461</td> <td> 0.015</td> <td>    0.028</td> <td>    0.262</td>\n",
       "</tr>\n",
       "<tr>\n",
       "  <th>carwidth</th>            <td>    0.3143</td> <td>    0.084</td> <td>    3.761</td> <td> 0.000</td> <td>    0.149</td> <td>    0.480</td>\n",
       "</tr>\n",
       "<tr>\n",
       "  <th>cylindernumber</th>      <td>    0.2259</td> <td>    0.095</td> <td>    2.378</td> <td> 0.019</td> <td>    0.038</td> <td>    0.414</td>\n",
       "</tr>\n",
       "<tr>\n",
       "  <th>horsepower</th>          <td>    0.5943</td> <td>    0.098</td> <td>    6.072</td> <td> 0.000</td> <td>    0.401</td> <td>    0.788</td>\n",
       "</tr>\n",
       "<tr>\n",
       "  <th>highwaympg</th>          <td>    0.1047</td> <td>    0.062</td> <td>    1.684</td> <td> 0.095</td> <td>   -0.018</td> <td>    0.228</td>\n",
       "</tr>\n",
       "<tr>\n",
       "  <th>carbody_hatchback</th>   <td>   -0.0323</td> <td>    0.014</td> <td>   -2.284</td> <td> 0.024</td> <td>   -0.060</td> <td>   -0.004</td>\n",
       "</tr>\n",
       "<tr>\n",
       "  <th>enginetype_dohcv</th>    <td>   -0.3173</td> <td>    0.108</td> <td>   -2.938</td> <td> 0.004</td> <td>   -0.531</td> <td>   -0.104</td>\n",
       "</tr>\n",
       "<tr>\n",
       "  <th>enginetype_rotor</th>    <td>    0.1239</td> <td>    0.045</td> <td>    2.759</td> <td> 0.007</td> <td>    0.035</td> <td>    0.213</td>\n",
       "</tr>\n",
       "<tr>\n",
       "  <th>Company_bmw</th>         <td>    0.2479</td> <td>    0.032</td> <td>    7.858</td> <td> 0.000</td> <td>    0.185</td> <td>    0.310</td>\n",
       "</tr>\n",
       "<tr>\n",
       "  <th>Company_buick</th>       <td>    0.2210</td> <td>    0.038</td> <td>    5.811</td> <td> 0.000</td> <td>    0.146</td> <td>    0.296</td>\n",
       "</tr>\n",
       "<tr>\n",
       "  <th>Company_porsche</th>     <td>    0.1689</td> <td>    0.074</td> <td>    2.268</td> <td> 0.025</td> <td>    0.022</td> <td>    0.316</td>\n",
       "</tr>\n",
       "<tr>\n",
       "  <th>enginelocation_rear</th> <td>    0.2130</td> <td>    0.105</td> <td>    2.029</td> <td> 0.045</td> <td>    0.005</td> <td>    0.421</td>\n",
       "</tr>\n",
       "</table>\n",
       "<table class=\"simpletable\">\n",
       "<tr>\n",
       "  <th>Omnibus:</th>       <td>45.865</td> <th>  Durbin-Watson:     </th> <td>   2.102</td>\n",
       "</tr>\n",
       "<tr>\n",
       "  <th>Prob(Omnibus):</th> <td> 0.000</td> <th>  Jarque-Bera (JB):  </th> <td> 114.444</td>\n",
       "</tr>\n",
       "<tr>\n",
       "  <th>Skew:</th>          <td> 1.300</td> <th>  Prob(JB):          </th> <td>1.41e-25</td>\n",
       "</tr>\n",
       "<tr>\n",
       "  <th>Kurtosis:</th>      <td> 6.528</td> <th>  Cond. No.          </th> <td>    34.3</td>\n",
       "</tr>\n",
       "</table><br/><br/>Warnings:<br/>[1] Standard Errors assume that the covariance matrix of the errors is correctly specified."
      ],
      "text/plain": [
       "<class 'statsmodels.iolib.summary.Summary'>\n",
       "\"\"\"\n",
       "                            OLS Regression Results                            \n",
       "==============================================================================\n",
       "Dep. Variable:                  price   R-squared:                       0.905\n",
       "Model:                            OLS   Adj. R-squared:                  0.896\n",
       "Method:                 Least Squares   F-statistic:                     102.8\n",
       "Date:                Wed, 27 May 2020   Prob (F-statistic):           3.24e-60\n",
       "Time:                        11:48:35   Log-Likelihood:                 185.03\n",
       "No. Observations:                 143   AIC:                            -344.1\n",
       "Df Residuals:                     130   BIC:                            -305.5\n",
       "Df Model:                          12                                         \n",
       "Covariance Type:            nonrobust                                         \n",
       "=======================================================================================\n",
       "                          coef    std err          t      P>|t|      [0.025      0.975]\n",
       "---------------------------------------------------------------------------------------\n",
       "const                  -0.2275      0.045     -5.023      0.000      -0.317      -0.138\n",
       "wheelbase               0.1452      0.059      2.461      0.015       0.028       0.262\n",
       "carwidth                0.3143      0.084      3.761      0.000       0.149       0.480\n",
       "cylindernumber          0.2259      0.095      2.378      0.019       0.038       0.414\n",
       "horsepower              0.5943      0.098      6.072      0.000       0.401       0.788\n",
       "highwaympg              0.1047      0.062      1.684      0.095      -0.018       0.228\n",
       "carbody_hatchback      -0.0323      0.014     -2.284      0.024      -0.060      -0.004\n",
       "enginetype_dohcv       -0.3173      0.108     -2.938      0.004      -0.531      -0.104\n",
       "enginetype_rotor        0.1239      0.045      2.759      0.007       0.035       0.213\n",
       "Company_bmw             0.2479      0.032      7.858      0.000       0.185       0.310\n",
       "Company_buick           0.2210      0.038      5.811      0.000       0.146       0.296\n",
       "Company_porsche         0.1689      0.074      2.268      0.025       0.022       0.316\n",
       "enginelocation_rear     0.2130      0.105      2.029      0.045       0.005       0.421\n",
       "==============================================================================\n",
       "Omnibus:                       45.865   Durbin-Watson:                   2.102\n",
       "Prob(Omnibus):                  0.000   Jarque-Bera (JB):              114.444\n",
       "Skew:                           1.300   Prob(JB):                     1.41e-25\n",
       "Kurtosis:                       6.528   Cond. No.                         34.3\n",
       "==============================================================================\n",
       "\n",
       "Warnings:\n",
       "[1] Standard Errors assume that the covariance matrix of the errors is correctly specified.\n",
       "\"\"\""
      ]
     },
     "execution_count": 48,
     "metadata": {},
     "output_type": "execute_result"
    }
   ],
   "source": [
    "#Creating our fourth model after dropping carbody_wagon as it has high VIF\n",
    "\n",
    "X_train_rfe.drop('carbody_wagon', axis=1,inplace=True)\n",
    "lr4=sm.OLS(y_train,X_train_rfe).fit()\n",
    "lr4.summary()"
   ]
  },
  {
   "cell_type": "markdown",
   "metadata": {},
   "source": [
    "Our R-square has not dropped after dropping 'carbody_wagon' but we still have some variables with high P value. We will drop highwaympg and build our model the fourth time."
   ]
  },
  {
   "cell_type": "code",
   "execution_count": 49,
   "metadata": {},
   "outputs": [
    {
     "data": {
      "text/html": [
       "<table class=\"simpletable\">\n",
       "<caption>OLS Regression Results</caption>\n",
       "<tr>\n",
       "  <th>Dep. Variable:</th>          <td>price</td>      <th>  R-squared:         </th> <td>   0.903</td>\n",
       "</tr>\n",
       "<tr>\n",
       "  <th>Model:</th>                   <td>OLS</td>       <th>  Adj. R-squared:    </th> <td>   0.894</td>\n",
       "</tr>\n",
       "<tr>\n",
       "  <th>Method:</th>             <td>Least Squares</td>  <th>  F-statistic:       </th> <td>   110.4</td>\n",
       "</tr>\n",
       "<tr>\n",
       "  <th>Date:</th>             <td>Wed, 27 May 2020</td> <th>  Prob (F-statistic):</th> <td>1.21e-60</td>\n",
       "</tr>\n",
       "<tr>\n",
       "  <th>Time:</th>                 <td>11:48:35</td>     <th>  Log-Likelihood:    </th> <td>  183.48</td>\n",
       "</tr>\n",
       "<tr>\n",
       "  <th>No. Observations:</th>      <td>   143</td>      <th>  AIC:               </th> <td>  -343.0</td>\n",
       "</tr>\n",
       "<tr>\n",
       "  <th>Df Residuals:</th>          <td>   131</td>      <th>  BIC:               </th> <td>  -307.4</td>\n",
       "</tr>\n",
       "<tr>\n",
       "  <th>Df Model:</th>              <td>    11</td>      <th>                     </th>     <td> </td>   \n",
       "</tr>\n",
       "<tr>\n",
       "  <th>Covariance Type:</th>      <td>nonrobust</td>    <th>                     </th>     <td> </td>   \n",
       "</tr>\n",
       "</table>\n",
       "<table class=\"simpletable\">\n",
       "<tr>\n",
       "           <td></td>              <th>coef</th>     <th>std err</th>      <th>t</th>      <th>P>|t|</th>  <th>[0.025</th>    <th>0.975]</th>  \n",
       "</tr>\n",
       "<tr>\n",
       "  <th>const</th>               <td>   -0.1627</td> <td>    0.024</td> <td>   -6.768</td> <td> 0.000</td> <td>   -0.210</td> <td>   -0.115</td>\n",
       "</tr>\n",
       "<tr>\n",
       "  <th>wheelbase</th>           <td>    0.1300</td> <td>    0.059</td> <td>    2.213</td> <td> 0.029</td> <td>    0.014</td> <td>    0.246</td>\n",
       "</tr>\n",
       "<tr>\n",
       "  <th>carwidth</th>            <td>    0.3055</td> <td>    0.084</td> <td>    3.636</td> <td> 0.000</td> <td>    0.139</td> <td>    0.472</td>\n",
       "</tr>\n",
       "<tr>\n",
       "  <th>cylindernumber</th>      <td>    0.2565</td> <td>    0.094</td> <td>    2.733</td> <td> 0.007</td> <td>    0.071</td> <td>    0.442</td>\n",
       "</tr>\n",
       "<tr>\n",
       "  <th>horsepower</th>          <td>    0.4898</td> <td>    0.076</td> <td>    6.425</td> <td> 0.000</td> <td>    0.339</td> <td>    0.641</td>\n",
       "</tr>\n",
       "<tr>\n",
       "  <th>carbody_hatchback</th>   <td>   -0.0289</td> <td>    0.014</td> <td>   -2.052</td> <td> 0.042</td> <td>   -0.057</td> <td>   -0.001</td>\n",
       "</tr>\n",
       "<tr>\n",
       "  <th>enginetype_dohcv</th>    <td>   -0.2586</td> <td>    0.103</td> <td>   -2.512</td> <td> 0.013</td> <td>   -0.462</td> <td>   -0.055</td>\n",
       "</tr>\n",
       "<tr>\n",
       "  <th>enginetype_rotor</th>    <td>    0.1080</td> <td>    0.044</td> <td>    2.443</td> <td> 0.016</td> <td>    0.021</td> <td>    0.195</td>\n",
       "</tr>\n",
       "<tr>\n",
       "  <th>Company_bmw</th>         <td>    0.2482</td> <td>    0.032</td> <td>    7.812</td> <td> 0.000</td> <td>    0.185</td> <td>    0.311</td>\n",
       "</tr>\n",
       "<tr>\n",
       "  <th>Company_buick</th>       <td>    0.2161</td> <td>    0.038</td> <td>    5.660</td> <td> 0.000</td> <td>    0.141</td> <td>    0.292</td>\n",
       "</tr>\n",
       "<tr>\n",
       "  <th>Company_porsche</th>     <td>    0.1743</td> <td>    0.075</td> <td>    2.326</td> <td> 0.022</td> <td>    0.026</td> <td>    0.323</td>\n",
       "</tr>\n",
       "<tr>\n",
       "  <th>enginelocation_rear</th> <td>    0.2273</td> <td>    0.105</td> <td>    2.158</td> <td> 0.033</td> <td>    0.019</td> <td>    0.436</td>\n",
       "</tr>\n",
       "</table>\n",
       "<table class=\"simpletable\">\n",
       "<tr>\n",
       "  <th>Omnibus:</th>       <td>48.683</td> <th>  Durbin-Watson:     </th> <td>   2.119</td>\n",
       "</tr>\n",
       "<tr>\n",
       "  <th>Prob(Omnibus):</th> <td> 0.000</td> <th>  Jarque-Bera (JB):  </th> <td> 129.253</td>\n",
       "</tr>\n",
       "<tr>\n",
       "  <th>Skew:</th>          <td> 1.356</td> <th>  Prob(JB):          </th> <td>8.57e-29</td>\n",
       "</tr>\n",
       "<tr>\n",
       "  <th>Kurtosis:</th>      <td> 6.787</td> <th>  Cond. No.          </th> <td>    31.6</td>\n",
       "</tr>\n",
       "</table><br/><br/>Warnings:<br/>[1] Standard Errors assume that the covariance matrix of the errors is correctly specified."
      ],
      "text/plain": [
       "<class 'statsmodels.iolib.summary.Summary'>\n",
       "\"\"\"\n",
       "                            OLS Regression Results                            \n",
       "==============================================================================\n",
       "Dep. Variable:                  price   R-squared:                       0.903\n",
       "Model:                            OLS   Adj. R-squared:                  0.894\n",
       "Method:                 Least Squares   F-statistic:                     110.4\n",
       "Date:                Wed, 27 May 2020   Prob (F-statistic):           1.21e-60\n",
       "Time:                        11:48:35   Log-Likelihood:                 183.48\n",
       "No. Observations:                 143   AIC:                            -343.0\n",
       "Df Residuals:                     131   BIC:                            -307.4\n",
       "Df Model:                          11                                         \n",
       "Covariance Type:            nonrobust                                         \n",
       "=======================================================================================\n",
       "                          coef    std err          t      P>|t|      [0.025      0.975]\n",
       "---------------------------------------------------------------------------------------\n",
       "const                  -0.1627      0.024     -6.768      0.000      -0.210      -0.115\n",
       "wheelbase               0.1300      0.059      2.213      0.029       0.014       0.246\n",
       "carwidth                0.3055      0.084      3.636      0.000       0.139       0.472\n",
       "cylindernumber          0.2565      0.094      2.733      0.007       0.071       0.442\n",
       "horsepower              0.4898      0.076      6.425      0.000       0.339       0.641\n",
       "carbody_hatchback      -0.0289      0.014     -2.052      0.042      -0.057      -0.001\n",
       "enginetype_dohcv       -0.2586      0.103     -2.512      0.013      -0.462      -0.055\n",
       "enginetype_rotor        0.1080      0.044      2.443      0.016       0.021       0.195\n",
       "Company_bmw             0.2482      0.032      7.812      0.000       0.185       0.311\n",
       "Company_buick           0.2161      0.038      5.660      0.000       0.141       0.292\n",
       "Company_porsche         0.1743      0.075      2.326      0.022       0.026       0.323\n",
       "enginelocation_rear     0.2273      0.105      2.158      0.033       0.019       0.436\n",
       "==============================================================================\n",
       "Omnibus:                       48.683   Durbin-Watson:                   2.119\n",
       "Prob(Omnibus):                  0.000   Jarque-Bera (JB):              129.253\n",
       "Skew:                           1.356   Prob(JB):                     8.57e-29\n",
       "Kurtosis:                       6.787   Cond. No.                         31.6\n",
       "==============================================================================\n",
       "\n",
       "Warnings:\n",
       "[1] Standard Errors assume that the covariance matrix of the errors is correctly specified.\n",
       "\"\"\""
      ]
     },
     "execution_count": 49,
     "metadata": {},
     "output_type": "execute_result"
    }
   ],
   "source": [
    "#Creating our fifth model after dropping highwaympg as it has high P-value\n",
    "\n",
    "X_train_rfe.drop('highwaympg', axis=1,inplace=True)\n",
    "lr5=sm.OLS(y_train,X_train_rfe).fit()\n",
    "lr5.summary()"
   ]
  },
  {
   "cell_type": "markdown",
   "metadata": {},
   "source": [
    "Our R-square is still pretty much the same after dropping 'highway_mpg'. The p-value for all variables is less than 0.05, which means all the variables are significant now. Lets check the VIF to check for multicollinearity."
   ]
  },
  {
   "cell_type": "code",
   "execution_count": 50,
   "metadata": {},
   "outputs": [
    {
     "data": {
      "text/html": [
       "<div>\n",
       "<style scoped>\n",
       "    .dataframe tbody tr th:only-of-type {\n",
       "        vertical-align: middle;\n",
       "    }\n",
       "\n",
       "    .dataframe tbody tr th {\n",
       "        vertical-align: top;\n",
       "    }\n",
       "\n",
       "    .dataframe thead th {\n",
       "        text-align: right;\n",
       "    }\n",
       "</style>\n",
       "<table border=\"1\" class=\"dataframe\">\n",
       "  <thead>\n",
       "    <tr style=\"text-align: right;\">\n",
       "      <th></th>\n",
       "      <th>Features</th>\n",
       "      <th>VIF</th>\n",
       "    </tr>\n",
       "  </thead>\n",
       "  <tbody>\n",
       "    <tr>\n",
       "      <th>0</th>\n",
       "      <td>const</td>\n",
       "      <td>16.83</td>\n",
       "    </tr>\n",
       "    <tr>\n",
       "      <th>2</th>\n",
       "      <td>carwidth</td>\n",
       "      <td>6.95</td>\n",
       "    </tr>\n",
       "    <tr>\n",
       "      <th>4</th>\n",
       "      <td>horsepower</td>\n",
       "      <td>4.60</td>\n",
       "    </tr>\n",
       "    <tr>\n",
       "      <th>1</th>\n",
       "      <td>wheelbase</td>\n",
       "      <td>4.21</td>\n",
       "    </tr>\n",
       "    <tr>\n",
       "      <th>3</th>\n",
       "      <td>cylindernumber</td>\n",
       "      <td>3.42</td>\n",
       "    </tr>\n",
       "    <tr>\n",
       "      <th>10</th>\n",
       "      <td>Company_porsche</td>\n",
       "      <td>3.36</td>\n",
       "    </tr>\n",
       "    <tr>\n",
       "      <th>11</th>\n",
       "      <td>enginelocation_rear</td>\n",
       "      <td>2.24</td>\n",
       "    </tr>\n",
       "    <tr>\n",
       "      <th>6</th>\n",
       "      <td>enginetype_dohcv</td>\n",
       "      <td>2.14</td>\n",
       "    </tr>\n",
       "    <tr>\n",
       "      <th>7</th>\n",
       "      <td>enginetype_rotor</td>\n",
       "      <td>1.55</td>\n",
       "    </tr>\n",
       "    <tr>\n",
       "      <th>9</th>\n",
       "      <td>Company_buick</td>\n",
       "      <td>1.43</td>\n",
       "    </tr>\n",
       "    <tr>\n",
       "      <th>5</th>\n",
       "      <td>carbody_hatchback</td>\n",
       "      <td>1.30</td>\n",
       "    </tr>\n",
       "    <tr>\n",
       "      <th>8</th>\n",
       "      <td>Company_bmw</td>\n",
       "      <td>1.18</td>\n",
       "    </tr>\n",
       "  </tbody>\n",
       "</table>\n",
       "</div>"
      ],
      "text/plain": [
       "               Features    VIF\n",
       "0   const                16.83\n",
       "2   carwidth             6.95 \n",
       "4   horsepower           4.60 \n",
       "1   wheelbase            4.21 \n",
       "3   cylindernumber       3.42 \n",
       "10  Company_porsche      3.36 \n",
       "11  enginelocation_rear  2.24 \n",
       "6   enginetype_dohcv     2.14 \n",
       "7   enginetype_rotor     1.55 \n",
       "9   Company_buick        1.43 \n",
       "5   carbody_hatchback    1.30 \n",
       "8   Company_bmw          1.18 "
      ]
     },
     "execution_count": 50,
     "metadata": {},
     "output_type": "execute_result"
    }
   ],
   "source": [
    "# Calculate the VIFs again for the new model\n",
    "\n",
    "vif = pd.DataFrame()\n",
    "vif['Features'] = X_train_rfe.columns\n",
    "vif['VIF'] = [variance_inflation_factor(X_train_rfe.values, i) for i in range(X_train_rfe.shape[1])]\n",
    "vif['VIF'] = round(vif['VIF'], 2)\n",
    "vif = vif.sort_values(by = \"VIF\", ascending = False)\n",
    "vif"
   ]
  },
  {
   "cell_type": "markdown",
   "metadata": {},
   "source": [
    "We can see that the VIF of carwidth is 6.95 which is pretty significant, we will drop this variable and build out model again."
   ]
  },
  {
   "cell_type": "code",
   "execution_count": 51,
   "metadata": {},
   "outputs": [
    {
     "data": {
      "text/html": [
       "<table class=\"simpletable\">\n",
       "<caption>OLS Regression Results</caption>\n",
       "<tr>\n",
       "  <th>Dep. Variable:</th>          <td>price</td>      <th>  R-squared:         </th> <td>   0.893</td>\n",
       "</tr>\n",
       "<tr>\n",
       "  <th>Model:</th>                   <td>OLS</td>       <th>  Adj. R-squared:    </th> <td>   0.885</td>\n",
       "</tr>\n",
       "<tr>\n",
       "  <th>Method:</th>             <td>Least Squares</td>  <th>  F-statistic:       </th> <td>   109.9</td>\n",
       "</tr>\n",
       "<tr>\n",
       "  <th>Date:</th>             <td>Wed, 27 May 2020</td> <th>  Prob (F-statistic):</th> <td>5.81e-59</td>\n",
       "</tr>\n",
       "<tr>\n",
       "  <th>Time:</th>                 <td>11:48:35</td>     <th>  Log-Likelihood:    </th> <td>  176.61</td>\n",
       "</tr>\n",
       "<tr>\n",
       "  <th>No. Observations:</th>      <td>   143</td>      <th>  AIC:               </th> <td>  -331.2</td>\n",
       "</tr>\n",
       "<tr>\n",
       "  <th>Df Residuals:</th>          <td>   132</td>      <th>  BIC:               </th> <td>  -298.6</td>\n",
       "</tr>\n",
       "<tr>\n",
       "  <th>Df Model:</th>              <td>    10</td>      <th>                     </th>     <td> </td>   \n",
       "</tr>\n",
       "<tr>\n",
       "  <th>Covariance Type:</th>      <td>nonrobust</td>    <th>                     </th>     <td> </td>   \n",
       "</tr>\n",
       "</table>\n",
       "<table class=\"simpletable\">\n",
       "<tr>\n",
       "           <td></td>              <th>coef</th>     <th>std err</th>      <th>t</th>      <th>P>|t|</th>  <th>[0.025</th>    <th>0.975]</th>  \n",
       "</tr>\n",
       "<tr>\n",
       "  <th>const</th>               <td>   -0.1255</td> <td>    0.023</td> <td>   -5.519</td> <td> 0.000</td> <td>   -0.171</td> <td>   -0.081</td>\n",
       "</tr>\n",
       "<tr>\n",
       "  <th>wheelbase</th>           <td>    0.2946</td> <td>    0.039</td> <td>    7.538</td> <td> 0.000</td> <td>    0.217</td> <td>    0.372</td>\n",
       "</tr>\n",
       "<tr>\n",
       "  <th>cylindernumber</th>      <td>    0.2796</td> <td>    0.098</td> <td>    2.856</td> <td> 0.005</td> <td>    0.086</td> <td>    0.473</td>\n",
       "</tr>\n",
       "<tr>\n",
       "  <th>horsepower</th>          <td>    0.6192</td> <td>    0.070</td> <td>    8.787</td> <td> 0.000</td> <td>    0.480</td> <td>    0.759</td>\n",
       "</tr>\n",
       "<tr>\n",
       "  <th>carbody_hatchback</th>   <td>   -0.0302</td> <td>    0.015</td> <td>   -2.052</td> <td> 0.042</td> <td>   -0.059</td> <td>   -0.001</td>\n",
       "</tr>\n",
       "<tr>\n",
       "  <th>enginetype_dohcv</th>    <td>   -0.2664</td> <td>    0.108</td> <td>   -2.476</td> <td> 0.015</td> <td>   -0.479</td> <td>   -0.054</td>\n",
       "</tr>\n",
       "<tr>\n",
       "  <th>enginetype_rotor</th>    <td>    0.1270</td> <td>    0.046</td> <td>    2.770</td> <td> 0.006</td> <td>    0.036</td> <td>    0.218</td>\n",
       "</tr>\n",
       "<tr>\n",
       "  <th>Company_bmw</th>         <td>    0.2210</td> <td>    0.032</td> <td>    6.846</td> <td> 0.000</td> <td>    0.157</td> <td>    0.285</td>\n",
       "</tr>\n",
       "<tr>\n",
       "  <th>Company_buick</th>       <td>    0.2614</td> <td>    0.038</td> <td>    6.929</td> <td> 0.000</td> <td>    0.187</td> <td>    0.336</td>\n",
       "</tr>\n",
       "<tr>\n",
       "  <th>Company_porsche</th>     <td>    0.2414</td> <td>    0.076</td> <td>    3.180</td> <td> 0.002</td> <td>    0.091</td> <td>    0.392</td>\n",
       "</tr>\n",
       "<tr>\n",
       "  <th>enginelocation_rear</th> <td>    0.1313</td> <td>    0.107</td> <td>    1.232</td> <td> 0.220</td> <td>   -0.080</td> <td>    0.342</td>\n",
       "</tr>\n",
       "</table>\n",
       "<table class=\"simpletable\">\n",
       "<tr>\n",
       "  <th>Omnibus:</th>       <td>31.282</td> <th>  Durbin-Watson:     </th> <td>   2.120</td>\n",
       "</tr>\n",
       "<tr>\n",
       "  <th>Prob(Omnibus):</th> <td> 0.000</td> <th>  Jarque-Bera (JB):  </th> <td>  62.772</td>\n",
       "</tr>\n",
       "<tr>\n",
       "  <th>Skew:</th>          <td> 0.958</td> <th>  Prob(JB):          </th> <td>2.34e-14</td>\n",
       "</tr>\n",
       "<tr>\n",
       "  <th>Kurtosis:</th>      <td> 5.620</td> <th>  Cond. No.          </th> <td>    28.4</td>\n",
       "</tr>\n",
       "</table><br/><br/>Warnings:<br/>[1] Standard Errors assume that the covariance matrix of the errors is correctly specified."
      ],
      "text/plain": [
       "<class 'statsmodels.iolib.summary.Summary'>\n",
       "\"\"\"\n",
       "                            OLS Regression Results                            \n",
       "==============================================================================\n",
       "Dep. Variable:                  price   R-squared:                       0.893\n",
       "Model:                            OLS   Adj. R-squared:                  0.885\n",
       "Method:                 Least Squares   F-statistic:                     109.9\n",
       "Date:                Wed, 27 May 2020   Prob (F-statistic):           5.81e-59\n",
       "Time:                        11:48:35   Log-Likelihood:                 176.61\n",
       "No. Observations:                 143   AIC:                            -331.2\n",
       "Df Residuals:                     132   BIC:                            -298.6\n",
       "Df Model:                          10                                         \n",
       "Covariance Type:            nonrobust                                         \n",
       "=======================================================================================\n",
       "                          coef    std err          t      P>|t|      [0.025      0.975]\n",
       "---------------------------------------------------------------------------------------\n",
       "const                  -0.1255      0.023     -5.519      0.000      -0.171      -0.081\n",
       "wheelbase               0.2946      0.039      7.538      0.000       0.217       0.372\n",
       "cylindernumber          0.2796      0.098      2.856      0.005       0.086       0.473\n",
       "horsepower              0.6192      0.070      8.787      0.000       0.480       0.759\n",
       "carbody_hatchback      -0.0302      0.015     -2.052      0.042      -0.059      -0.001\n",
       "enginetype_dohcv       -0.2664      0.108     -2.476      0.015      -0.479      -0.054\n",
       "enginetype_rotor        0.1270      0.046      2.770      0.006       0.036       0.218\n",
       "Company_bmw             0.2210      0.032      6.846      0.000       0.157       0.285\n",
       "Company_buick           0.2614      0.038      6.929      0.000       0.187       0.336\n",
       "Company_porsche         0.2414      0.076      3.180      0.002       0.091       0.392\n",
       "enginelocation_rear     0.1313      0.107      1.232      0.220      -0.080       0.342\n",
       "==============================================================================\n",
       "Omnibus:                       31.282   Durbin-Watson:                   2.120\n",
       "Prob(Omnibus):                  0.000   Jarque-Bera (JB):               62.772\n",
       "Skew:                           0.958   Prob(JB):                     2.34e-14\n",
       "Kurtosis:                       5.620   Cond. No.                         28.4\n",
       "==============================================================================\n",
       "\n",
       "Warnings:\n",
       "[1] Standard Errors assume that the covariance matrix of the errors is correctly specified.\n",
       "\"\"\""
      ]
     },
     "execution_count": 51,
     "metadata": {},
     "output_type": "execute_result"
    }
   ],
   "source": [
    "#Creating our sixth model after dropping carwidth as it has high VIF\n",
    "\n",
    "X_train_rfe.drop('carwidth', axis=1,inplace=True)\n",
    "lr6=sm.OLS(y_train,X_train_rfe).fit()\n",
    "lr6.summary()"
   ]
  },
  {
   "cell_type": "markdown",
   "metadata": {},
   "source": [
    "Dropping the carwidth has decrease the significance of some variable as they have high P-value. We will drop enginelocation_rear and build our model again."
   ]
  },
  {
   "cell_type": "code",
   "execution_count": 52,
   "metadata": {},
   "outputs": [
    {
     "data": {
      "text/html": [
       "<table class=\"simpletable\">\n",
       "<caption>OLS Regression Results</caption>\n",
       "<tr>\n",
       "  <th>Dep. Variable:</th>          <td>price</td>      <th>  R-squared:         </th> <td>   0.892</td>\n",
       "</tr>\n",
       "<tr>\n",
       "  <th>Model:</th>                   <td>OLS</td>       <th>  Adj. R-squared:    </th> <td>   0.884</td>\n",
       "</tr>\n",
       "<tr>\n",
       "  <th>Method:</th>             <td>Least Squares</td>  <th>  F-statistic:       </th> <td>   121.5</td>\n",
       "</tr>\n",
       "<tr>\n",
       "  <th>Date:</th>             <td>Wed, 27 May 2020</td> <th>  Prob (F-statistic):</th> <td>1.08e-59</td>\n",
       "</tr>\n",
       "<tr>\n",
       "  <th>Time:</th>                 <td>11:48:35</td>     <th>  Log-Likelihood:    </th> <td>  175.79</td>\n",
       "</tr>\n",
       "<tr>\n",
       "  <th>No. Observations:</th>      <td>   143</td>      <th>  AIC:               </th> <td>  -331.6</td>\n",
       "</tr>\n",
       "<tr>\n",
       "  <th>Df Residuals:</th>          <td>   133</td>      <th>  BIC:               </th> <td>  -301.9</td>\n",
       "</tr>\n",
       "<tr>\n",
       "  <th>Df Model:</th>              <td>     9</td>      <th>                     </th>     <td> </td>   \n",
       "</tr>\n",
       "<tr>\n",
       "  <th>Covariance Type:</th>      <td>nonrobust</td>    <th>                     </th>     <td> </td>   \n",
       "</tr>\n",
       "</table>\n",
       "<table class=\"simpletable\">\n",
       "<tr>\n",
       "          <td></td>             <th>coef</th>     <th>std err</th>      <th>t</th>      <th>P>|t|</th>  <th>[0.025</th>    <th>0.975]</th>  \n",
       "</tr>\n",
       "<tr>\n",
       "  <th>const</th>             <td>   -0.1241</td> <td>    0.023</td> <td>   -5.453</td> <td> 0.000</td> <td>   -0.169</td> <td>   -0.079</td>\n",
       "</tr>\n",
       "<tr>\n",
       "  <th>wheelbase</th>         <td>    0.2870</td> <td>    0.039</td> <td>    7.423</td> <td> 0.000</td> <td>    0.211</td> <td>    0.363</td>\n",
       "</tr>\n",
       "<tr>\n",
       "  <th>cylindernumber</th>    <td>    0.2845</td> <td>    0.098</td> <td>    2.903</td> <td> 0.004</td> <td>    0.091</td> <td>    0.478</td>\n",
       "</tr>\n",
       "<tr>\n",
       "  <th>horsepower</th>        <td>    0.6266</td> <td>    0.070</td> <td>    8.907</td> <td> 0.000</td> <td>    0.487</td> <td>    0.766</td>\n",
       "</tr>\n",
       "<tr>\n",
       "  <th>carbody_hatchback</th> <td>   -0.0333</td> <td>    0.015</td> <td>   -2.290</td> <td> 0.024</td> <td>   -0.062</td> <td>   -0.005</td>\n",
       "</tr>\n",
       "<tr>\n",
       "  <th>enginetype_dohcv</th>  <td>   -0.3337</td> <td>    0.093</td> <td>   -3.595</td> <td> 0.000</td> <td>   -0.517</td> <td>   -0.150</td>\n",
       "</tr>\n",
       "<tr>\n",
       "  <th>enginetype_rotor</th>  <td>    0.1291</td> <td>    0.046</td> <td>    2.810</td> <td> 0.006</td> <td>    0.038</td> <td>    0.220</td>\n",
       "</tr>\n",
       "<tr>\n",
       "  <th>Company_bmw</th>       <td>    0.2194</td> <td>    0.032</td> <td>    6.790</td> <td> 0.000</td> <td>    0.155</td> <td>    0.283</td>\n",
       "</tr>\n",
       "<tr>\n",
       "  <th>Company_buick</th>     <td>    0.2612</td> <td>    0.038</td> <td>    6.911</td> <td> 0.000</td> <td>    0.186</td> <td>    0.336</td>\n",
       "</tr>\n",
       "<tr>\n",
       "  <th>Company_porsche</th>   <td>    0.3032</td> <td>    0.057</td> <td>    5.313</td> <td> 0.000</td> <td>    0.190</td> <td>    0.416</td>\n",
       "</tr>\n",
       "</table>\n",
       "<table class=\"simpletable\">\n",
       "<tr>\n",
       "  <th>Omnibus:</th>       <td>29.132</td> <th>  Durbin-Watson:     </th> <td>   2.122</td>\n",
       "</tr>\n",
       "<tr>\n",
       "  <th>Prob(Omnibus):</th> <td> 0.000</td> <th>  Jarque-Bera (JB):  </th> <td>  55.758</td>\n",
       "</tr>\n",
       "<tr>\n",
       "  <th>Skew:</th>          <td> 0.913</td> <th>  Prob(JB):          </th> <td>7.80e-13</td>\n",
       "</tr>\n",
       "<tr>\n",
       "  <th>Kurtosis:</th>      <td> 5.454</td> <th>  Cond. No.          </th> <td>    23.3</td>\n",
       "</tr>\n",
       "</table><br/><br/>Warnings:<br/>[1] Standard Errors assume that the covariance matrix of the errors is correctly specified."
      ],
      "text/plain": [
       "<class 'statsmodels.iolib.summary.Summary'>\n",
       "\"\"\"\n",
       "                            OLS Regression Results                            \n",
       "==============================================================================\n",
       "Dep. Variable:                  price   R-squared:                       0.892\n",
       "Model:                            OLS   Adj. R-squared:                  0.884\n",
       "Method:                 Least Squares   F-statistic:                     121.5\n",
       "Date:                Wed, 27 May 2020   Prob (F-statistic):           1.08e-59\n",
       "Time:                        11:48:35   Log-Likelihood:                 175.79\n",
       "No. Observations:                 143   AIC:                            -331.6\n",
       "Df Residuals:                     133   BIC:                            -301.9\n",
       "Df Model:                           9                                         \n",
       "Covariance Type:            nonrobust                                         \n",
       "=====================================================================================\n",
       "                        coef    std err          t      P>|t|      [0.025      0.975]\n",
       "-------------------------------------------------------------------------------------\n",
       "const                -0.1241      0.023     -5.453      0.000      -0.169      -0.079\n",
       "wheelbase             0.2870      0.039      7.423      0.000       0.211       0.363\n",
       "cylindernumber        0.2845      0.098      2.903      0.004       0.091       0.478\n",
       "horsepower            0.6266      0.070      8.907      0.000       0.487       0.766\n",
       "carbody_hatchback    -0.0333      0.015     -2.290      0.024      -0.062      -0.005\n",
       "enginetype_dohcv     -0.3337      0.093     -3.595      0.000      -0.517      -0.150\n",
       "enginetype_rotor      0.1291      0.046      2.810      0.006       0.038       0.220\n",
       "Company_bmw           0.2194      0.032      6.790      0.000       0.155       0.283\n",
       "Company_buick         0.2612      0.038      6.911      0.000       0.186       0.336\n",
       "Company_porsche       0.3032      0.057      5.313      0.000       0.190       0.416\n",
       "==============================================================================\n",
       "Omnibus:                       29.132   Durbin-Watson:                   2.122\n",
       "Prob(Omnibus):                  0.000   Jarque-Bera (JB):               55.758\n",
       "Skew:                           0.913   Prob(JB):                     7.80e-13\n",
       "Kurtosis:                       5.454   Cond. No.                         23.3\n",
       "==============================================================================\n",
       "\n",
       "Warnings:\n",
       "[1] Standard Errors assume that the covariance matrix of the errors is correctly specified.\n",
       "\"\"\""
      ]
     },
     "execution_count": 52,
     "metadata": {},
     "output_type": "execute_result"
    }
   ],
   "source": [
    "#Creating our seventh model after dropping horsepower as it has high P value\n",
    "\n",
    "X_train_rfe.drop('enginelocation_rear', axis=1,inplace=True)\n",
    "lr7=sm.OLS(y_train,X_train_rfe).fit()\n",
    "lr7.summary()"
   ]
  },
  {
   "cell_type": "markdown",
   "metadata": {},
   "source": [
    "We have got a pretty good F stats and adjusted R-square. All the variables are also significant now. Lets check the VIF for multicollinearity."
   ]
  },
  {
   "cell_type": "code",
   "execution_count": 53,
   "metadata": {},
   "outputs": [
    {
     "data": {
      "text/html": [
       "<div>\n",
       "<style scoped>\n",
       "    .dataframe tbody tr th:only-of-type {\n",
       "        vertical-align: middle;\n",
       "    }\n",
       "\n",
       "    .dataframe tbody tr th {\n",
       "        vertical-align: top;\n",
       "    }\n",
       "\n",
       "    .dataframe thead th {\n",
       "        text-align: right;\n",
       "    }\n",
       "</style>\n",
       "<table border=\"1\" class=\"dataframe\">\n",
       "  <thead>\n",
       "    <tr style=\"text-align: right;\">\n",
       "      <th></th>\n",
       "      <th>Features</th>\n",
       "      <th>VIF</th>\n",
       "    </tr>\n",
       "  </thead>\n",
       "  <tbody>\n",
       "    <tr>\n",
       "      <th>0</th>\n",
       "      <td>const</td>\n",
       "      <td>13.75</td>\n",
       "    </tr>\n",
       "    <tr>\n",
       "      <th>3</th>\n",
       "      <td>horsepower</td>\n",
       "      <td>3.57</td>\n",
       "    </tr>\n",
       "    <tr>\n",
       "      <th>2</th>\n",
       "      <td>cylindernumber</td>\n",
       "      <td>3.40</td>\n",
       "    </tr>\n",
       "    <tr>\n",
       "      <th>9</th>\n",
       "      <td>Company_porsche</td>\n",
       "      <td>1.78</td>\n",
       "    </tr>\n",
       "    <tr>\n",
       "      <th>1</th>\n",
       "      <td>wheelbase</td>\n",
       "      <td>1.67</td>\n",
       "    </tr>\n",
       "    <tr>\n",
       "      <th>5</th>\n",
       "      <td>enginetype_dohcv</td>\n",
       "      <td>1.59</td>\n",
       "    </tr>\n",
       "    <tr>\n",
       "      <th>6</th>\n",
       "      <td>enginetype_rotor</td>\n",
       "      <td>1.52</td>\n",
       "    </tr>\n",
       "    <tr>\n",
       "      <th>8</th>\n",
       "      <td>Company_buick</td>\n",
       "      <td>1.28</td>\n",
       "    </tr>\n",
       "    <tr>\n",
       "      <th>4</th>\n",
       "      <td>carbody_hatchback</td>\n",
       "      <td>1.27</td>\n",
       "    </tr>\n",
       "    <tr>\n",
       "      <th>7</th>\n",
       "      <td>Company_bmw</td>\n",
       "      <td>1.11</td>\n",
       "    </tr>\n",
       "  </tbody>\n",
       "</table>\n",
       "</div>"
      ],
      "text/plain": [
       "            Features    VIF\n",
       "0  const              13.75\n",
       "3  horsepower         3.57 \n",
       "2  cylindernumber     3.40 \n",
       "9  Company_porsche    1.78 \n",
       "1  wheelbase          1.67 \n",
       "5  enginetype_dohcv   1.59 \n",
       "6  enginetype_rotor   1.52 \n",
       "8  Company_buick      1.28 \n",
       "4  carbody_hatchback  1.27 \n",
       "7  Company_bmw        1.11 "
      ]
     },
     "execution_count": 53,
     "metadata": {},
     "output_type": "execute_result"
    }
   ],
   "source": [
    "# Calculate the VIFs again for the new model\n",
    "\n",
    "vif = pd.DataFrame()\n",
    "vif['Features'] = X_train_rfe.columns\n",
    "vif['VIF'] = [variance_inflation_factor(X_train_rfe.values, i) for i in range(X_train_rfe.shape[1])]\n",
    "vif['VIF'] = round(vif['VIF'], 2)\n",
    "vif = vif.sort_values(by = \"VIF\", ascending = False)\n",
    "vif"
   ]
  },
  {
   "cell_type": "markdown",
   "metadata": {},
   "source": [
    "The VIF is now less than 5 for all our variables which means we have a good model now. We will predict the values for the y_train and do the residual analysis now."
   ]
  },
  {
   "cell_type": "markdown",
   "metadata": {},
   "source": [
    "## Residual Analysis"
   ]
  },
  {
   "cell_type": "code",
   "execution_count": 54,
   "metadata": {},
   "outputs": [],
   "source": [
    "#Finding the predicted y_train for our model\n",
    "\n",
    "y_train_predict=lr7.predict(X_train_rfe)"
   ]
  },
  {
   "cell_type": "code",
   "execution_count": 55,
   "metadata": {},
   "outputs": [
    {
     "data": {
      "text/plain": [
       "<matplotlib.axes._subplots.AxesSubplot at 0x12ff2e278>"
      ]
     },
     "execution_count": 55,
     "metadata": {},
     "output_type": "execute_result"
    },
    {
     "data": {
      "image/png": "[encoded data removed]",
      "text/plain": [
       "<Figure size 432x288 with 1 Axes>"
      ]
     },
     "metadata": {},
     "output_type": "display_data"
    }
   ],
   "source": [
    "#Residual analysis\n",
    "sns.distplot(y_train-y_train_predict)"
   ]
  },
  {
   "cell_type": "markdown",
   "metadata": {},
   "source": [
    "THe graph seems to follow a normal distribution around 0. Our assumption that the error term is normally ditributed around 0 is valid for our model. We will now validate if our error is random or not."
   ]
  },
  {
   "cell_type": "code",
   "execution_count": 56,
   "metadata": {},
   "outputs": [
    {
     "data": {
      "text/plain": [
       "<matplotlib.axes._subplots.AxesSubplot at 0x12ffa78d0>"
      ]
     },
     "execution_count": 56,
     "metadata": {},
     "output_type": "execute_result"
    },
    {
     "data": {
      "image/png": "[encoded data removed]",
      "text/plain": [
       "<Figure size 432x288 with 1 Axes>"
      ]
     },
     "metadata": {},
     "output_type": "display_data"
    }
   ],
   "source": [
    "sns.scatterplot(y_train,y_train-y_train_predict)"
   ]
  },
  {
   "cell_type": "markdown",
   "metadata": {},
   "source": [
    "Our error term are pretty random. So this proved our assumptions for linear regression regarding the error terms. <br>\n",
    "Next, we will predict the values on our unseen data X_test."
   ]
  },
  {
   "cell_type": "markdown",
   "metadata": {},
   "source": [
    "# Step 6: Making predictions to the test set using our model"
   ]
  },
  {
   "cell_type": "code",
   "execution_count": 57,
   "metadata": {},
   "outputs": [],
   "source": [
    "#Copying X_test to a new variable X_test_rfe\n",
    "X_test_rfe=X_test.copy()"
   ]
  },
  {
   "cell_type": "markdown",
   "metadata": {},
   "source": [
    "### Scaling our Test set"
   ]
  },
  {
   "cell_type": "code",
   "execution_count": 58,
   "metadata": {},
   "outputs": [],
   "source": [
    "#Min Max Scaling of numerical columns in X_test_rfe\n",
    "\n",
    "X_test_rfe[mm_scaler_list]=scaler.transform(X_test_rfe[mm_scaler_list])"
   ]
  },
  {
   "cell_type": "markdown",
   "metadata": {},
   "source": [
    "### Splitting our Test set into Independent and Predictor variable"
   ]
  },
  {
   "cell_type": "code",
   "execution_count": 59,
   "metadata": {},
   "outputs": [],
   "source": [
    "#Transforming X_test for model prediction and creating y_test\n",
    "\n",
    "varlist=list(X_train_rfe.columns[1:,])\n",
    "y_test_rfe=X_test_rfe.pop('price')\n",
    "X_test_rfe=X_test_rfe[varlist]\n"
   ]
  },
  {
   "cell_type": "code",
   "execution_count": 60,
   "metadata": {},
   "outputs": [],
   "source": [
    "#Adding constant to our test set and making the predictions.\n",
    "X_test_rfe=sm.add_constant(X_test_rfe)\n",
    "\n",
    "y_test_predict=lr7.predict(X_test_rfe)"
   ]
  },
  {
   "cell_type": "code",
   "execution_count": 61,
   "metadata": {},
   "outputs": [
    {
     "data": {
      "text/plain": [
       "Text(0, 0.5, 'y_pred')"
      ]
     },
     "execution_count": 61,
     "metadata": {},
     "output_type": "execute_result"
    },
    {
     "data": {
      "image/png": "[encoded data removed]",
      "text/plain": [
       "<Figure size 432x288 with 1 Axes>"
      ]
     },
     "metadata": {},
     "output_type": "display_data"
    }
   ],
   "source": [
    "# Plotting y_test and y_pred to understand the spread.\n",
    "fig = plt.figure()\n",
    "plt.scatter(y_test_rfe,y_test_predict,cmap='viridis')\n",
    "fig.suptitle('y_test vs y_pred', fontsize=20)              # Plot heading \n",
    "plt.xlabel('y_test', fontsize=18)                          # X-label\n",
    "plt.ylabel('y_pred', fontsize=16)                          # Y-label"
   ]
  },
  {
   "cell_type": "markdown",
   "metadata": {},
   "source": [
    "### Checking our model accuracy"
   ]
  },
  {
   "cell_type": "code",
   "execution_count": 62,
   "metadata": {},
   "outputs": [
    {
     "data": {
      "text/plain": [
       "0.9192117391372214"
      ]
     },
     "execution_count": 62,
     "metadata": {},
     "output_type": "execute_result"
    }
   ],
   "source": [
    "# Lets check our r2 score for the test set.\n",
    "import sklearn.metrics as metrics\n",
    "metrics.r2_score(y_test_rfe,y_test_predict)"
   ]
  },
  {
   "cell_type": "markdown",
   "metadata": {},
   "source": [
    "R2 score is 0.91 which is pretty similar to our model's R square which is 0.89. Lets build a scatterplot to see our initial and predicted  predictor variable."
   ]
  },
  {
   "cell_type": "code",
   "execution_count": 63,
   "metadata": {},
   "outputs": [
    {
     "name": "stdout",
     "output_type": "stream",
     "text": [
      "Mean Absolute Error: 0.050725957348159934\n",
      "Mean Squared Error: 0.0043179899427575295\n",
      "Root Mean Squared Error: 0.06571141409799008\n"
     ]
    }
   ],
   "source": [
    "#Printing MAR, MSE and RMSE\n",
    "\n",
    "print('Mean Absolute Error:', metrics.mean_absolute_error(y_test_rfe,y_test_predict))  \n",
    "print('Mean Squared Error:', metrics.mean_squared_error(y_test_rfe,y_test_predict))  \n",
    "print('Root Mean Squared Error:', np.sqrt(metrics.mean_squared_error(y_test_rfe,y_test_predict)))"
   ]
  },
  {
   "cell_type": "code",
   "execution_count": 64,
   "metadata": {},
   "outputs": [
    {
     "data": {
      "text/plain": [
       "<matplotlib.axes._subplots.AxesSubplot at 0x1301d4da0>"
      ]
     },
     "execution_count": 64,
     "metadata": {},
     "output_type": "execute_result"
    },
    {
     "data": {
      "image/png": "[encoded data removed]",
      "text/plain": [
       "<Figure size 864x720 with 1 Axes>"
      ]
     },
     "metadata": {},
     "output_type": "display_data"
    }
   ],
   "source": [
    "#Plotting the error terms\n",
    "plt.figure(figsize=(12,10))\n",
    "sns.distplot(y_test_rfe-y_test_predict,bins=20,)"
   ]
  },
  {
   "cell_type": "markdown",
   "metadata": {},
   "source": [
    "We can see that the error term is normally distributed around zero, which means our model has done good predictions."
   ]
  },
  {
   "cell_type": "code",
   "execution_count": 65,
   "metadata": {},
   "outputs": [
    {
     "data": {
      "text/plain": [
       "<matplotlib.axes._subplots.AxesSubplot at 0x13029f1d0>"
      ]
     },
     "execution_count": 65,
     "metadata": {},
     "output_type": "execute_result"
    },
    {
     "data": {
      "image/png": "[encoded data removed]",
      "text/plain": [
       "<Figure size 432x288 with 1 Axes>"
      ]
     },
     "metadata": {},
     "output_type": "display_data"
    }
   ],
   "source": [
    "sns.scatterplot(y_test_rfe,y_test_rfe-y_test_predict)"
   ]
  },
  {
   "cell_type": "markdown",
   "metadata": {},
   "source": [
    "Our error term are also randomly distributed on the test set which means that our model has done well on the unseen data."
   ]
  },
  {
   "cell_type": "markdown",
   "metadata": {},
   "source": [
    "### Checking the significance of our Independent variables"
   ]
  },
  {
   "cell_type": "code",
   "execution_count": 66,
   "metadata": {},
   "outputs": [
    {
     "name": "stdout",
     "output_type": "stream",
     "text": [
      "horsepower           0.626624\n",
      "Company_porsche      0.303185\n",
      "wheelbase            0.286992\n",
      "cylindernumber       0.284464\n",
      "Company_buick        0.261213\n",
      "Company_bmw          0.219370\n",
      "enginetype_rotor     0.129062\n",
      "carbody_hatchback   -0.033323\n",
      "enginetype_dohcv    -0.333741\n",
      "dtype: float64\n"
     ]
    },
    {
     "data": {
      "image/png": "[encoded data removed]",
      "text/plain": [
       "<Figure size 432x288 with 1 Axes>"
      ]
     },
     "metadata": {},
     "output_type": "display_data"
    }
   ],
   "source": [
    "coefs = lr7.params[1:].sort_values()\n",
    "plt.subplot(1,1,1)\n",
    "coefs.plot(kind=\"bar\",cmap='viridis')\n",
    "print (coefs.sort_values(ascending = False))"
   ]
  },
  {
   "cell_type": "markdown",
   "metadata": {},
   "source": [
    "Horsepower affects our target variable the most while enginetype_dohcv has the most negative effect on our target variable. Below is the equation of the best fit line identified thorugh our analysis."
   ]
  },
  {
   "cell_type": "code",
   "execution_count": 67,
   "metadata": {},
   "outputs": [
    {
     "name": "stdout",
     "output_type": "stream",
     "text": [
      "Equation of the Best-fit line: \n",
      "\n",
      "Price = (-0.12) + (0.29 * wheelbase) + (0.28 * cylindernumber) + (0.63 * horsepower) + (-0.03 * carbody_hatchback) + (-0.33 * enginetype_dohcv) + (0.13 * enginetype_rotor) + (0.22 * Company_bmw) + (0.26 * Company_buick) + (0.3 * Company_porsche)\n"
     ]
    }
   ],
   "source": [
    "#Equation of the Best fit line\n",
    "print(\"Equation of the Best-fit line: \\n\")\n",
    "for index,value in lr7.params.items():\n",
    "    if(index=='const'):\n",
    "        print('Price = ({0}'.format(round(value,2)),end =\") + \")\n",
    "    elif(index=='Company_porsche'):\n",
    "        print('({0} * '.format(round(value,2))+index+\")\")\n",
    "    else:\n",
    "        print('({0} * '.format(round(value,2))+index,end =\") + \")"
   ]
  },
  {
   "cell_type": "code",
   "execution_count": 68,
   "metadata": {},
   "outputs": [],
   "source": [
    "# sm.qqplot_2samples(y_test_rfe,y_train)"
   ]
  },
  {
   "cell_type": "code",
   "execution_count": 74,
   "metadata": {},
   "outputs": [
    {
     "data": {
      "text/plain": [
       "<matplotlib.axes._subplots.AxesSubplot at 0x11feda320>"
      ]
     },
     "execution_count": 74,
     "metadata": {},
     "output_type": "execute_result"
    },
    {
     "data": {
      "image/png": "[encoded data removed]",
      "text/plain": [
       "<Figure size 720x720 with 2 Axes>"
      ]
     },
     "metadata": {},
     "output_type": "display_data"
    }
   ],
   "source": [
    "plt.figure(figsize=(10,10))\n",
    "sns.heatmap(abs(carprice[varlist].corr()),annot=True)"
   ]
  },
  {
   "cell_type": "code",
   "execution_count": 107,
   "metadata": {},
   "outputs": [],
   "source": [
    "R2Score=pd.DataFrame(columns=['Iteration','R2score'])\n",
    "for i in range(0,1000):\n",
    "    X_train,X_test=train_test_split(carprice, test_size=0.3)\n",
    "#     X_train[mm_scaler_list]=scaler.fit_transform(X_train[mm_scaler_list])\n",
    "#     y_train=X_train.pop('price')\n",
    "#     X_train=X_train\n",
    "    X_test_rfe=X_test.copy()\n",
    "    X_test_rfe[mm_scaler_list]=scaler.transform(X_test_rfe[mm_scaler_list])\n",
    "    y_test_rfe=X_test_rfe.pop('price')\n",
    "    X_test_rfe=X_test_rfe[varlist]\n",
    "    \n",
    "    X_test_rfe=sm.add_constant(X_test_rfe)\n",
    "\n",
    "    y_test_predict=lr7.predict(X_test_rfe)\n",
    "    \n",
    "    r2=metrics.r2_score(y_test_rfe,y_test_predict)\n",
    "    R2Score.loc[i]=[i]+[r2]"
   ]
  },
  {
   "cell_type": "code",
   "execution_count": 108,
   "metadata": {},
   "outputs": [
    {
     "data": {
      "text/plain": [
       "<matplotlib.axes._subplots.AxesSubplot at 0x1210c8978>"
      ]
     },
     "execution_count": 108,
     "metadata": {},
     "output_type": "execute_result"
    },
    {
     "data": {
      "image/png": "[encoded data removed]",
      "text/plain": [
       "<Figure size 432x288 with 1 Axes>"
      ]
     },
     "metadata": {},
     "output_type": "display_data"
    }
   ],
   "source": [
    "sns.distplot(R2Score['R2score'])"
   ]
  },
  {
   "cell_type": "code",
   "execution_count": 109,
   "metadata": {},
   "outputs": [
    {
     "data": {
      "text/plain": [
       "0.8949630221739509"
      ]
     },
     "execution_count": 109,
     "metadata": {},
     "output_type": "execute_result"
    }
   ],
   "source": [
    "R2Score['R2score'].mean()"
   ]
  },
  {
   "cell_type": "code",
   "execution_count": 111,
   "metadata": {},
   "outputs": [
    {
     "ename": "NameError",
     "evalue": "name 'cross_val_score' is not defined",
     "output_type": "error",
     "traceback": [
      "\u001b[0;31m---------------------------------------------------------------------------\u001b[0m",
      "\u001b[0;31mNameError\u001b[0m                                 Traceback (most recent call last)",
      "\u001b[0;32m<ipython-input-111-5ec5b72abf0b>\u001b[0m in \u001b[0;36m<module>\u001b[0;34m\u001b[0m\n\u001b[1;32m      1\u001b[0m \u001b[0;32mimport\u001b[0m \u001b[0msklearn\u001b[0m\u001b[0;34m\u001b[0m\u001b[0;34m\u001b[0m\u001b[0m\n\u001b[0;32m----> 2\u001b[0;31m \u001b[0mscores\u001b[0m\u001b[0;34m=\u001b[0m\u001b[0mcross_val_score\u001b[0m\u001b[0;34m(\u001b[0m\u001b[0mlm\u001b[0m\u001b[0;34m,\u001b[0m\u001b[0mX_train\u001b[0m\u001b[0;34m,\u001b[0m\u001b[0my_train\u001b[0m\u001b[0;34m,\u001b[0m \u001b[0mscoring\u001b[0m\u001b[0;34m=\u001b[0m\u001b[0;34m'r2'\u001b[0m\u001b[0;34m,\u001b[0m\u001b[0mcv\u001b[0m\u001b[0;34m=\u001b[0m\u001b[0;36m5\u001b[0m\u001b[0;34m)\u001b[0m\u001b[0;34m\u001b[0m\u001b[0;34m\u001b[0m\u001b[0m\n\u001b[0m",
      "\u001b[0;31mNameError\u001b[0m: name 'cross_val_score' is not defined"
     ]
    }
   ],
   "source": [
    "import sklearn\n",
    "scores=cross_val_score(lm,X_train,y_train, scoring='r2',cv=5)"
   ]
  },
  {
   "cell_type": "code",
   "execution_count": null,
   "metadata": {},
   "outputs": [],
   "source": []
  }
 ],
 "metadata": {
  "kernelspec": {
   "display_name": "Python 3",
   "language": "python",
   "name": "python3"
  },
  "language_info": {
   "codemirror_mode": {
    "name": "ipython",
    "version": 3
   },
   "file_extension": ".py",
   "mimetype": "text/x-python",
   "name": "python",
   "nbconvert_exporter": "python",
   "pygments_lexer": "ipython3",
   "version": "3.6.7"
  }
 },
 "nbformat": 4,
 "nbformat_minor": 2
}
